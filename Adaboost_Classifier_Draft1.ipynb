{
 "cells": [
  {
   "cell_type": "code",
   "execution_count": 1,
   "metadata": {},
   "outputs": [],
   "source": [
    "import pandas as pd\n",
    "import numpy as np\n",
    "import seaborn as sns\n",
    "import matplotlib.pyplot as plt\n",
    "import datetime\n",
    "from datetime import date"
   ]
  },
  {
   "cell_type": "code",
   "execution_count": 2,
   "metadata": {},
   "outputs": [],
   "source": [
    "df_train=pd.read_csv('train.csv')"
   ]
  },
  {
   "cell_type": "code",
   "execution_count": 3,
   "metadata": {},
   "outputs": [],
   "source": [
    "df_train=df_train.dropna()"
   ]
  },
  {
   "cell_type": "code",
   "execution_count": 4,
   "metadata": {},
   "outputs": [
    {
     "data": {
      "text/plain": [
       "(225493, 41)"
      ]
     },
     "execution_count": 4,
     "metadata": {},
     "output_type": "execute_result"
    }
   ],
   "source": [
    "df_train.shape"
   ]
  },
  {
   "cell_type": "code",
   "execution_count": 5,
   "metadata": {},
   "outputs": [
    {
     "data": {
      "text/plain": [
       "(225493, 41)"
      ]
     },
     "execution_count": 5,
     "metadata": {},
     "output_type": "execute_result"
    }
   ],
   "source": [
    "df_train.shape"
   ]
  },
  {
   "cell_type": "code",
   "execution_count": 6,
   "metadata": {},
   "outputs": [
    {
     "data": {
      "text/plain": [
       "Index(['Date.of.Birth', 'Employment.Type', 'DisbursalDate',\n",
       "       'PERFORM_CNS.SCORE.DESCRIPTION', 'AVERAGE.ACCT.AGE',\n",
       "       'CREDIT.HISTORY.LENGTH'],\n",
       "      dtype='object')"
      ]
     },
     "execution_count": 6,
     "metadata": {},
     "output_type": "execute_result"
    }
   ],
   "source": [
    "df_train.select_dtypes('object').columns"
   ]
  },
  {
   "cell_type": "code",
   "execution_count": 7,
   "metadata": {},
   "outputs": [],
   "source": [
    "def cns_desc(x):\n",
    "    if x<300:\n",
    "        return 0\n",
    "    elif (x>=300) and (x<=350):\n",
    "        return 1\n",
    "    elif (x>350) and (x<=570):\n",
    "        return 2\n",
    "    elif (x>570) and (x<=630):\n",
    "        return 3\n",
    "    elif (x>630) and (x<=705):\n",
    "        return 4\n",
    "    else:\n",
    "        return 5"
   ]
  },
  {
   "cell_type": "code",
   "execution_count": 8,
   "metadata": {},
   "outputs": [],
   "source": [
    "def fix_date(x):\n",
    "\n",
    "    if x.year >= 2049:\n",
    "        year = x.year - 100\n",
    "    else:\n",
    "        year = x.year\n",
    "    return datetime.date(year,x.month,x.day)\n",
    "df_train[\"Date.of.Birth\"]=pd.to_datetime(df_train[\"Date.of.Birth\"])\n",
    "df_train[\"Date.of.Birth\"] = df_train[\"Date.of.Birth\"].apply(fix_date)\n",
    "\n"
   ]
  },
  {
   "cell_type": "code",
   "execution_count": 9,
   "metadata": {},
   "outputs": [],
   "source": [
    "df_train[\"Date.of.Birth\"]=pd.to_datetime(df_train[\"Date.of.Birth\"])\n",
    "\n",
    "df_train[\"DisbursalDate\"]=pd.to_datetime(df_train[\"DisbursalDate\"])\n",
    "df_train[\"DisbursalDate_Month\"]=df_train[\"DisbursalDate\"].dt.month\n",
    "\n",
    "df_train[\"Age_at_disbursement\"]=((df_train['DisbursalDate']-df_train[\"Date.of.Birth\"])/365).apply(lambda x:x.days)\n",
    "\n",
    "df_train[\"Employment.Type\"]=df_train[\"Employment.Type\"].map({'Salaried':0,\"Self employed\":1,np.nan:2})\n",
    "\n",
    "df_train[\"PERFORM_CNS.SCORE.DESCRIPTION\"]=df_train[\"PERFORM_CNS.SCORE\"].apply(cns_desc)\n",
    "\n",
    "df_train[\"AVERAGE.ACCT.AGE\"]=df_train[\"AVERAGE.ACCT.AGE\"].apply(lambda x:(int((x.split(\"y\"))[0])*12)+(int((x.split())[1].split(\"m\")[0])))\n",
    "\n",
    "df_train[\"CREDIT.HISTORY.LENGTH\"]=df_train[\"CREDIT.HISTORY.LENGTH\"].apply(lambda x:(int((x.split(\"y\"))[0])*12)+(int((x.split())[1].split(\"m\")[0])))"
   ]
  },
  {
   "cell_type": "code",
   "execution_count": 10,
   "metadata": {},
   "outputs": [],
   "source": [
    "df_train['NO.OF.ACCTS']=df_train['PRI.NO.OF.ACCTS']+df_train['SEC.NO.OF.ACCTS']\n",
    "df_train['ACTIVE.ACCTS']=df_train['PRI.ACTIVE.ACCTS']+df_train['SEC.ACTIVE.ACCTS']\n",
    "df_train['OVERDUE.ACCTS']=df_train['PRI.OVERDUE.ACCTS']+df_train['SEC.OVERDUE.ACCTS']\n",
    "df_train['CURRENT.BALANCE']=df_train['PRI.CURRENT.BALANCE']+df_train['SEC.CURRENT.BALANCE']\n",
    "df_train['SANCTIONED.AMOUNT']=df_train['PRI.SANCTIONED.AMOUNT']+df_train['SEC.SANCTIONED.AMOUNT']\n",
    "df_train['DISBURSED.AMOUNT']=df_train['PRI.DISBURSED.AMOUNT']+df_train['SEC.DISBURSED.AMOUNT']\n",
    "df_train['INSTAL.AMT']=df_train['PRIMARY.INSTAL.AMT']+df_train['SEC.INSTAL.AMT']\n",
    "\n",
    "df_train=df_train.drop(['PRI.NO.OF.ACCTS','SEC.NO.OF.ACCTS','PRI.ACTIVE.ACCTS','SEC.ACTIVE.ACCTS','PRI.OVERDUE.ACCTS','SEC.OVERDUE.ACCTS','PRI.CURRENT.BALANCE','SEC.CURRENT.BALANCE','PRI.SANCTIONED.AMOUNT','SEC.SANCTIONED.AMOUNT','PRI.DISBURSED.AMOUNT','SEC.DISBURSED.AMOUNT','PRIMARY.INSTAL.AMT','SEC.INSTAL.AMT'],axis=1)"
   ]
  },
  {
   "cell_type": "code",
   "execution_count": 11,
   "metadata": {},
   "outputs": [],
   "source": [
    "df_train=df_train.drop(columns=['Date.of.Birth',\"DisbursalDate\"])"
   ]
  },
  {
   "cell_type": "code",
   "execution_count": 12,
   "metadata": {},
   "outputs": [
    {
     "data": {
      "text/html": [
       "<div>\n",
       "<style scoped>\n",
       "    .dataframe tbody tr th:only-of-type {\n",
       "        vertical-align: middle;\n",
       "    }\n",
       "\n",
       "    .dataframe tbody tr th {\n",
       "        vertical-align: top;\n",
       "    }\n",
       "\n",
       "    .dataframe thead th {\n",
       "        text-align: right;\n",
       "    }\n",
       "</style>\n",
       "<table border=\"1\" class=\"dataframe\">\n",
       "  <thead>\n",
       "    <tr style=\"text-align: right;\">\n",
       "      <th></th>\n",
       "      <th>UniqueID</th>\n",
       "      <th>disbursed_amount</th>\n",
       "      <th>asset_cost</th>\n",
       "      <th>ltv</th>\n",
       "      <th>branch_id</th>\n",
       "      <th>supplier_id</th>\n",
       "      <th>manufacturer_id</th>\n",
       "      <th>Current_pincode_ID</th>\n",
       "      <th>Employment.Type</th>\n",
       "      <th>State_ID</th>\n",
       "      <th>...</th>\n",
       "      <th>loan_default</th>\n",
       "      <th>DisbursalDate_Month</th>\n",
       "      <th>Age_at_disbursement</th>\n",
       "      <th>NO.OF.ACCTS</th>\n",
       "      <th>ACTIVE.ACCTS</th>\n",
       "      <th>OVERDUE.ACCTS</th>\n",
       "      <th>CURRENT.BALANCE</th>\n",
       "      <th>SANCTIONED.AMOUNT</th>\n",
       "      <th>DISBURSED.AMOUNT</th>\n",
       "      <th>INSTAL.AMT</th>\n",
       "    </tr>\n",
       "  </thead>\n",
       "  <tbody>\n",
       "    <tr>\n",
       "      <th>71593</th>\n",
       "      <td>598208</td>\n",
       "      <td>47773</td>\n",
       "      <td>85964</td>\n",
       "      <td>59.33</td>\n",
       "      <td>20</td>\n",
       "      <td>16700</td>\n",
       "      <td>86</td>\n",
       "      <td>6434</td>\n",
       "      <td>1</td>\n",
       "      <td>5</td>\n",
       "      <td>...</td>\n",
       "      <td>1</td>\n",
       "      <td>10</td>\n",
       "      <td>50</td>\n",
       "      <td>2</td>\n",
       "      <td>1</td>\n",
       "      <td>0</td>\n",
       "      <td>36041</td>\n",
       "      <td>1000000000</td>\n",
       "      <td>1000000000</td>\n",
       "      <td>0</td>\n",
       "    </tr>\n",
       "  </tbody>\n",
       "</table>\n",
       "<p>1 rows × 34 columns</p>\n",
       "</div>"
      ],
      "text/plain": [
       "       UniqueID  disbursed_amount  asset_cost    ltv  branch_id  supplier_id  \\\n",
       "71593    598208             47773       85964  59.33         20        16700   \n",
       "\n",
       "       manufacturer_id  Current_pincode_ID  Employment.Type  State_ID  ...  \\\n",
       "71593               86                6434                1         5  ...   \n",
       "\n",
       "       loan_default  DisbursalDate_Month  Age_at_disbursement  NO.OF.ACCTS  \\\n",
       "71593             1                   10                   50            2   \n",
       "\n",
       "       ACTIVE.ACCTS  OVERDUE.ACCTS  CURRENT.BALANCE  SANCTIONED.AMOUNT  \\\n",
       "71593             1              0            36041         1000000000   \n",
       "\n",
       "       DISBURSED.AMOUNT  INSTAL.AMT  \n",
       "71593        1000000000           0  \n",
       "\n",
       "[1 rows x 34 columns]"
      ]
     },
     "execution_count": 12,
     "metadata": {},
     "output_type": "execute_result"
    }
   ],
   "source": [
    "df_train[df_train['DISBURSED.AMOUNT']==df_train['DISBURSED.AMOUNT'].max()]"
   ]
  },
  {
   "cell_type": "code",
   "execution_count": 13,
   "metadata": {},
   "outputs": [],
   "source": [
    "df_train=df_train.drop([71593])"
   ]
  },
  {
   "cell_type": "code",
   "execution_count": 14,
   "metadata": {},
   "outputs": [
    {
     "data": {
      "text/html": [
       "<div>\n",
       "<style scoped>\n",
       "    .dataframe tbody tr th:only-of-type {\n",
       "        vertical-align: middle;\n",
       "    }\n",
       "\n",
       "    .dataframe tbody tr th {\n",
       "        vertical-align: top;\n",
       "    }\n",
       "\n",
       "    .dataframe thead th {\n",
       "        text-align: right;\n",
       "    }\n",
       "</style>\n",
       "<table border=\"1\" class=\"dataframe\">\n",
       "  <thead>\n",
       "    <tr style=\"text-align: right;\">\n",
       "      <th></th>\n",
       "      <th>UniqueID</th>\n",
       "      <th>disbursed_amount</th>\n",
       "      <th>asset_cost</th>\n",
       "      <th>ltv</th>\n",
       "      <th>branch_id</th>\n",
       "      <th>supplier_id</th>\n",
       "      <th>manufacturer_id</th>\n",
       "      <th>Current_pincode_ID</th>\n",
       "      <th>Employment.Type</th>\n",
       "      <th>State_ID</th>\n",
       "      <th>...</th>\n",
       "      <th>loan_default</th>\n",
       "      <th>DisbursalDate_Month</th>\n",
       "      <th>Age_at_disbursement</th>\n",
       "      <th>NO.OF.ACCTS</th>\n",
       "      <th>ACTIVE.ACCTS</th>\n",
       "      <th>OVERDUE.ACCTS</th>\n",
       "      <th>CURRENT.BALANCE</th>\n",
       "      <th>SANCTIONED.AMOUNT</th>\n",
       "      <th>DISBURSED.AMOUNT</th>\n",
       "      <th>INSTAL.AMT</th>\n",
       "    </tr>\n",
       "  </thead>\n",
       "  <tbody>\n",
       "    <tr>\n",
       "      <th>0</th>\n",
       "      <td>420825</td>\n",
       "      <td>50578</td>\n",
       "      <td>58400</td>\n",
       "      <td>89.55</td>\n",
       "      <td>67</td>\n",
       "      <td>22807</td>\n",
       "      <td>45</td>\n",
       "      <td>1441</td>\n",
       "      <td>0</td>\n",
       "      <td>6</td>\n",
       "      <td>...</td>\n",
       "      <td>0</td>\n",
       "      <td>3</td>\n",
       "      <td>34</td>\n",
       "      <td>0</td>\n",
       "      <td>0</td>\n",
       "      <td>0</td>\n",
       "      <td>0</td>\n",
       "      <td>0</td>\n",
       "      <td>0</td>\n",
       "      <td>0</td>\n",
       "    </tr>\n",
       "    <tr>\n",
       "      <th>1</th>\n",
       "      <td>537409</td>\n",
       "      <td>47145</td>\n",
       "      <td>65550</td>\n",
       "      <td>73.23</td>\n",
       "      <td>67</td>\n",
       "      <td>22807</td>\n",
       "      <td>45</td>\n",
       "      <td>1502</td>\n",
       "      <td>1</td>\n",
       "      <td>6</td>\n",
       "      <td>...</td>\n",
       "      <td>1</td>\n",
       "      <td>9</td>\n",
       "      <td>33</td>\n",
       "      <td>1</td>\n",
       "      <td>1</td>\n",
       "      <td>1</td>\n",
       "      <td>27600</td>\n",
       "      <td>50200</td>\n",
       "      <td>50200</td>\n",
       "      <td>1991</td>\n",
       "    </tr>\n",
       "    <tr>\n",
       "      <th>2</th>\n",
       "      <td>417566</td>\n",
       "      <td>53278</td>\n",
       "      <td>61360</td>\n",
       "      <td>89.63</td>\n",
       "      <td>67</td>\n",
       "      <td>22807</td>\n",
       "      <td>45</td>\n",
       "      <td>1497</td>\n",
       "      <td>1</td>\n",
       "      <td>6</td>\n",
       "      <td>...</td>\n",
       "      <td>0</td>\n",
       "      <td>1</td>\n",
       "      <td>32</td>\n",
       "      <td>0</td>\n",
       "      <td>0</td>\n",
       "      <td>0</td>\n",
       "      <td>0</td>\n",
       "      <td>0</td>\n",
       "      <td>0</td>\n",
       "      <td>0</td>\n",
       "    </tr>\n",
       "    <tr>\n",
       "      <th>3</th>\n",
       "      <td>624493</td>\n",
       "      <td>57513</td>\n",
       "      <td>66113</td>\n",
       "      <td>88.48</td>\n",
       "      <td>67</td>\n",
       "      <td>22807</td>\n",
       "      <td>45</td>\n",
       "      <td>1501</td>\n",
       "      <td>1</td>\n",
       "      <td>6</td>\n",
       "      <td>...</td>\n",
       "      <td>1</td>\n",
       "      <td>10</td>\n",
       "      <td>24</td>\n",
       "      <td>3</td>\n",
       "      <td>0</td>\n",
       "      <td>0</td>\n",
       "      <td>0</td>\n",
       "      <td>0</td>\n",
       "      <td>0</td>\n",
       "      <td>31</td>\n",
       "    </tr>\n",
       "    <tr>\n",
       "      <th>4</th>\n",
       "      <td>539055</td>\n",
       "      <td>52378</td>\n",
       "      <td>60300</td>\n",
       "      <td>88.39</td>\n",
       "      <td>67</td>\n",
       "      <td>22807</td>\n",
       "      <td>45</td>\n",
       "      <td>1495</td>\n",
       "      <td>1</td>\n",
       "      <td>6</td>\n",
       "      <td>...</td>\n",
       "      <td>1</td>\n",
       "      <td>9</td>\n",
       "      <td>41</td>\n",
       "      <td>0</td>\n",
       "      <td>0</td>\n",
       "      <td>0</td>\n",
       "      <td>0</td>\n",
       "      <td>0</td>\n",
       "      <td>0</td>\n",
       "      <td>0</td>\n",
       "    </tr>\n",
       "  </tbody>\n",
       "</table>\n",
       "<p>5 rows × 34 columns</p>\n",
       "</div>"
      ],
      "text/plain": [
       "   UniqueID  disbursed_amount  asset_cost    ltv  branch_id  supplier_id  \\\n",
       "0    420825             50578       58400  89.55         67        22807   \n",
       "1    537409             47145       65550  73.23         67        22807   \n",
       "2    417566             53278       61360  89.63         67        22807   \n",
       "3    624493             57513       66113  88.48         67        22807   \n",
       "4    539055             52378       60300  88.39         67        22807   \n",
       "\n",
       "   manufacturer_id  Current_pincode_ID  Employment.Type  State_ID  ...  \\\n",
       "0               45                1441                0         6  ...   \n",
       "1               45                1502                1         6  ...   \n",
       "2               45                1497                1         6  ...   \n",
       "3               45                1501                1         6  ...   \n",
       "4               45                1495                1         6  ...   \n",
       "\n",
       "   loan_default  DisbursalDate_Month  Age_at_disbursement  NO.OF.ACCTS  \\\n",
       "0             0                    3                   34            0   \n",
       "1             1                    9                   33            1   \n",
       "2             0                    1                   32            0   \n",
       "3             1                   10                   24            3   \n",
       "4             1                    9                   41            0   \n",
       "\n",
       "   ACTIVE.ACCTS  OVERDUE.ACCTS  CURRENT.BALANCE  SANCTIONED.AMOUNT  \\\n",
       "0             0              0                0                  0   \n",
       "1             1              1            27600              50200   \n",
       "2             0              0                0                  0   \n",
       "3             0              0                0                  0   \n",
       "4             0              0                0                  0   \n",
       "\n",
       "   DISBURSED.AMOUNT  INSTAL.AMT  \n",
       "0                 0           0  \n",
       "1             50200        1991  \n",
       "2                 0           0  \n",
       "3                 0          31  \n",
       "4                 0           0  \n",
       "\n",
       "[5 rows x 34 columns]"
      ]
     },
     "execution_count": 14,
     "metadata": {},
     "output_type": "execute_result"
    }
   ],
   "source": [
    "df_train.head()"
   ]
  },
  {
   "cell_type": "code",
   "execution_count": 15,
   "metadata": {},
   "outputs": [],
   "source": [
    "from sklearn.ensemble import AdaBoostClassifier\n",
    "from sklearn.model_selection import KFold,cross_val_score"
   ]
  },
  {
   "cell_type": "code",
   "execution_count": 16,
   "metadata": {},
   "outputs": [],
   "source": [
    "X=df_train.drop(['loan_default'],axis=1)\n",
    "y=df_train['loan_default']"
   ]
  },
  {
   "cell_type": "code",
   "execution_count": 18,
   "metadata": {},
   "outputs": [],
   "source": [
    "X=X.drop(['UniqueID'],axis=1)"
   ]
  },
  {
   "cell_type": "markdown",
   "metadata": {},
   "source": [
    "### Model performance without Tuning"
   ]
  },
  {
   "cell_type": "code",
   "execution_count": 22,
   "metadata": {},
   "outputs": [],
   "source": [
    "adc=AdaBoostClassifier()\n",
    "kfold=KFold(n_splits=5, shuffle=True, random_state=1)\n",
    "scores=cross_val_score(adc,X,y,cv=kfold,scoring='roc_auc',n_jobs=-1)"
   ]
  },
  {
   "cell_type": "code",
   "execution_count": 23,
   "metadata": {
    "scrolled": true
   },
   "outputs": [
    {
     "name": "stdout",
     "output_type": "stream",
     "text": [
      "bias error 0.6488453115562705\n"
     ]
    }
   ],
   "source": [
    "print(f'bias error',np.mean(scores))"
   ]
  },
  {
   "cell_type": "code",
   "execution_count": 24,
   "metadata": {},
   "outputs": [
    {
     "name": "stdout",
     "output_type": "stream",
     "text": [
      "varaince error 0.0023429983277675026\n"
     ]
    }
   ],
   "source": [
    "print(f'varaince error',np.std(scores,ddof=1))"
   ]
  },
  {
   "cell_type": "markdown",
   "metadata": {},
   "source": [
    "### Model performance with Tuning"
   ]
  },
  {
   "cell_type": "code",
   "execution_count": null,
   "metadata": {},
   "outputs": [
    {
     "name": "stdout",
     "output_type": "stream",
     "text": [
      "700\n"
     ]
    }
   ],
   "source": [
    "for i in np.arange(700,1000,100):\n",
    "    print(i)\n",
    "    adc=AdaBoostClassifier(n_estimators=i,random_state=1)\n",
    "    kfold=KFold(n_splits=5, shuffle=True, random_state=1)\n",
    "    scores=cross_val_score(adc,X,y,cv=kfold,scoring='roc_auc',n_jobs=-1)\n",
    "    print(f'bias error',np.mean(scores))\n",
    "    print(f'varaince error',np.std(scores,ddof=1))\n",
    "    print(scores)"
   ]
  },
  {
   "cell_type": "code",
   "execution_count": 21,
   "metadata": {},
   "outputs": [
    {
     "name": "stdout",
     "output_type": "stream",
     "text": [
      "400\n",
      "bias error 0.6580672508995671\n",
      "varaince error 0.002111322804662625\n",
      "[0.65514308 0.66105297 0.65851403 0.65794848 0.6576777 ]\n"
     ]
    }
   ],
   "source": [
    "for i in [400]:\n",
    "    print(i)\n",
    "    adc=AdaBoostClassifier(n_estimators=i,random_state=1)\n",
    "    kfold=KFold(n_splits=5, shuffle=True, random_state=1)\n",
    "    scores=cross_val_score(adc,X,y,cv=kfold,scoring='roc_auc',n_jobs=-1)\n",
    "    print(f'bias error',np.mean(scores))\n",
    "    print(f'varaince error',np.std(scores,ddof=1))\n",
    "    print(scores)"
   ]
  },
  {
   "cell_type": "code",
   "execution_count": null,
   "metadata": {},
   "outputs": [],
   "source": [
    "LD()"
   ]
  }
 ],
 "metadata": {
  "kernelspec": {
   "display_name": "Python 3",
   "language": "python",
   "name": "python3"
  },
  "language_info": {
   "codemirror_mode": {
    "name": "ipython",
    "version": 3
   },
   "file_extension": ".py",
   "mimetype": "text/x-python",
   "name": "python",
   "nbconvert_exporter": "python",
   "pygments_lexer": "ipython3",
   "version": "3.7.4"
  }
 },
 "nbformat": 4,
 "nbformat_minor": 4
}
