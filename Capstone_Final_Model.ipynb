{
 "cells": [
  {
   "cell_type": "code",
   "execution_count": 35,
   "metadata": {},
   "outputs": [],
   "source": [
    "import pandas as pd\n",
    "import numpy as np\n",
    "import seaborn as sns\n",
    "import matplotlib.pyplot as plt\n",
    "import datetime\n",
    "from datetime import date"
   ]
  },
  {
   "cell_type": "code",
   "execution_count": 36,
   "metadata": {},
   "outputs": [],
   "source": [
    "df_train=pd.read_csv('train.csv')"
   ]
  },
  {
   "cell_type": "code",
   "execution_count": 37,
   "metadata": {},
   "outputs": [],
   "source": [
    "df_train=df_train.dropna()"
   ]
  },
  {
   "cell_type": "code",
   "execution_count": 38,
   "metadata": {},
   "outputs": [
    {
     "data": {
      "text/plain": [
       "(225493, 41)"
      ]
     },
     "execution_count": 38,
     "metadata": {},
     "output_type": "execute_result"
    }
   ],
   "source": [
    "df_train.shape"
   ]
  },
  {
   "cell_type": "code",
   "execution_count": 39,
   "metadata": {},
   "outputs": [
    {
     "data": {
      "text/plain": [
       "(225493, 41)"
      ]
     },
     "execution_count": 39,
     "metadata": {},
     "output_type": "execute_result"
    }
   ],
   "source": [
    "df_train.shape"
   ]
  },
  {
   "cell_type": "code",
   "execution_count": 40,
   "metadata": {},
   "outputs": [
    {
     "data": {
      "text/plain": [
       "Index(['Date.of.Birth', 'Employment.Type', 'DisbursalDate',\n",
       "       'PERFORM_CNS.SCORE.DESCRIPTION', 'AVERAGE.ACCT.AGE',\n",
       "       'CREDIT.HISTORY.LENGTH'],\n",
       "      dtype='object')"
      ]
     },
     "execution_count": 40,
     "metadata": {},
     "output_type": "execute_result"
    }
   ],
   "source": [
    "df_train.select_dtypes('object').columns"
   ]
  },
  {
   "cell_type": "code",
   "execution_count": 41,
   "metadata": {},
   "outputs": [],
   "source": [
    "def cns_desc(x):\n",
    "    if x<300:\n",
    "        return 0\n",
    "    elif (x>=300) and (x<=350):\n",
    "        return 1\n",
    "    elif (x>350) and (x<=570):\n",
    "        return 2\n",
    "    elif (x>570) and (x<=630):\n",
    "        return 3\n",
    "    elif (x>630) and (x<=705):\n",
    "        return 4\n",
    "    else:\n",
    "        return 5"
   ]
  },
  {
   "cell_type": "code",
   "execution_count": 42,
   "metadata": {},
   "outputs": [],
   "source": [
    "def fix_date(x):\n",
    "\n",
    "    if x.year >= 2049:\n",
    "        year = x.year - 100\n",
    "    else:\n",
    "        year = x.year\n",
    "    return datetime.date(year,x.month,x.day)\n",
    "df_train[\"Date.of.Birth\"]=pd.to_datetime(df_train[\"Date.of.Birth\"])\n",
    "df_train[\"Date.of.Birth\"] = df_train[\"Date.of.Birth\"].apply(fix_date)\n",
    "\n"
   ]
  },
  {
   "cell_type": "code",
   "execution_count": 43,
   "metadata": {},
   "outputs": [],
   "source": [
    "df_train[\"Date.of.Birth\"]=pd.to_datetime(df_train[\"Date.of.Birth\"])\n",
    "\n",
    "df_train[\"DisbursalDate\"]=pd.to_datetime(df_train[\"DisbursalDate\"])\n",
    "df_train[\"DisbursalDate_Month\"]=df_train[\"DisbursalDate\"].dt.month\n",
    "\n",
    "df_train[\"Age_at_disbursement\"]=((df_train['DisbursalDate']-df_train[\"Date.of.Birth\"])/365).apply(lambda x:x.days)\n",
    "\n",
    "df_train[\"Employment.Type\"]=df_train[\"Employment.Type\"].map({'Salaried':0,\"Self employed\":1,np.nan:2})\n",
    "\n",
    "df_train[\"PERFORM_CNS.SCORE.DESCRIPTION\"]=df_train[\"PERFORM_CNS.SCORE\"].apply(cns_desc)\n",
    "\n",
    "df_train[\"AVERAGE.ACCT.AGE\"]=df_train[\"AVERAGE.ACCT.AGE\"].apply(lambda x:(int((x.split(\"y\"))[0])*12)+(int((x.split())[1].split(\"m\")[0])))\n",
    "\n",
    "df_train[\"CREDIT.HISTORY.LENGTH\"]=df_train[\"CREDIT.HISTORY.LENGTH\"].apply(lambda x:(int((x.split(\"y\"))[0])*12)+(int((x.split())[1].split(\"m\")[0])))"
   ]
  },
  {
   "cell_type": "code",
   "execution_count": 44,
   "metadata": {},
   "outputs": [],
   "source": [
    "df_train['NO.OF.ACCTS']=df_train['PRI.NO.OF.ACCTS']+df_train['SEC.NO.OF.ACCTS']\n",
    "df_train['ACTIVE.ACCTS']=df_train['PRI.ACTIVE.ACCTS']+df_train['SEC.ACTIVE.ACCTS']\n",
    "df_train['OVERDUE.ACCTS']=df_train['PRI.OVERDUE.ACCTS']+df_train['SEC.OVERDUE.ACCTS']\n",
    "df_train['CURRENT.BALANCE']=df_train['PRI.CURRENT.BALANCE']+df_train['SEC.CURRENT.BALANCE']\n",
    "df_train['SANCTIONED.AMOUNT']=df_train['PRI.SANCTIONED.AMOUNT']+df_train['SEC.SANCTIONED.AMOUNT']\n",
    "df_train['DISBURSED.AMOUNT']=df_train['PRI.DISBURSED.AMOUNT']+df_train['SEC.DISBURSED.AMOUNT']\n",
    "df_train['INSTAL.AMT']=df_train['PRIMARY.INSTAL.AMT']+df_train['SEC.INSTAL.AMT']\n",
    "\n",
    "df_train=df_train.drop(['PRI.NO.OF.ACCTS','SEC.NO.OF.ACCTS','PRI.ACTIVE.ACCTS','SEC.ACTIVE.ACCTS','PRI.OVERDUE.ACCTS','SEC.OVERDUE.ACCTS','PRI.CURRENT.BALANCE','SEC.CURRENT.BALANCE','PRI.SANCTIONED.AMOUNT','SEC.SANCTIONED.AMOUNT','PRI.DISBURSED.AMOUNT','SEC.DISBURSED.AMOUNT','PRIMARY.INSTAL.AMT','SEC.INSTAL.AMT'],axis=1)"
   ]
  },
  {
   "cell_type": "code",
   "execution_count": 45,
   "metadata": {},
   "outputs": [],
   "source": [
    "df_train=df_train.drop(columns=['Date.of.Birth',\"DisbursalDate\"])"
   ]
  },
  {
   "cell_type": "code",
   "execution_count": 46,
   "metadata": {},
   "outputs": [
    {
     "data": {
      "text/html": [
       "<div>\n",
       "<style scoped>\n",
       "    .dataframe tbody tr th:only-of-type {\n",
       "        vertical-align: middle;\n",
       "    }\n",
       "\n",
       "    .dataframe tbody tr th {\n",
       "        vertical-align: top;\n",
       "    }\n",
       "\n",
       "    .dataframe thead th {\n",
       "        text-align: right;\n",
       "    }\n",
       "</style>\n",
       "<table border=\"1\" class=\"dataframe\">\n",
       "  <thead>\n",
       "    <tr style=\"text-align: right;\">\n",
       "      <th></th>\n",
       "      <th>UniqueID</th>\n",
       "      <th>disbursed_amount</th>\n",
       "      <th>asset_cost</th>\n",
       "      <th>ltv</th>\n",
       "      <th>branch_id</th>\n",
       "      <th>supplier_id</th>\n",
       "      <th>manufacturer_id</th>\n",
       "      <th>Current_pincode_ID</th>\n",
       "      <th>Employment.Type</th>\n",
       "      <th>State_ID</th>\n",
       "      <th>...</th>\n",
       "      <th>loan_default</th>\n",
       "      <th>DisbursalDate_Month</th>\n",
       "      <th>Age_at_disbursement</th>\n",
       "      <th>NO.OF.ACCTS</th>\n",
       "      <th>ACTIVE.ACCTS</th>\n",
       "      <th>OVERDUE.ACCTS</th>\n",
       "      <th>CURRENT.BALANCE</th>\n",
       "      <th>SANCTIONED.AMOUNT</th>\n",
       "      <th>DISBURSED.AMOUNT</th>\n",
       "      <th>INSTAL.AMT</th>\n",
       "    </tr>\n",
       "  </thead>\n",
       "  <tbody>\n",
       "    <tr>\n",
       "      <th>71593</th>\n",
       "      <td>598208</td>\n",
       "      <td>47773</td>\n",
       "      <td>85964</td>\n",
       "      <td>59.33</td>\n",
       "      <td>20</td>\n",
       "      <td>16700</td>\n",
       "      <td>86</td>\n",
       "      <td>6434</td>\n",
       "      <td>1</td>\n",
       "      <td>5</td>\n",
       "      <td>...</td>\n",
       "      <td>1</td>\n",
       "      <td>10</td>\n",
       "      <td>50</td>\n",
       "      <td>2</td>\n",
       "      <td>1</td>\n",
       "      <td>0</td>\n",
       "      <td>36041</td>\n",
       "      <td>1000000000</td>\n",
       "      <td>1000000000</td>\n",
       "      <td>0</td>\n",
       "    </tr>\n",
       "  </tbody>\n",
       "</table>\n",
       "<p>1 rows × 34 columns</p>\n",
       "</div>"
      ],
      "text/plain": [
       "       UniqueID  disbursed_amount  asset_cost    ltv  branch_id  supplier_id  \\\n",
       "71593    598208             47773       85964  59.33         20        16700   \n",
       "\n",
       "       manufacturer_id  Current_pincode_ID  Employment.Type  State_ID  ...  \\\n",
       "71593               86                6434                1         5  ...   \n",
       "\n",
       "       loan_default  DisbursalDate_Month  Age_at_disbursement  NO.OF.ACCTS  \\\n",
       "71593             1                   10                   50            2   \n",
       "\n",
       "       ACTIVE.ACCTS  OVERDUE.ACCTS  CURRENT.BALANCE  SANCTIONED.AMOUNT  \\\n",
       "71593             1              0            36041         1000000000   \n",
       "\n",
       "       DISBURSED.AMOUNT  INSTAL.AMT  \n",
       "71593        1000000000           0  \n",
       "\n",
       "[1 rows x 34 columns]"
      ]
     },
     "execution_count": 46,
     "metadata": {},
     "output_type": "execute_result"
    }
   ],
   "source": [
    "df_train[df_train['DISBURSED.AMOUNT']==df_train['DISBURSED.AMOUNT'].max()]"
   ]
  },
  {
   "cell_type": "code",
   "execution_count": 47,
   "metadata": {},
   "outputs": [],
   "source": [
    "df_train=df_train.drop([71593])"
   ]
  },
  {
   "cell_type": "code",
   "execution_count": 48,
   "metadata": {},
   "outputs": [
    {
     "data": {
      "text/html": [
       "<div>\n",
       "<style scoped>\n",
       "    .dataframe tbody tr th:only-of-type {\n",
       "        vertical-align: middle;\n",
       "    }\n",
       "\n",
       "    .dataframe tbody tr th {\n",
       "        vertical-align: top;\n",
       "    }\n",
       "\n",
       "    .dataframe thead th {\n",
       "        text-align: right;\n",
       "    }\n",
       "</style>\n",
       "<table border=\"1\" class=\"dataframe\">\n",
       "  <thead>\n",
       "    <tr style=\"text-align: right;\">\n",
       "      <th></th>\n",
       "      <th>UniqueID</th>\n",
       "      <th>disbursed_amount</th>\n",
       "      <th>asset_cost</th>\n",
       "      <th>ltv</th>\n",
       "      <th>branch_id</th>\n",
       "      <th>supplier_id</th>\n",
       "      <th>manufacturer_id</th>\n",
       "      <th>Current_pincode_ID</th>\n",
       "      <th>Employment.Type</th>\n",
       "      <th>State_ID</th>\n",
       "      <th>...</th>\n",
       "      <th>loan_default</th>\n",
       "      <th>DisbursalDate_Month</th>\n",
       "      <th>Age_at_disbursement</th>\n",
       "      <th>NO.OF.ACCTS</th>\n",
       "      <th>ACTIVE.ACCTS</th>\n",
       "      <th>OVERDUE.ACCTS</th>\n",
       "      <th>CURRENT.BALANCE</th>\n",
       "      <th>SANCTIONED.AMOUNT</th>\n",
       "      <th>DISBURSED.AMOUNT</th>\n",
       "      <th>INSTAL.AMT</th>\n",
       "    </tr>\n",
       "  </thead>\n",
       "  <tbody>\n",
       "    <tr>\n",
       "      <th>0</th>\n",
       "      <td>420825</td>\n",
       "      <td>50578</td>\n",
       "      <td>58400</td>\n",
       "      <td>89.55</td>\n",
       "      <td>67</td>\n",
       "      <td>22807</td>\n",
       "      <td>45</td>\n",
       "      <td>1441</td>\n",
       "      <td>0</td>\n",
       "      <td>6</td>\n",
       "      <td>...</td>\n",
       "      <td>0</td>\n",
       "      <td>3</td>\n",
       "      <td>34</td>\n",
       "      <td>0</td>\n",
       "      <td>0</td>\n",
       "      <td>0</td>\n",
       "      <td>0</td>\n",
       "      <td>0</td>\n",
       "      <td>0</td>\n",
       "      <td>0</td>\n",
       "    </tr>\n",
       "    <tr>\n",
       "      <th>1</th>\n",
       "      <td>537409</td>\n",
       "      <td>47145</td>\n",
       "      <td>65550</td>\n",
       "      <td>73.23</td>\n",
       "      <td>67</td>\n",
       "      <td>22807</td>\n",
       "      <td>45</td>\n",
       "      <td>1502</td>\n",
       "      <td>1</td>\n",
       "      <td>6</td>\n",
       "      <td>...</td>\n",
       "      <td>1</td>\n",
       "      <td>9</td>\n",
       "      <td>33</td>\n",
       "      <td>1</td>\n",
       "      <td>1</td>\n",
       "      <td>1</td>\n",
       "      <td>27600</td>\n",
       "      <td>50200</td>\n",
       "      <td>50200</td>\n",
       "      <td>1991</td>\n",
       "    </tr>\n",
       "    <tr>\n",
       "      <th>2</th>\n",
       "      <td>417566</td>\n",
       "      <td>53278</td>\n",
       "      <td>61360</td>\n",
       "      <td>89.63</td>\n",
       "      <td>67</td>\n",
       "      <td>22807</td>\n",
       "      <td>45</td>\n",
       "      <td>1497</td>\n",
       "      <td>1</td>\n",
       "      <td>6</td>\n",
       "      <td>...</td>\n",
       "      <td>0</td>\n",
       "      <td>1</td>\n",
       "      <td>32</td>\n",
       "      <td>0</td>\n",
       "      <td>0</td>\n",
       "      <td>0</td>\n",
       "      <td>0</td>\n",
       "      <td>0</td>\n",
       "      <td>0</td>\n",
       "      <td>0</td>\n",
       "    </tr>\n",
       "    <tr>\n",
       "      <th>3</th>\n",
       "      <td>624493</td>\n",
       "      <td>57513</td>\n",
       "      <td>66113</td>\n",
       "      <td>88.48</td>\n",
       "      <td>67</td>\n",
       "      <td>22807</td>\n",
       "      <td>45</td>\n",
       "      <td>1501</td>\n",
       "      <td>1</td>\n",
       "      <td>6</td>\n",
       "      <td>...</td>\n",
       "      <td>1</td>\n",
       "      <td>10</td>\n",
       "      <td>24</td>\n",
       "      <td>3</td>\n",
       "      <td>0</td>\n",
       "      <td>0</td>\n",
       "      <td>0</td>\n",
       "      <td>0</td>\n",
       "      <td>0</td>\n",
       "      <td>31</td>\n",
       "    </tr>\n",
       "    <tr>\n",
       "      <th>4</th>\n",
       "      <td>539055</td>\n",
       "      <td>52378</td>\n",
       "      <td>60300</td>\n",
       "      <td>88.39</td>\n",
       "      <td>67</td>\n",
       "      <td>22807</td>\n",
       "      <td>45</td>\n",
       "      <td>1495</td>\n",
       "      <td>1</td>\n",
       "      <td>6</td>\n",
       "      <td>...</td>\n",
       "      <td>1</td>\n",
       "      <td>9</td>\n",
       "      <td>41</td>\n",
       "      <td>0</td>\n",
       "      <td>0</td>\n",
       "      <td>0</td>\n",
       "      <td>0</td>\n",
       "      <td>0</td>\n",
       "      <td>0</td>\n",
       "      <td>0</td>\n",
       "    </tr>\n",
       "  </tbody>\n",
       "</table>\n",
       "<p>5 rows × 34 columns</p>\n",
       "</div>"
      ],
      "text/plain": [
       "   UniqueID  disbursed_amount  asset_cost    ltv  branch_id  supplier_id  \\\n",
       "0    420825             50578       58400  89.55         67        22807   \n",
       "1    537409             47145       65550  73.23         67        22807   \n",
       "2    417566             53278       61360  89.63         67        22807   \n",
       "3    624493             57513       66113  88.48         67        22807   \n",
       "4    539055             52378       60300  88.39         67        22807   \n",
       "\n",
       "   manufacturer_id  Current_pincode_ID  Employment.Type  State_ID  ...  \\\n",
       "0               45                1441                0         6  ...   \n",
       "1               45                1502                1         6  ...   \n",
       "2               45                1497                1         6  ...   \n",
       "3               45                1501                1         6  ...   \n",
       "4               45                1495                1         6  ...   \n",
       "\n",
       "   loan_default  DisbursalDate_Month  Age_at_disbursement  NO.OF.ACCTS  \\\n",
       "0             0                    3                   34            0   \n",
       "1             1                    9                   33            1   \n",
       "2             0                    1                   32            0   \n",
       "3             1                   10                   24            3   \n",
       "4             1                    9                   41            0   \n",
       "\n",
       "   ACTIVE.ACCTS  OVERDUE.ACCTS  CURRENT.BALANCE  SANCTIONED.AMOUNT  \\\n",
       "0             0              0                0                  0   \n",
       "1             1              1            27600              50200   \n",
       "2             0              0                0                  0   \n",
       "3             0              0                0                  0   \n",
       "4             0              0                0                  0   \n",
       "\n",
       "   DISBURSED.AMOUNT  INSTAL.AMT  \n",
       "0                 0           0  \n",
       "1             50200        1991  \n",
       "2                 0           0  \n",
       "3                 0          31  \n",
       "4                 0           0  \n",
       "\n",
       "[5 rows x 34 columns]"
      ]
     },
     "execution_count": 48,
     "metadata": {},
     "output_type": "execute_result"
    }
   ],
   "source": [
    "df_train.head()"
   ]
  },
  {
   "cell_type": "code",
   "execution_count": null,
   "metadata": {},
   "outputs": [],
   "source": []
  },
  {
   "cell_type": "code",
   "execution_count": 49,
   "metadata": {},
   "outputs": [],
   "source": [
    "def dummies_top(ld_all,cat_cols):\n",
    "    for col in cat_cols:\n",
    "        freqs=ld_all[col].value_counts()\n",
    "        k=freqs.index[freqs>20][:-1]\n",
    "        for cat in k:\n",
    "            name=col+'_'+str(cat)\n",
    "            ld_all[name]=(ld_all[col]==cat).astype(int)\n",
    "        del ld_all[col]\n",
    "        print(col)"
   ]
  },
  {
   "cell_type": "code",
   "execution_count": 50,
   "metadata": {},
   "outputs": [],
   "source": [
    "# df_train=df_train.drop(columns=['UniqueID','supplier_id','Current_pincode_ID','Employee_code_ID',\"MobileNo_Avl_Flag\"])\n",
    "cols_to_be_dummied=[\"branch_id\",\"State_ID\",\"manufacturer_id\",'Employment.Type','DisbursalDate_Month','PERFORM_CNS.SCORE.DESCRIPTION']\n",
    "\n",
    "df_train=pd.get_dummies(data=df_train,columns=cols_to_be_dummied,drop_first=True)\n",
    "# dummies_top(df_train,cols_to_be_dummied)\n"
   ]
  },
  {
   "cell_type": "code",
   "execution_count": 71,
   "metadata": {},
   "outputs": [],
   "source": [
    "df_train['ltv']=np.square(df_train['ltv'])"
   ]
  },
  {
   "cell_type": "code",
   "execution_count": 72,
   "metadata": {},
   "outputs": [],
   "source": [
    "# from sklearn.preprocessing import OneHotEncoder\n",
    "# for i in ['supplier_id','Current_pincode_ID','Employee_code_ID']:\n",
    "#     one_hot=OneHotEncoder(handle_unknown=\"ignore\",sparse=False)\n",
    "#     dummy_index=df_train[i].value_counts()[:100].index.to_list()\n",
    "#     one_hot.fit(np.array(dummy_index).reshape(-1, 1))\n",
    "#     data_train=one_hot.transform(df_train[i].values.reshape(-1, 1))\n",
    "#     dummy_train=pd.DataFrame(data=data_train,columns=[str(j)+i for j in dummy_index],index=df_train.index)\n",
    "#     df_train=pd.concat([df_train,dummy_train],axis=1)\n"
   ]
  },
  {
   "cell_type": "code",
   "execution_count": 73,
   "metadata": {},
   "outputs": [],
   "source": [
    "list1=['disbursed_amount','asset_cost','PERFORM_CNS.SCORE','NEW.ACCTS.IN.LAST.SIX.MONTHS','DELINQUENT.ACCTS.IN.LAST.SIX.MONTHS','AVERAGE.ACCT.AGE','CREDIT.HISTORY.LENGTH','NO.OF_INQUIRIES','NO.OF.ACCTS','ACTIVE.ACCTS','OVERDUE.ACCTS','CURRENT.BALANCE','SANCTIONED.AMOUNT','DISBURSED.AMOUNT','INSTAL.AMT']"
   ]
  },
  {
   "cell_type": "code",
   "execution_count": 74,
   "metadata": {},
   "outputs": [],
   "source": [
    "from sklearn.preprocessing import MinMaxScaler\n",
    "mn=MinMaxScaler()\n",
    "df_train['CURRENT.BALANCE']=mn.fit_transform(df_train['CURRENT.BALANCE'].values.reshape(-1,1))"
   ]
  },
  {
   "cell_type": "code",
   "execution_count": 75,
   "metadata": {},
   "outputs": [],
   "source": [
    "list_to_apply_log=df_train[list1].skew()[df_train[list1].skew()>2].index"
   ]
  },
  {
   "cell_type": "code",
   "execution_count": 76,
   "metadata": {},
   "outputs": [],
   "source": [
    "for i in list_to_apply_log:\n",
    "    df_train[i]=df_train[i]+1\n",
    "    df_train[i]=np.log(df_train[i])"
   ]
  },
  {
   "cell_type": "code",
   "execution_count": 77,
   "metadata": {},
   "outputs": [
    {
     "data": {
      "text/html": [
       "<div>\n",
       "<style scoped>\n",
       "    .dataframe tbody tr th:only-of-type {\n",
       "        vertical-align: middle;\n",
       "    }\n",
       "\n",
       "    .dataframe tbody tr th {\n",
       "        vertical-align: top;\n",
       "    }\n",
       "\n",
       "    .dataframe thead th {\n",
       "        text-align: right;\n",
       "    }\n",
       "</style>\n",
       "<table border=\"1\" class=\"dataframe\">\n",
       "  <thead>\n",
       "    <tr style=\"text-align: right;\">\n",
       "      <th></th>\n",
       "      <th>UniqueID</th>\n",
       "      <th>disbursed_amount</th>\n",
       "      <th>asset_cost</th>\n",
       "      <th>ltv</th>\n",
       "      <th>supplier_id</th>\n",
       "      <th>Current_pincode_ID</th>\n",
       "      <th>Employee_code_ID</th>\n",
       "      <th>MobileNo_Avl_Flag</th>\n",
       "      <th>Aadhar_flag</th>\n",
       "      <th>PAN_flag</th>\n",
       "      <th>...</th>\n",
       "      <th>DisbursalDate_Month_8</th>\n",
       "      <th>DisbursalDate_Month_9</th>\n",
       "      <th>DisbursalDate_Month_10</th>\n",
       "      <th>DisbursalDate_Month_11</th>\n",
       "      <th>DisbursalDate_Month_12</th>\n",
       "      <th>PERFORM_CNS.SCORE.DESCRIPTION_1</th>\n",
       "      <th>PERFORM_CNS.SCORE.DESCRIPTION_2</th>\n",
       "      <th>PERFORM_CNS.SCORE.DESCRIPTION_3</th>\n",
       "      <th>PERFORM_CNS.SCORE.DESCRIPTION_4</th>\n",
       "      <th>PERFORM_CNS.SCORE.DESCRIPTION_5</th>\n",
       "    </tr>\n",
       "  </thead>\n",
       "  <tbody>\n",
       "    <tr>\n",
       "      <th>0</th>\n",
       "      <td>420825</td>\n",
       "      <td>10.831292</td>\n",
       "      <td>10.975088</td>\n",
       "      <td>8019.2025</td>\n",
       "      <td>22807</td>\n",
       "      <td>1441</td>\n",
       "      <td>1998</td>\n",
       "      <td>1</td>\n",
       "      <td>1</td>\n",
       "      <td>0</td>\n",
       "      <td>...</td>\n",
       "      <td>0</td>\n",
       "      <td>0</td>\n",
       "      <td>0</td>\n",
       "      <td>0</td>\n",
       "      <td>0</td>\n",
       "      <td>0</td>\n",
       "      <td>0</td>\n",
       "      <td>0</td>\n",
       "      <td>0</td>\n",
       "      <td>0</td>\n",
       "    </tr>\n",
       "    <tr>\n",
       "      <th>1</th>\n",
       "      <td>537409</td>\n",
       "      <td>10.761004</td>\n",
       "      <td>11.090584</td>\n",
       "      <td>5362.6329</td>\n",
       "      <td>22807</td>\n",
       "      <td>1502</td>\n",
       "      <td>1998</td>\n",
       "      <td>1</td>\n",
       "      <td>1</td>\n",
       "      <td>0</td>\n",
       "      <td>...</td>\n",
       "      <td>0</td>\n",
       "      <td>1</td>\n",
       "      <td>0</td>\n",
       "      <td>0</td>\n",
       "      <td>0</td>\n",
       "      <td>0</td>\n",
       "      <td>0</td>\n",
       "      <td>1</td>\n",
       "      <td>0</td>\n",
       "      <td>0</td>\n",
       "    </tr>\n",
       "    <tr>\n",
       "      <th>2</th>\n",
       "      <td>417566</td>\n",
       "      <td>10.883298</td>\n",
       "      <td>11.024530</td>\n",
       "      <td>8033.5369</td>\n",
       "      <td>22807</td>\n",
       "      <td>1497</td>\n",
       "      <td>1998</td>\n",
       "      <td>1</td>\n",
       "      <td>1</td>\n",
       "      <td>0</td>\n",
       "      <td>...</td>\n",
       "      <td>0</td>\n",
       "      <td>0</td>\n",
       "      <td>0</td>\n",
       "      <td>0</td>\n",
       "      <td>0</td>\n",
       "      <td>0</td>\n",
       "      <td>0</td>\n",
       "      <td>0</td>\n",
       "      <td>0</td>\n",
       "      <td>0</td>\n",
       "    </tr>\n",
       "    <tr>\n",
       "      <th>3</th>\n",
       "      <td>624493</td>\n",
       "      <td>10.959784</td>\n",
       "      <td>11.099136</td>\n",
       "      <td>7828.7104</td>\n",
       "      <td>22807</td>\n",
       "      <td>1501</td>\n",
       "      <td>1998</td>\n",
       "      <td>1</td>\n",
       "      <td>1</td>\n",
       "      <td>0</td>\n",
       "      <td>...</td>\n",
       "      <td>0</td>\n",
       "      <td>0</td>\n",
       "      <td>1</td>\n",
       "      <td>0</td>\n",
       "      <td>0</td>\n",
       "      <td>1</td>\n",
       "      <td>0</td>\n",
       "      <td>0</td>\n",
       "      <td>0</td>\n",
       "      <td>0</td>\n",
       "    </tr>\n",
       "    <tr>\n",
       "      <th>4</th>\n",
       "      <td>539055</td>\n",
       "      <td>10.866261</td>\n",
       "      <td>11.007104</td>\n",
       "      <td>7812.7921</td>\n",
       "      <td>22807</td>\n",
       "      <td>1495</td>\n",
       "      <td>1998</td>\n",
       "      <td>1</td>\n",
       "      <td>1</td>\n",
       "      <td>0</td>\n",
       "      <td>...</td>\n",
       "      <td>0</td>\n",
       "      <td>1</td>\n",
       "      <td>0</td>\n",
       "      <td>0</td>\n",
       "      <td>0</td>\n",
       "      <td>0</td>\n",
       "      <td>0</td>\n",
       "      <td>0</td>\n",
       "      <td>0</td>\n",
       "      <td>0</td>\n",
       "    </tr>\n",
       "    <tr>\n",
       "      <th>...</th>\n",
       "      <td>...</td>\n",
       "      <td>...</td>\n",
       "      <td>...</td>\n",
       "      <td>...</td>\n",
       "      <td>...</td>\n",
       "      <td>...</td>\n",
       "      <td>...</td>\n",
       "      <td>...</td>\n",
       "      <td>...</td>\n",
       "      <td>...</td>\n",
       "      <td>...</td>\n",
       "      <td>...</td>\n",
       "      <td>...</td>\n",
       "      <td>...</td>\n",
       "      <td>...</td>\n",
       "      <td>...</td>\n",
       "      <td>...</td>\n",
       "      <td>...</td>\n",
       "      <td>...</td>\n",
       "      <td>...</td>\n",
       "      <td>...</td>\n",
       "    </tr>\n",
       "    <tr>\n",
       "      <th>233149</th>\n",
       "      <td>626432</td>\n",
       "      <td>11.054281</td>\n",
       "      <td>11.565575</td>\n",
       "      <td>3686.9184</td>\n",
       "      <td>20700</td>\n",
       "      <td>1050</td>\n",
       "      <td>3705</td>\n",
       "      <td>1</td>\n",
       "      <td>0</td>\n",
       "      <td>0</td>\n",
       "      <td>...</td>\n",
       "      <td>0</td>\n",
       "      <td>0</td>\n",
       "      <td>1</td>\n",
       "      <td>0</td>\n",
       "      <td>0</td>\n",
       "      <td>0</td>\n",
       "      <td>0</td>\n",
       "      <td>0</td>\n",
       "      <td>0</td>\n",
       "      <td>1</td>\n",
       "    </tr>\n",
       "    <tr>\n",
       "      <th>233150</th>\n",
       "      <td>606141</td>\n",
       "      <td>11.207107</td>\n",
       "      <td>11.518917</td>\n",
       "      <td>5617.5025</td>\n",
       "      <td>23775</td>\n",
       "      <td>990</td>\n",
       "      <td>3705</td>\n",
       "      <td>1</td>\n",
       "      <td>0</td>\n",
       "      <td>0</td>\n",
       "      <td>...</td>\n",
       "      <td>0</td>\n",
       "      <td>0</td>\n",
       "      <td>1</td>\n",
       "      <td>0</td>\n",
       "      <td>0</td>\n",
       "      <td>0</td>\n",
       "      <td>0</td>\n",
       "      <td>0</td>\n",
       "      <td>0</td>\n",
       "      <td>1</td>\n",
       "    </tr>\n",
       "    <tr>\n",
       "      <th>233151</th>\n",
       "      <td>613658</td>\n",
       "      <td>10.418853</td>\n",
       "      <td>11.173431</td>\n",
       "      <td>2347.4025</td>\n",
       "      <td>22186</td>\n",
       "      <td>2299</td>\n",
       "      <td>3479</td>\n",
       "      <td>1</td>\n",
       "      <td>1</td>\n",
       "      <td>0</td>\n",
       "      <td>...</td>\n",
       "      <td>0</td>\n",
       "      <td>0</td>\n",
       "      <td>1</td>\n",
       "      <td>0</td>\n",
       "      <td>0</td>\n",
       "      <td>0</td>\n",
       "      <td>0</td>\n",
       "      <td>0</td>\n",
       "      <td>0</td>\n",
       "      <td>0</td>\n",
       "    </tr>\n",
       "    <tr>\n",
       "      <th>233152</th>\n",
       "      <td>548084</td>\n",
       "      <td>10.441734</td>\n",
       "      <td>11.202139</td>\n",
       "      <td>2410.8100</td>\n",
       "      <td>22186</td>\n",
       "      <td>2299</td>\n",
       "      <td>3479</td>\n",
       "      <td>1</td>\n",
       "      <td>1</td>\n",
       "      <td>0</td>\n",
       "      <td>...</td>\n",
       "      <td>0</td>\n",
       "      <td>1</td>\n",
       "      <td>0</td>\n",
       "      <td>0</td>\n",
       "      <td>0</td>\n",
       "      <td>0</td>\n",
       "      <td>0</td>\n",
       "      <td>0</td>\n",
       "      <td>0</td>\n",
       "      <td>0</td>\n",
       "    </tr>\n",
       "    <tr>\n",
       "      <th>233153</th>\n",
       "      <td>630213</td>\n",
       "      <td>11.235220</td>\n",
       "      <td>11.661432</td>\n",
       "      <td>4463.5761</td>\n",
       "      <td>22186</td>\n",
       "      <td>2299</td>\n",
       "      <td>3479</td>\n",
       "      <td>1</td>\n",
       "      <td>1</td>\n",
       "      <td>0</td>\n",
       "      <td>...</td>\n",
       "      <td>0</td>\n",
       "      <td>0</td>\n",
       "      <td>1</td>\n",
       "      <td>0</td>\n",
       "      <td>0</td>\n",
       "      <td>0</td>\n",
       "      <td>0</td>\n",
       "      <td>0</td>\n",
       "      <td>0</td>\n",
       "      <td>0</td>\n",
       "    </tr>\n",
       "  </tbody>\n",
       "</table>\n",
       "<p>225492 rows × 157 columns</p>\n",
       "</div>"
      ],
      "text/plain": [
       "        UniqueID  disbursed_amount  asset_cost        ltv  supplier_id  \\\n",
       "0         420825         10.831292   10.975088  8019.2025        22807   \n",
       "1         537409         10.761004   11.090584  5362.6329        22807   \n",
       "2         417566         10.883298   11.024530  8033.5369        22807   \n",
       "3         624493         10.959784   11.099136  7828.7104        22807   \n",
       "4         539055         10.866261   11.007104  7812.7921        22807   \n",
       "...          ...               ...         ...        ...          ...   \n",
       "233149    626432         11.054281   11.565575  3686.9184        20700   \n",
       "233150    606141         11.207107   11.518917  5617.5025        23775   \n",
       "233151    613658         10.418853   11.173431  2347.4025        22186   \n",
       "233152    548084         10.441734   11.202139  2410.8100        22186   \n",
       "233153    630213         11.235220   11.661432  4463.5761        22186   \n",
       "\n",
       "        Current_pincode_ID  Employee_code_ID  MobileNo_Avl_Flag  Aadhar_flag  \\\n",
       "0                     1441              1998                  1            1   \n",
       "1                     1502              1998                  1            1   \n",
       "2                     1497              1998                  1            1   \n",
       "3                     1501              1998                  1            1   \n",
       "4                     1495              1998                  1            1   \n",
       "...                    ...               ...                ...          ...   \n",
       "233149                1050              3705                  1            0   \n",
       "233150                 990              3705                  1            0   \n",
       "233151                2299              3479                  1            1   \n",
       "233152                2299              3479                  1            1   \n",
       "233153                2299              3479                  1            1   \n",
       "\n",
       "        PAN_flag  ...  DisbursalDate_Month_8  DisbursalDate_Month_9  \\\n",
       "0              0  ...                      0                      0   \n",
       "1              0  ...                      0                      1   \n",
       "2              0  ...                      0                      0   \n",
       "3              0  ...                      0                      0   \n",
       "4              0  ...                      0                      1   \n",
       "...          ...  ...                    ...                    ...   \n",
       "233149         0  ...                      0                      0   \n",
       "233150         0  ...                      0                      0   \n",
       "233151         0  ...                      0                      0   \n",
       "233152         0  ...                      0                      1   \n",
       "233153         0  ...                      0                      0   \n",
       "\n",
       "        DisbursalDate_Month_10  DisbursalDate_Month_11  \\\n",
       "0                            0                       0   \n",
       "1                            0                       0   \n",
       "2                            0                       0   \n",
       "3                            1                       0   \n",
       "4                            0                       0   \n",
       "...                        ...                     ...   \n",
       "233149                       1                       0   \n",
       "233150                       1                       0   \n",
       "233151                       1                       0   \n",
       "233152                       0                       0   \n",
       "233153                       1                       0   \n",
       "\n",
       "        DisbursalDate_Month_12  PERFORM_CNS.SCORE.DESCRIPTION_1  \\\n",
       "0                            0                                0   \n",
       "1                            0                                0   \n",
       "2                            0                                0   \n",
       "3                            0                                1   \n",
       "4                            0                                0   \n",
       "...                        ...                              ...   \n",
       "233149                       0                                0   \n",
       "233150                       0                                0   \n",
       "233151                       0                                0   \n",
       "233152                       0                                0   \n",
       "233153                       0                                0   \n",
       "\n",
       "        PERFORM_CNS.SCORE.DESCRIPTION_2  PERFORM_CNS.SCORE.DESCRIPTION_3  \\\n",
       "0                                     0                                0   \n",
       "1                                     0                                1   \n",
       "2                                     0                                0   \n",
       "3                                     0                                0   \n",
       "4                                     0                                0   \n",
       "...                                 ...                              ...   \n",
       "233149                                0                                0   \n",
       "233150                                0                                0   \n",
       "233151                                0                                0   \n",
       "233152                                0                                0   \n",
       "233153                                0                                0   \n",
       "\n",
       "        PERFORM_CNS.SCORE.DESCRIPTION_4  PERFORM_CNS.SCORE.DESCRIPTION_5  \n",
       "0                                     0                                0  \n",
       "1                                     0                                0  \n",
       "2                                     0                                0  \n",
       "3                                     0                                0  \n",
       "4                                     0                                0  \n",
       "...                                 ...                              ...  \n",
       "233149                                0                                1  \n",
       "233150                                0                                1  \n",
       "233151                                0                                0  \n",
       "233152                                0                                0  \n",
       "233153                                0                                0  \n",
       "\n",
       "[225492 rows x 157 columns]"
      ]
     },
     "execution_count": 77,
     "metadata": {},
     "output_type": "execute_result"
    }
   ],
   "source": [
    "df_train"
   ]
  },
  {
   "cell_type": "code",
   "execution_count": 78,
   "metadata": {},
   "outputs": [],
   "source": [
    "main_cols=['disbursed_amount','asset_cost','PERFORM_CNS.SCORE','NEW.ACCTS.IN.LAST.SIX.MONTHS','DELINQUENT.ACCTS.IN.LAST.SIX.MONTHS','AVERAGE.ACCT.AGE','CREDIT.HISTORY.LENGTH','NO.OF_INQUIRIES','NO.OF.ACCTS','ACTIVE.ACCTS','OVERDUE.ACCTS','CURRENT.BALANCE','SANCTIONED.AMOUNT','DISBURSED.AMOUNT','INSTAL.AMT']"
   ]
  },
  {
   "cell_type": "code",
   "execution_count": 79,
   "metadata": {},
   "outputs": [
    {
     "data": {
      "text/plain": [
       "Index(['UniqueID', 'disbursed_amount', 'asset_cost', 'ltv', 'supplier_id',\n",
       "       'Current_pincode_ID', 'Employee_code_ID', 'MobileNo_Avl_Flag',\n",
       "       'Aadhar_flag', 'PAN_flag',\n",
       "       ...\n",
       "       'DisbursalDate_Month_8', 'DisbursalDate_Month_9',\n",
       "       'DisbursalDate_Month_10', 'DisbursalDate_Month_11',\n",
       "       'DisbursalDate_Month_12', 'PERFORM_CNS.SCORE.DESCRIPTION_1',\n",
       "       'PERFORM_CNS.SCORE.DESCRIPTION_2', 'PERFORM_CNS.SCORE.DESCRIPTION_3',\n",
       "       'PERFORM_CNS.SCORE.DESCRIPTION_4', 'PERFORM_CNS.SCORE.DESCRIPTION_5'],\n",
       "      dtype='object', length=157)"
      ]
     },
     "execution_count": 79,
     "metadata": {},
     "output_type": "execute_result"
    }
   ],
   "source": [
    "df_train.columns"
   ]
  },
  {
   "cell_type": "code",
   "execution_count": 80,
   "metadata": {},
   "outputs": [],
   "source": [
    "from sklearn.preprocessing import MinMaxScaler"
   ]
  },
  {
   "cell_type": "code",
   "execution_count": 81,
   "metadata": {},
   "outputs": [],
   "source": [
    "X=df_train.drop(['loan_default'],axis=1)\n",
    "y=df_train['loan_default']"
   ]
  },
  {
   "cell_type": "code",
   "execution_count": 82,
   "metadata": {},
   "outputs": [],
   "source": [
    "mn=MinMaxScaler()\n",
    "new_X=mn.fit_transform(X)"
   ]
  },
  {
   "cell_type": "code",
   "execution_count": 83,
   "metadata": {},
   "outputs": [],
   "source": [
    "from sklearn.linear_model import LogisticRegression\n",
    "from sklearn.model_selection import cross_val_score,KFold\n",
    "lr=LogisticRegression()"
   ]
  },
  {
   "cell_type": "code",
   "execution_count": 84,
   "metadata": {},
   "outputs": [],
   "source": [
    "from sklearn.decomposition import PCA\n",
    "pca = PCA()\n",
    "new_X = pca.fit_transform(new_X)"
   ]
  },
  {
   "cell_type": "code",
   "execution_count": 85,
   "metadata": {},
   "outputs": [],
   "source": [
    "AB_bias=[]\n",
    "AB_var=[]\n",
    "# for n in np.arange(1,10,3):\n",
    "# for n in [0.0001,0.0006,0.0002]:\n",
    "for i in [5000]:\n",
    "  lr=LogisticRegression(penalty='l2',random_state=1,max_iter=i)\n",
    "  fold=KFold(n_splits=5,shuffle=True, random_state=1)\n",
    "  scores=cross_val_score(lr,new_X,y,cv=fold,scoring='roc_auc',n_jobs=-1)\n",
    "  AB_bias.append(np.mean(scores))\n",
    "  AB_var.append(np.std(scores,ddof=1))"
   ]
  },
  {
   "cell_type": "code",
   "execution_count": 86,
   "metadata": {},
   "outputs": [
    {
     "data": {
      "text/plain": [
       "[0.6556998778814044]"
      ]
     },
     "execution_count": 86,
     "metadata": {},
     "output_type": "execute_result"
    }
   ],
   "source": [
    "AB_bias"
   ]
  },
  {
   "cell_type": "code",
   "execution_count": 87,
   "metadata": {},
   "outputs": [
    {
     "data": {
      "text/plain": [
       "[0.002721030998259189]"
      ]
     },
     "execution_count": 87,
     "metadata": {},
     "output_type": "execute_result"
    }
   ],
   "source": [
    "AB_var"
   ]
  },
  {
   "cell_type": "code",
   "execution_count": 88,
   "metadata": {},
   "outputs": [
    {
     "data": {
      "text/plain": [
       "array([0.65267506, 0.6601115 , 0.65519928, 0.65483203, 0.65568151])"
      ]
     },
     "execution_count": 88,
     "metadata": {},
     "output_type": "execute_result"
    }
   ],
   "source": [
    "scores"
   ]
  },
  {
   "cell_type": "code",
   "execution_count": 89,
   "metadata": {},
   "outputs": [
    {
     "data": {
      "text/plain": [
       "0    0.782848\n",
       "1    0.217152\n",
       "Name: loan_default, dtype: float64"
      ]
     },
     "execution_count": 89,
     "metadata": {},
     "output_type": "execute_result"
    }
   ],
   "source": [
    "df_train['loan_default'].value_counts(normalize=True)"
   ]
  },
  {
   "cell_type": "code",
   "execution_count": 91,
   "metadata": {},
   "outputs": [],
   "source": [
    "from sklearn.model_selection import train_test_split"
   ]
  },
  {
   "cell_type": "code",
   "execution_count": 92,
   "metadata": {},
   "outputs": [],
   "source": [
    "X_train, X_test, y_train, y_test = train_test_split(new_X, y, test_size=0.3, random_state=1)"
   ]
  },
  {
   "cell_type": "code",
   "execution_count": 94,
   "metadata": {},
   "outputs": [
    {
     "data": {
      "text/plain": [
       "LogisticRegression(C=1.0, class_weight=None, dual=False, fit_intercept=True,\n",
       "                   intercept_scaling=1, l1_ratio=None, max_iter=5000,\n",
       "                   multi_class='auto', n_jobs=None, penalty='l2',\n",
       "                   random_state=1, solver='lbfgs', tol=0.0001, verbose=0,\n",
       "                   warm_start=False)"
      ]
     },
     "execution_count": 94,
     "metadata": {},
     "output_type": "execute_result"
    }
   ],
   "source": [
    "lr.fit(X_train,y_train)"
   ]
  },
  {
   "cell_type": "code",
   "execution_count": 95,
   "metadata": {},
   "outputs": [],
   "source": [
    "pred=lr.predict(X_test)"
   ]
  },
  {
   "cell_type": "code",
   "execution_count": 110,
   "metadata": {},
   "outputs": [],
   "source": [
    "from sklearn.metrics import accuracy_score,roc_auc_score,classification_report\n",
    "def model_eval(model,X_train, X_test, y_train, y_test):\n",
    "    model.fit(X_train,y_train)\n",
    "    y_pred=model.predict(X_test)\n",
    "    pred_prob=model.predict_proba(X_test)[:,-1]\n",
    "    print('accuracy:',accuracy_score(y_test, y_pred))\n",
    "    print(classification_report(y_test, y_pred))\n",
    "    print('roc_auc:',roc_auc_score(y_test, pred_prob))   \n",
    "    "
   ]
  },
  {
   "cell_type": "code",
   "execution_count": 111,
   "metadata": {},
   "outputs": [
    {
     "name": "stdout",
     "output_type": "stream",
     "text": [
      "accuracy: 0.7822404210028382\n",
      "              precision    recall  f1-score   support\n",
      "\n",
      "           0       0.78      1.00      0.88     52932\n",
      "           1       0.48      0.01      0.02     14716\n",
      "\n",
      "    accuracy                           0.78     67648\n",
      "   macro avg       0.63      0.50      0.45     67648\n",
      "weighted avg       0.72      0.78      0.69     67648\n",
      "\n",
      "roc_auc: 0.6551383426559665\n"
     ]
    }
   ],
   "source": [
    "model_eval(lr,X_train, X_test, y_train, y_test)"
   ]
  },
  {
   "cell_type": "code",
   "execution_count": null,
   "metadata": {},
   "outputs": [],
   "source": []
  }
 ],
 "metadata": {
  "kernelspec": {
   "display_name": "Python 3",
   "language": "python",
   "name": "python3"
  },
  "language_info": {
   "codemirror_mode": {
    "name": "ipython",
    "version": 3
   },
   "file_extension": ".py",
   "mimetype": "text/x-python",
   "name": "python",
   "nbconvert_exporter": "python",
   "pygments_lexer": "ipython3",
   "version": "3.7.4"
  }
 },
 "nbformat": 4,
 "nbformat_minor": 4
}
