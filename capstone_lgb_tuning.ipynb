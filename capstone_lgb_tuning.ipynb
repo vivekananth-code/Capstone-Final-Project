#

{
 "cells": [
  {
   "cell_type": "code",
   "execution_count": 1,
   "metadata": {
    "colab": {},
    "colab_type": "code",
    "id": "h6xTfIjrHozv"
   },
   "outputs": [],
   "source": [
    "import pandas as pd\n",
    "import numpy as np\n",
    "import matplotlib.pyplot as plt\n",
    "import warnings\n",
    "warnings.filterwarnings(\"ignore\")\n",
    "import seaborn as sns\n",
    "from sklearn.preprocessing import MinMaxScaler\n",
    "from sklearn.preprocessing import StandardScaler\n",
    "from sklearn.model_selection import cross_val_score\n",
    "from sklearn.model_selection import KFold\n",
    "from sklearn.metrics import confusion_matrix,accuracy_score,classification_report,roc_auc_score,roc_curve"
   ]
  },
  {
   "cell_type": "code",
   "execution_count": null,
   "metadata": {
    "colab": {},
    "colab_type": "code",
    "id": "HgmNK9kt4puS"
   },
   "outputs": [],
   "source": []
  },
  {
   "cell_type": "code",
   "execution_count": 2,
   "metadata": {
    "colab": {},
    "colab_type": "code",
    "id": "qsZ2qrmHLL3T"
   },
   "outputs": [],
   "source": [
    "df=pd.read_csv(\"train.csv\")"
   ]
  },
  {
   "cell_type": "code",
   "execution_count": 3,
   "metadata": {
    "colab": {
     "base_uri": "https://localhost:8080/",
     "height": 296
    },
    "colab_type": "code",
    "executionInfo": {
     "elapsed": 1519,
     "status": "ok",
     "timestamp": 1591535234627,
     "user": {
      "displayName": "gokul mahendran",
      "photoUrl": "",
      "userId": "08734118555192468609"
     },
     "user_tz": -330
    },
    "id": "PejC_BjJ40hm",
    "outputId": "d0a00733-0772-4459-ac48-c276f8424331"
   },
   "outputs": [
    {
     "data": {
      "text/plain": [
       "<matplotlib.axes._subplots.AxesSubplot at 0xe5ec055908>"
      ]
     },
     "execution_count": 3,
     "metadata": {},
     "output_type": "execute_result"
    },
    {
     "data": {
      "image/png": "[encoded data removed]",
      "text/plain": [
       "<Figure size 432x288 with 1 Axes>"
      ]
     },
     "metadata": {
      "needs_background": "light"
     },
     "output_type": "display_data"
    }
   ],
   "source": [
    "sns.distplot(df[\"ltv\"])"
   ]
  },
  {
   "cell_type": "code",
   "execution_count": null,
   "metadata": {
    "colab": {
     "base_uri": "https://localhost:8080/",
     "height": 34
    },
    "colab_type": "code",
    "executionInfo": {
     "elapsed": 932,
     "status": "ok",
     "timestamp": 1591535332512,
     "user": {
      "displayName": "gokul mahendran",
      "photoUrl": "",
      "userId": "08734118555192468609"
     },
     "user_tz": -330
    },
    "id": "T7qNmLeF5Z14",
    "outputId": "a3353183-9649-4c8f-a7d3-58bb21c63118"
   },
   "outputs": [
    {
     "data": {
      "text/plain": [
       "1.293927649863921"
      ]
     },
     "execution_count": 16,
     "metadata": {
      "tags": []
     },
     "output_type": "execute_result"
    }
   ],
   "source": [
    "df[\"ltv\"].kurt()"
   ]
  },
  {
   "cell_type": "code",
   "execution_count": null,
   "metadata": {
    "colab": {
     "base_uri": "https://localhost:8080/",
     "height": 296
    },
    "colab_type": "code",
    "executionInfo": {
     "elapsed": 1117,
     "status": "ok",
     "timestamp": 1591535302698,
     "user": {
      "displayName": "gokul mahendran",
      "photoUrl": "",
      "userId": "08734118555192468609"
     },
     "user_tz": -330
    },
    "id": "0nUg2q4E470_",
    "outputId": "0179c45b-e239-455f-ea91-9645e1d94d61"
   },
   "outputs": [
    {
     "data": {
      "text/plain": [
       "<matplotlib.axes._subplots.AxesSubplot at 0x7fe174221630>"
      ]
     },
     "execution_count": 14,
     "metadata": {
      "tags": []
     },
     "output_type": "execute_result"
    },
    {
     "data": {
      "image/png": "[encoded data removed]",
      "text/plain": [
       "<Figure size 432x288 with 1 Axes>"
      ]
     },
     "metadata": {
      "needs_background": "light",
      "tags": []
     },
     "output_type": "display_data"
    }
   ],
   "source": [
    "sns.distplot(np.log(1/df[\"ltv\"]))"
   ]
  },
  {
   "cell_type": "code",
   "execution_count": null,
   "metadata": {
    "colab": {
     "base_uri": "https://localhost:8080/",
     "height": 224
    },
    "colab_type": "code",
    "executionInfo": {
     "elapsed": 681,
     "status": "ok",
     "timestamp": 1591191206961,
     "user": {
      "displayName": "gokul mahendran",
      "photoUrl": "",
      "userId": "08734118555192468609"
     },
     "user_tz": -330
    },
    "id": "xtV2YACqLsAA",
    "outputId": "29d59411-ea23-4e67-c543-335a6deebcd8"
   },
   "outputs": [
    {
     "data": {
      "text/html": [
       "<div>\n",
       "<style scoped>\n",
       "    .dataframe tbody tr th:only-of-type {\n",
       "        vertical-align: middle;\n",
       "    }\n",
       "\n",
       "    .dataframe tbody tr th {\n",
       "        vertical-align: top;\n",
       "    }\n",
       "\n",
       "    .dataframe thead th {\n",
       "        text-align: right;\n",
       "    }\n",
       "</style>\n",
       "<table border=\"1\" class=\"dataframe\">\n",
       "  <thead>\n",
       "    <tr style=\"text-align: right;\">\n",
       "      <th></th>\n",
       "      <th>UniqueID</th>\n",
       "      <th>disbursed_amount</th>\n",
       "      <th>asset_cost</th>\n",
       "      <th>ltv</th>\n",
       "      <th>branch_id</th>\n",
       "      <th>supplier_id</th>\n",
       "      <th>manufacturer_id</th>\n",
       "      <th>Current_pincode_ID</th>\n",
       "      <th>Date.of.Birth</th>\n",
       "      <th>Employment.Type</th>\n",
       "      <th>DisbursalDate</th>\n",
       "      <th>State_ID</th>\n",
       "      <th>Employee_code_ID</th>\n",
       "      <th>MobileNo_Avl_Flag</th>\n",
       "      <th>Aadhar_flag</th>\n",
       "      <th>PAN_flag</th>\n",
       "      <th>VoterID_flag</th>\n",
       "      <th>Driving_flag</th>\n",
       "      <th>Passport_flag</th>\n",
       "      <th>PERFORM_CNS.SCORE</th>\n",
       "      <th>PERFORM_CNS.SCORE.DESCRIPTION</th>\n",
       "      <th>PRI.NO.OF.ACCTS</th>\n",
       "      <th>PRI.ACTIVE.ACCTS</th>\n",
       "      <th>PRI.OVERDUE.ACCTS</th>\n",
       "      <th>PRI.CURRENT.BALANCE</th>\n",
       "      <th>PRI.SANCTIONED.AMOUNT</th>\n",
       "      <th>PRI.DISBURSED.AMOUNT</th>\n",
       "      <th>SEC.NO.OF.ACCTS</th>\n",
       "      <th>SEC.ACTIVE.ACCTS</th>\n",
       "      <th>SEC.OVERDUE.ACCTS</th>\n",
       "      <th>SEC.CURRENT.BALANCE</th>\n",
       "      <th>SEC.SANCTIONED.AMOUNT</th>\n",
       "      <th>SEC.DISBURSED.AMOUNT</th>\n",
       "      <th>PRIMARY.INSTAL.AMT</th>\n",
       "      <th>SEC.INSTAL.AMT</th>\n",
       "      <th>NEW.ACCTS.IN.LAST.SIX.MONTHS</th>\n",
       "      <th>DELINQUENT.ACCTS.IN.LAST.SIX.MONTHS</th>\n",
       "      <th>AVERAGE.ACCT.AGE</th>\n",
       "      <th>CREDIT.HISTORY.LENGTH</th>\n",
       "      <th>NO.OF_INQUIRIES</th>\n",
       "      <th>loan_default</th>\n",
       "    </tr>\n",
       "  </thead>\n",
       "  <tbody>\n",
       "    <tr>\n",
       "      <th>0</th>\n",
       "      <td>420825</td>\n",
       "      <td>50578</td>\n",
       "      <td>58400</td>\n",
       "      <td>89.55</td>\n",
       "      <td>67</td>\n",
       "      <td>22807</td>\n",
       "      <td>45</td>\n",
       "      <td>1441</td>\n",
       "      <td>01-01-1984</td>\n",
       "      <td>Salaried</td>\n",
       "      <td>03-08-2018</td>\n",
       "      <td>6</td>\n",
       "      <td>1998</td>\n",
       "      <td>1</td>\n",
       "      <td>1</td>\n",
       "      <td>0</td>\n",
       "      <td>0</td>\n",
       "      <td>0</td>\n",
       "      <td>0</td>\n",
       "      <td>0</td>\n",
       "      <td>No Bureau History Available</td>\n",
       "      <td>0</td>\n",
       "      <td>0</td>\n",
       "      <td>0</td>\n",
       "      <td>0</td>\n",
       "      <td>0</td>\n",
       "      <td>0</td>\n",
       "      <td>0</td>\n",
       "      <td>0</td>\n",
       "      <td>0</td>\n",
       "      <td>0</td>\n",
       "      <td>0</td>\n",
       "      <td>0</td>\n",
       "      <td>0</td>\n",
       "      <td>0</td>\n",
       "      <td>0</td>\n",
       "      <td>0</td>\n",
       "      <td>0yrs 0mon</td>\n",
       "      <td>0yrs 0mon</td>\n",
       "      <td>0</td>\n",
       "      <td>0</td>\n",
       "    </tr>\n",
       "    <tr>\n",
       "      <th>1</th>\n",
       "      <td>537409</td>\n",
       "      <td>47145</td>\n",
       "      <td>65550</td>\n",
       "      <td>73.23</td>\n",
       "      <td>67</td>\n",
       "      <td>22807</td>\n",
       "      <td>45</td>\n",
       "      <td>1502</td>\n",
       "      <td>31-07-1985</td>\n",
       "      <td>Self employed</td>\n",
       "      <td>26-09-2018</td>\n",
       "      <td>6</td>\n",
       "      <td>1998</td>\n",
       "      <td>1</td>\n",
       "      <td>1</td>\n",
       "      <td>0</td>\n",
       "      <td>0</td>\n",
       "      <td>0</td>\n",
       "      <td>0</td>\n",
       "      <td>598</td>\n",
       "      <td>I-Medium Risk</td>\n",
       "      <td>1</td>\n",
       "      <td>1</td>\n",
       "      <td>1</td>\n",
       "      <td>27600</td>\n",
       "      <td>50200</td>\n",
       "      <td>50200</td>\n",
       "      <td>0</td>\n",
       "      <td>0</td>\n",
       "      <td>0</td>\n",
       "      <td>0</td>\n",
       "      <td>0</td>\n",
       "      <td>0</td>\n",
       "      <td>1991</td>\n",
       "      <td>0</td>\n",
       "      <td>0</td>\n",
       "      <td>1</td>\n",
       "      <td>1yrs 11mon</td>\n",
       "      <td>1yrs 11mon</td>\n",
       "      <td>0</td>\n",
       "      <td>1</td>\n",
       "    </tr>\n",
       "    <tr>\n",
       "      <th>2</th>\n",
       "      <td>417566</td>\n",
       "      <td>53278</td>\n",
       "      <td>61360</td>\n",
       "      <td>89.63</td>\n",
       "      <td>67</td>\n",
       "      <td>22807</td>\n",
       "      <td>45</td>\n",
       "      <td>1497</td>\n",
       "      <td>24-08-1985</td>\n",
       "      <td>Self employed</td>\n",
       "      <td>01-08-2018</td>\n",
       "      <td>6</td>\n",
       "      <td>1998</td>\n",
       "      <td>1</td>\n",
       "      <td>1</td>\n",
       "      <td>0</td>\n",
       "      <td>0</td>\n",
       "      <td>0</td>\n",
       "      <td>0</td>\n",
       "      <td>0</td>\n",
       "      <td>No Bureau History Available</td>\n",
       "      <td>0</td>\n",
       "      <td>0</td>\n",
       "      <td>0</td>\n",
       "      <td>0</td>\n",
       "      <td>0</td>\n",
       "      <td>0</td>\n",
       "      <td>0</td>\n",
       "      <td>0</td>\n",
       "      <td>0</td>\n",
       "      <td>0</td>\n",
       "      <td>0</td>\n",
       "      <td>0</td>\n",
       "      <td>0</td>\n",
       "      <td>0</td>\n",
       "      <td>0</td>\n",
       "      <td>0</td>\n",
       "      <td>0yrs 0mon</td>\n",
       "      <td>0yrs 0mon</td>\n",
       "      <td>0</td>\n",
       "      <td>0</td>\n",
       "    </tr>\n",
       "    <tr>\n",
       "      <th>3</th>\n",
       "      <td>624493</td>\n",
       "      <td>57513</td>\n",
       "      <td>66113</td>\n",
       "      <td>88.48</td>\n",
       "      <td>67</td>\n",
       "      <td>22807</td>\n",
       "      <td>45</td>\n",
       "      <td>1501</td>\n",
       "      <td>30-12-1993</td>\n",
       "      <td>Self employed</td>\n",
       "      <td>26-10-2018</td>\n",
       "      <td>6</td>\n",
       "      <td>1998</td>\n",
       "      <td>1</td>\n",
       "      <td>1</td>\n",
       "      <td>0</td>\n",
       "      <td>0</td>\n",
       "      <td>0</td>\n",
       "      <td>0</td>\n",
       "      <td>305</td>\n",
       "      <td>L-Very High Risk</td>\n",
       "      <td>3</td>\n",
       "      <td>0</td>\n",
       "      <td>0</td>\n",
       "      <td>0</td>\n",
       "      <td>0</td>\n",
       "      <td>0</td>\n",
       "      <td>0</td>\n",
       "      <td>0</td>\n",
       "      <td>0</td>\n",
       "      <td>0</td>\n",
       "      <td>0</td>\n",
       "      <td>0</td>\n",
       "      <td>31</td>\n",
       "      <td>0</td>\n",
       "      <td>0</td>\n",
       "      <td>0</td>\n",
       "      <td>0yrs 8mon</td>\n",
       "      <td>1yrs 3mon</td>\n",
       "      <td>1</td>\n",
       "      <td>1</td>\n",
       "    </tr>\n",
       "    <tr>\n",
       "      <th>4</th>\n",
       "      <td>539055</td>\n",
       "      <td>52378</td>\n",
       "      <td>60300</td>\n",
       "      <td>88.39</td>\n",
       "      <td>67</td>\n",
       "      <td>22807</td>\n",
       "      <td>45</td>\n",
       "      <td>1495</td>\n",
       "      <td>09-12-1977</td>\n",
       "      <td>Self employed</td>\n",
       "      <td>26-09-2018</td>\n",
       "      <td>6</td>\n",
       "      <td>1998</td>\n",
       "      <td>1</td>\n",
       "      <td>1</td>\n",
       "      <td>0</td>\n",
       "      <td>0</td>\n",
       "      <td>0</td>\n",
       "      <td>0</td>\n",
       "      <td>0</td>\n",
       "      <td>No Bureau History Available</td>\n",
       "      <td>0</td>\n",
       "      <td>0</td>\n",
       "      <td>0</td>\n",
       "      <td>0</td>\n",
       "      <td>0</td>\n",
       "      <td>0</td>\n",
       "      <td>0</td>\n",
       "      <td>0</td>\n",
       "      <td>0</td>\n",
       "      <td>0</td>\n",
       "      <td>0</td>\n",
       "      <td>0</td>\n",
       "      <td>0</td>\n",
       "      <td>0</td>\n",
       "      <td>0</td>\n",
       "      <td>0</td>\n",
       "      <td>0yrs 0mon</td>\n",
       "      <td>0yrs 0mon</td>\n",
       "      <td>1</td>\n",
       "      <td>1</td>\n",
       "    </tr>\n",
       "  </tbody>\n",
       "</table>\n",
       "</div>"
      ],
      "text/plain": [
       "   UniqueID  disbursed_amount  ...  NO.OF_INQUIRIES  loan_default\n",
       "0    420825             50578  ...                0             0\n",
       "1    537409             47145  ...                0             1\n",
       "2    417566             53278  ...                0             0\n",
       "3    624493             57513  ...                1             1\n",
       "4    539055             52378  ...                1             1\n",
       "\n",
       "[5 rows x 41 columns]"
      ]
     },
     "execution_count": 22,
     "metadata": {
      "tags": []
     },
     "output_type": "execute_result"
    }
   ],
   "source": [
    "df.head()"
   ]
  },
  {
   "cell_type": "code",
   "execution_count": null,
   "metadata": {
    "colab": {
     "base_uri": "https://localhost:8080/",
     "height": 85
    },
    "colab_type": "code",
    "executionInfo": {
     "elapsed": 8131,
     "status": "ok",
     "timestamp": 1591191215649,
     "user": {
      "displayName": "gokul mahendran",
      "photoUrl": "",
      "userId": "08734118555192468609"
     },
     "user_tz": -330
    },
    "id": "gNYtGpIiM5gV",
    "outputId": "d1f30a6c-fdf6-44e4-b2fd-7b0e1063668f"
   },
   "outputs": [
    {
     "data": {
      "text/plain": [
       "supplier_id           2953\n",
       "Current_pincode_ID    6698\n",
       "Employee_code_ID      3270\n",
       "dtype: int64"
      ]
     },
     "execution_count": 23,
     "metadata": {
      "tags": []
     },
     "output_type": "execute_result"
    }
   ],
   "source": [
    "def cns_desc(x):\n",
    "    if x<300:\n",
    "        return 0\n",
    "    elif (x>=300) and (x<=350):\n",
    "        return 1\n",
    "    elif (x>350) and (x<=570):\n",
    "        return 2\n",
    "    elif (x>570) and (x<=630):\n",
    "        return 3\n",
    "    elif (x>630) and (x<=705):\n",
    "        return 4\n",
    "    else:\n",
    "        return 5\n",
    "\n",
    "df[\"Date.of.Birth\"]=pd.to_datetime(df[\"Date.of.Birth\"])\n",
    "\n",
    "df[\"DisbursalDate\"]=pd.to_datetime(df[\"DisbursalDate\"])\n",
    "df[\"DisbursalDate_Month\"]=df[\"DisbursalDate\"].dt.month\n",
    "\n",
    "df[\"Age_at_disbursement\"]=((df['DisbursalDate']-df[\"Date.of.Birth\"])/365).apply(lambda x:x.days)\n",
    "\n",
    "df[\"Employment.Type\"]=df[\"Employment.Type\"].map({'Salaried':0,\"Self employed\":1,np.nan:2})\n",
    "\n",
    "df[\"PERFORM_CNS.SCORE.DESCRIPTION\"]=df[\"PERFORM_CNS.SCORE\"].apply(cns_desc)\n",
    "\n",
    "df[\"AVERAGE.ACCT.AGE\"]=df[\"AVERAGE.ACCT.AGE\"].apply(lambda x:(int((x.split(\"y\"))[0])*12)+(int((x.split())[1].split(\"m\")[0])))\n",
    "\n",
    "df[\"CREDIT.HISTORY.LENGTH\"]=df[\"CREDIT.HISTORY.LENGTH\"].apply(lambda x:(int((x.split(\"y\"))[0])*12)+(int((x.split())[1].split(\"m\")[0])))\n",
    "\n",
    "df['NO.OF.ACCTS']=df['PRI.NO.OF.ACCTS']+df['SEC.NO.OF.ACCTS']\n",
    "df['ACTIVE.ACCTS']=df['PRI.ACTIVE.ACCTS']+df['SEC.ACTIVE.ACCTS']\n",
    "df['OVERDUE.ACCTS']=df['PRI.OVERDUE.ACCTS']+df['SEC.OVERDUE.ACCTS']\n",
    "df['CURRENT.BALANCE']=df['PRI.CURRENT.BALANCE']+df['SEC.CURRENT.BALANCE']\n",
    "df['SANCTIONED.AMOUNT']=df['PRI.SANCTIONED.AMOUNT']+df['SEC.SANCTIONED.AMOUNT']\n",
    "df['DISBURSED.AMOUNT']=df['PRI.DISBURSED.AMOUNT']+df['SEC.DISBURSED.AMOUNT']\n",
    "df['INSTAL.AMT']=df['PRIMARY.INSTAL.AMT']+df['SEC.INSTAL.AMT']\n",
    "\n",
    "df=df.drop(['PRI.NO.OF.ACCTS','SEC.NO.OF.ACCTS','PRI.ACTIVE.ACCTS','SEC.ACTIVE.ACCTS','PRI.OVERDUE.ACCTS','SEC.OVERDUE.ACCTS','PRI.CURRENT.BALANCE','SEC.CURRENT.BALANCE','PRI.SANCTIONED.AMOUNT','SEC.SANCTIONED.AMOUNT','PRI.DISBURSED.AMOUNT','SEC.DISBURSED.AMOUNT','PRIMARY.INSTAL.AMT','SEC.INSTAL.AMT'],axis=1)\n",
    "\n",
    "df.nunique()\n",
    "\n",
    "df.columns\n",
    "\n",
    "df=df.drop(columns=['Date.of.Birth',\"DisbursalDate\"])\n",
    "\n",
    "cols=df.columns.to_list()\n",
    "\n",
    "cat_cols=['UniqueID','branch_id','supplier_id', 'manufacturer_id', 'Current_pincode_ID','Employment.Type', 'State_ID',\n",
    "          'Employee_code_ID','MobileNo_Avl_Flag', 'Aadhar_flag', 'PAN_flag', 'VoterID_flag','Driving_flag', 'Passport_flag',\n",
    "       'PERFORM_CNS.SCORE.DESCRIPTION','DisbursalDate_Month']\n",
    "\n",
    "target_col=\"loan_default\"\n",
    "\n",
    "num_cols=['disbursed_amount','asset_cost','ltv','PERFORM_CNS.SCORE','NEW.ACCTS.IN.LAST.SIX.MONTHS',\n",
    "          'DELINQUENT.ACCTS.IN.LAST.SIX.MONTHS','AVERAGE.ACCT.AGE','CREDIT.HISTORY.LENGTH','NO.OF_INQUIRIES',\n",
    "          'Age_at_disbursement','NO.OF.ACCTS','ACTIVE.ACCTS','OVERDUE.ACCTS','CURRENT.BALANCE','SANCTIONED.AMOUNT',\n",
    "             'DISBURSED.AMOUNT','INSTAL.AMT']\n",
    "\n",
    "df[cat_cols].nunique()\n",
    "\n",
    "cols_to_be_dummied=[\"branch_id\",\"State_ID\",\"manufacturer_id\",'Employment.Type','DisbursalDate_Month','PERFORM_CNS.SCORE.DESCRIPTION']\n",
    "\n",
    "df1=df.copy()\n",
    "df1=df1.drop(columns=[\"UniqueID\"])\n",
    "\n",
    "df1[['supplier_id','Current_pincode_ID','Employee_code_ID']].nunique()\n",
    "\n"
   ]
  },
  {
   "cell_type": "code",
   "execution_count": null,
   "metadata": {
    "colab": {},
    "colab_type": "code",
    "id": "jsJcP1JgNGBL"
   },
   "outputs": [],
   "source": [
    "from sklearn.preprocessing import OneHotEncoder\n",
    "for i in ['supplier_id','Current_pincode_ID','Employee_code_ID']:\n",
    "    one_hot=OneHotEncoder(handle_unknown=\"ignore\",sparse=False)\n",
    "    dummy_index=df1[i].value_counts()[:100].index.to_list()\n",
    "    one_hot.fit(np.array(dummy_index).reshape(-1, 1))\n",
    "    data=one_hot.transform(df1[i].values.reshape(-1, 1))\n",
    "    dummy=pd.DataFrame(data=data,columns=[str(j)+i for j in dummy_index])\n",
    "    df1=pd.concat([df1,dummy],axis=1)\n",
    "\n",
    "df1=pd.get_dummies(data=df1,columns=cols_to_be_dummied,drop_first=True)\n",
    "\n",
    "X=df1.drop('loan_default',axis=1)\n",
    "y=df1['loan_default']\n",
    "\n"
   ]
  },
  {
   "cell_type": "code",
   "execution_count": null,
   "metadata": {
    "colab": {},
    "colab_type": "code",
    "id": "mz4Qo2z8NJI1"
   },
   "outputs": [],
   "source": [
    "import lightgbm as lgb\n",
    "\n",
    "params = {}\n",
    "params['learning_rate'] = 0.1\n",
    "params['boosting_type'] = 'gbdt'\n",
    "params['objective'] = 'binary'\n",
    "params['metric']='logloss'\n",
    "params['num_leaves'] = 61\n",
    "params['max_depth'] = 28\n",
    "params[\"subsample\"]=1\n",
    "params[\"colsample_bytree\"]=.6\n",
    "params[\"min_child_samples\"]=65\n",
    "params[\"reg_lambda\"]=.8\n",
    "\n",
    "\n",
    "\n",
    "def validation(X,y,model,cv=7,scoring=\"roc_auc\"):\n",
    "    fold=KFold(n_splits=5,shuffle=True, random_state=1)\n",
    "    results=cross_val_score(model,X=X,y=y,cv=fold,scoring=scoring)\n",
    "    print(\"mean_auc-\",results.mean())\n",
    "    print(\"std_auc-\",results.std())\n",
    "    return results\n",
    "\n"
   ]
  },
  {
   "cell_type": "code",
   "execution_count": null,
   "metadata": {
    "colab": {
     "base_uri": "https://localhost:8080/",
     "height": 68
    },
    "colab_type": "code",
    "executionInfo": {
     "elapsed": 36198,
     "status": "ok",
     "timestamp": 1591205198622,
     "user": {
      "displayName": "gokul mahendran",
      "photoUrl": "",
      "userId": "08734118555192468609"
     },
     "user_tz": -330
    },
    "id": "whw5epyeM75f",
    "outputId": "4aae2e19-5c5c-4a96-d3ab-5e401b45f8d1"
   },
   "outputs": [
    {
     "name": "stdout",
     "output_type": "stream",
     "text": [
      "mean_auc- 0.6695301579508597\n",
      "std_auc- 0.0016362522229419988\n"
     ]
    },
    {
     "data": {
      "text/plain": [
       "array([0.6694675 , 0.67086974, 0.66763424, 0.67181477, 0.66786454])"
      ]
     },
     "execution_count": 118,
     "metadata": {
      "tags": []
     },
     "output_type": "execute_result"
    }
   ],
   "source": [
    "validation(X,y,lgb.LGBMClassifier(**params))"
   ]
  },
  {
   "cell_type": "code",
   "execution_count": null,
   "metadata": {
    "colab": {},
    "colab_type": "code",
    "id": "d6slw-o6NM-3"
   },
   "outputs": [],
   "source": [
    "def validation_cv(max_depth,num_leaves):\n",
    "  scores={}\n",
    "  best_score=0\n",
    "  #num_leaves_param_list=[]\n",
    "  #max_depth_param_list=[]\n",
    "  score_list=[]\n",
    "  #max_depth=np.arange(22,45,3)\n",
    "  #num_leaves=np.arange(30,81,10)\n",
    "  for i in max_depth:\n",
    "      for j in num_leaves:\n",
    "          #max_depth_param=random.choice(max_depth)\n",
    "          #max_depth_param_list.append(max_depth_param)\n",
    "          #num_leaves_param=random.choice(num_leaves)\n",
    "          #num_leaves_param_list.append(num_leaves_param)\n",
    "          params[\"max_depth\"]=i \n",
    "          params[\"num_leaves\"]=j\n",
    "          fold=KFold(n_splits=5,shuffle=True, random_state=1)\n",
    "          score=cross_val_score(lgb.LGBMClassifier(**params),X,y,scoring=\"roc_auc\",cv=fold)\n",
    "          score_list.append(score)\n",
    "          #score=lgb.cv(params,train_set=dtrain,metrics=\"auc\",nfold=5,num_boost_round=1000,early_stopping_rounds=100)\n",
    "          print(\"max_depth-\",i,\"num_leaves-\",j,score.mean())\n",
    "          print(score)\n",
    "          if score.mean()>best_score:\n",
    "              best_score=score.mean()\n",
    "              print(\"best_score-\",best_score,\"max_depth-\",i,\"num_leaves\",j)"
   ]
  },
  {
   "cell_type": "code",
   "execution_count": null,
   "metadata": {
    "colab": {},
    "colab_type": "code",
    "id": "nhbEbM-aggEn"
   },
   "outputs": [],
   "source": [
    "ind=[]\n",
    "for i in max_depth:\n",
    "  for j in num_leaves:\n",
    "    ind.append((\"max_depth_\"+str(i),\"num_leaves_\"+str(j)))"
   ]
  },
  {
   "cell_type": "code",
   "execution_count": null,
   "metadata": {
    "colab": {},
    "colab_type": "code",
    "id": "h0RMLLdcNavq"
   },
   "outputs": [],
   "source": [
    "index_to_be_used=pd.MultiIndex.from_tuples(ind,names=(\"max_depth\",\"num_leaves\"))"
   ]
  },
  {
   "cell_type": "code",
   "execution_count": null,
   "metadata": {
    "colab": {},
    "colab_type": "code",
    "id": "-_SDrP3Td9WP"
   },
   "outputs": [],
   "source": [
    "validation_max_depth_num_leaves_df=pd.DataFrame(data=[i.mean() for i in score_list],index=index_to_be_used,columns=[\"mean\"])\n",
    "validation_max_depth_num_leaves_df[\"std\"]=[np.std(i,ddof=1) for i in score_list]"
   ]
  },
  {
   "cell_type": "code",
   "execution_count": null,
   "metadata": {
    "colab": {
     "base_uri": "https://localhost:8080/",
     "height": 1000
    },
    "colab_type": "code",
    "executionInfo": {
     "elapsed": 1124,
     "status": "ok",
     "timestamp": 1591198339179,
     "user": {
      "displayName": "gokul mahendran",
      "photoUrl": "",
      "userId": "08734118555192468609"
     },
     "user_tz": -330
    },
    "id": "YZ2DabVjh3Q4",
    "outputId": "a8ad0783-8a57-41e6-c1e7-b977eb4efb79"
   },
   "outputs": [
    {
     "data": {
      "text/html": [
       "<div>\n",
       "<style scoped>\n",
       "    .dataframe tbody tr th:only-of-type {\n",
       "        vertical-align: middle;\n",
       "    }\n",
       "\n",
       "    .dataframe tbody tr th {\n",
       "        vertical-align: top;\n",
       "    }\n",
       "\n",
       "    .dataframe thead th {\n",
       "        text-align: right;\n",
       "    }\n",
       "</style>\n",
       "<table border=\"1\" class=\"dataframe\">\n",
       "  <thead>\n",
       "    <tr style=\"text-align: right;\">\n",
       "      <th></th>\n",
       "      <th></th>\n",
       "      <th>mean</th>\n",
       "      <th>std</th>\n",
       "    </tr>\n",
       "    <tr>\n",
       "      <th>max_depth</th>\n",
       "      <th>num_leaves</th>\n",
       "      <th></th>\n",
       "      <th></th>\n",
       "    </tr>\n",
       "  </thead>\n",
       "  <tbody>\n",
       "    <tr>\n",
       "      <th>max_depth_31</th>\n",
       "      <th>num_leaves_60</th>\n",
       "      <td>0.668887</td>\n",
       "      <td>0.001372</td>\n",
       "    </tr>\n",
       "    <tr>\n",
       "      <th>max_depth_34</th>\n",
       "      <th>num_leaves_60</th>\n",
       "      <td>0.668887</td>\n",
       "      <td>0.001372</td>\n",
       "    </tr>\n",
       "    <tr>\n",
       "      <th>max_depth_40</th>\n",
       "      <th>num_leaves_60</th>\n",
       "      <td>0.668887</td>\n",
       "      <td>0.001372</td>\n",
       "    </tr>\n",
       "    <tr>\n",
       "      <th>max_depth_28</th>\n",
       "      <th>num_leaves_60</th>\n",
       "      <td>0.668887</td>\n",
       "      <td>0.001372</td>\n",
       "    </tr>\n",
       "    <tr>\n",
       "      <th>max_depth_43</th>\n",
       "      <th>num_leaves_60</th>\n",
       "      <td>0.668887</td>\n",
       "      <td>0.001372</td>\n",
       "    </tr>\n",
       "    <tr>\n",
       "      <th>max_depth_37</th>\n",
       "      <th>num_leaves_60</th>\n",
       "      <td>0.668887</td>\n",
       "      <td>0.001372</td>\n",
       "    </tr>\n",
       "    <tr>\n",
       "      <th>max_depth_25</th>\n",
       "      <th>num_leaves_60</th>\n",
       "      <td>0.668843</td>\n",
       "      <td>0.001349</td>\n",
       "    </tr>\n",
       "    <tr>\n",
       "      <th>max_depth_31</th>\n",
       "      <th>num_leaves_80</th>\n",
       "      <td>0.668782</td>\n",
       "      <td>0.001954</td>\n",
       "    </tr>\n",
       "    <tr>\n",
       "      <th>max_depth_43</th>\n",
       "      <th>num_leaves_80</th>\n",
       "      <td>0.668781</td>\n",
       "      <td>0.001954</td>\n",
       "    </tr>\n",
       "    <tr>\n",
       "      <th>max_depth_34</th>\n",
       "      <th>num_leaves_80</th>\n",
       "      <td>0.668781</td>\n",
       "      <td>0.001954</td>\n",
       "    </tr>\n",
       "    <tr>\n",
       "      <th>max_depth_40</th>\n",
       "      <th>num_leaves_80</th>\n",
       "      <td>0.668781</td>\n",
       "      <td>0.001954</td>\n",
       "    </tr>\n",
       "    <tr>\n",
       "      <th>max_depth_37</th>\n",
       "      <th>num_leaves_80</th>\n",
       "      <td>0.668781</td>\n",
       "      <td>0.001954</td>\n",
       "    </tr>\n",
       "    <tr>\n",
       "      <th>max_depth_28</th>\n",
       "      <th>num_leaves_80</th>\n",
       "      <td>0.668646</td>\n",
       "      <td>0.002073</td>\n",
       "    </tr>\n",
       "    <tr>\n",
       "      <th rowspan=\"2\" valign=\"top\">max_depth_25</th>\n",
       "      <th>num_leaves_80</th>\n",
       "      <td>0.668545</td>\n",
       "      <td>0.001685</td>\n",
       "    </tr>\n",
       "    <tr>\n",
       "      <th>num_leaves_70</th>\n",
       "      <td>0.668515</td>\n",
       "      <td>0.001923</td>\n",
       "    </tr>\n",
       "    <tr>\n",
       "      <th rowspan=\"3\" valign=\"top\">max_depth_22</th>\n",
       "      <th>num_leaves_50</th>\n",
       "      <td>0.668379</td>\n",
       "      <td>0.001617</td>\n",
       "    </tr>\n",
       "    <tr>\n",
       "      <th>num_leaves_60</th>\n",
       "      <td>0.668360</td>\n",
       "      <td>0.001431</td>\n",
       "    </tr>\n",
       "    <tr>\n",
       "      <th>num_leaves_80</th>\n",
       "      <td>0.668354</td>\n",
       "      <td>0.001184</td>\n",
       "    </tr>\n",
       "    <tr>\n",
       "      <th>max_depth_37</th>\n",
       "      <th>num_leaves_70</th>\n",
       "      <td>0.668301</td>\n",
       "      <td>0.001692</td>\n",
       "    </tr>\n",
       "    <tr>\n",
       "      <th>max_depth_34</th>\n",
       "      <th>num_leaves_70</th>\n",
       "      <td>0.668301</td>\n",
       "      <td>0.001692</td>\n",
       "    </tr>\n",
       "    <tr>\n",
       "      <th>max_depth_31</th>\n",
       "      <th>num_leaves_70</th>\n",
       "      <td>0.668301</td>\n",
       "      <td>0.001692</td>\n",
       "    </tr>\n",
       "    <tr>\n",
       "      <th>max_depth_40</th>\n",
       "      <th>num_leaves_70</th>\n",
       "      <td>0.668301</td>\n",
       "      <td>0.001692</td>\n",
       "    </tr>\n",
       "    <tr>\n",
       "      <th>max_depth_43</th>\n",
       "      <th>num_leaves_70</th>\n",
       "      <td>0.668301</td>\n",
       "      <td>0.001692</td>\n",
       "    </tr>\n",
       "    <tr>\n",
       "      <th>max_depth_22</th>\n",
       "      <th>num_leaves_70</th>\n",
       "      <td>0.668297</td>\n",
       "      <td>0.001742</td>\n",
       "    </tr>\n",
       "    <tr>\n",
       "      <th>max_depth_28</th>\n",
       "      <th>num_leaves_70</th>\n",
       "      <td>0.668217</td>\n",
       "      <td>0.001816</td>\n",
       "    </tr>\n",
       "    <tr>\n",
       "      <th>max_depth_31</th>\n",
       "      <th>num_leaves_50</th>\n",
       "      <td>0.668177</td>\n",
       "      <td>0.001596</td>\n",
       "    </tr>\n",
       "    <tr>\n",
       "      <th>max_depth_40</th>\n",
       "      <th>num_leaves_50</th>\n",
       "      <td>0.668177</td>\n",
       "      <td>0.001596</td>\n",
       "    </tr>\n",
       "    <tr>\n",
       "      <th>max_depth_34</th>\n",
       "      <th>num_leaves_50</th>\n",
       "      <td>0.668177</td>\n",
       "      <td>0.001596</td>\n",
       "    </tr>\n",
       "    <tr>\n",
       "      <th>max_depth_28</th>\n",
       "      <th>num_leaves_50</th>\n",
       "      <td>0.668177</td>\n",
       "      <td>0.001596</td>\n",
       "    </tr>\n",
       "    <tr>\n",
       "      <th>max_depth_43</th>\n",
       "      <th>num_leaves_50</th>\n",
       "      <td>0.668177</td>\n",
       "      <td>0.001596</td>\n",
       "    </tr>\n",
       "    <tr>\n",
       "      <th>max_depth_37</th>\n",
       "      <th>num_leaves_50</th>\n",
       "      <td>0.668177</td>\n",
       "      <td>0.001596</td>\n",
       "    </tr>\n",
       "    <tr>\n",
       "      <th rowspan=\"2\" valign=\"top\">max_depth_25</th>\n",
       "      <th>num_leaves_50</th>\n",
       "      <td>0.668177</td>\n",
       "      <td>0.001596</td>\n",
       "    </tr>\n",
       "    <tr>\n",
       "      <th>num_leaves_40</th>\n",
       "      <td>0.668055</td>\n",
       "      <td>0.001732</td>\n",
       "    </tr>\n",
       "    <tr>\n",
       "      <th>max_depth_40</th>\n",
       "      <th>num_leaves_40</th>\n",
       "      <td>0.668055</td>\n",
       "      <td>0.001732</td>\n",
       "    </tr>\n",
       "    <tr>\n",
       "      <th>max_depth_31</th>\n",
       "      <th>num_leaves_40</th>\n",
       "      <td>0.668055</td>\n",
       "      <td>0.001732</td>\n",
       "    </tr>\n",
       "    <tr>\n",
       "      <th>max_depth_43</th>\n",
       "      <th>num_leaves_40</th>\n",
       "      <td>0.668055</td>\n",
       "      <td>0.001732</td>\n",
       "    </tr>\n",
       "    <tr>\n",
       "      <th>max_depth_28</th>\n",
       "      <th>num_leaves_40</th>\n",
       "      <td>0.668055</td>\n",
       "      <td>0.001732</td>\n",
       "    </tr>\n",
       "    <tr>\n",
       "      <th>max_depth_34</th>\n",
       "      <th>num_leaves_40</th>\n",
       "      <td>0.668055</td>\n",
       "      <td>0.001732</td>\n",
       "    </tr>\n",
       "    <tr>\n",
       "      <th>max_depth_22</th>\n",
       "      <th>num_leaves_40</th>\n",
       "      <td>0.668055</td>\n",
       "      <td>0.001732</td>\n",
       "    </tr>\n",
       "    <tr>\n",
       "      <th>max_depth_37</th>\n",
       "      <th>num_leaves_40</th>\n",
       "      <td>0.668055</td>\n",
       "      <td>0.001732</td>\n",
       "    </tr>\n",
       "    <tr>\n",
       "      <th>max_depth_43</th>\n",
       "      <th>num_leaves_30</th>\n",
       "      <td>0.667438</td>\n",
       "      <td>0.001785</td>\n",
       "    </tr>\n",
       "    <tr>\n",
       "      <th>max_depth_22</th>\n",
       "      <th>num_leaves_30</th>\n",
       "      <td>0.667438</td>\n",
       "      <td>0.001785</td>\n",
       "    </tr>\n",
       "    <tr>\n",
       "      <th>max_depth_40</th>\n",
       "      <th>num_leaves_30</th>\n",
       "      <td>0.667438</td>\n",
       "      <td>0.001785</td>\n",
       "    </tr>\n",
       "    <tr>\n",
       "      <th>max_depth_37</th>\n",
       "      <th>num_leaves_30</th>\n",
       "      <td>0.667438</td>\n",
       "      <td>0.001785</td>\n",
       "    </tr>\n",
       "    <tr>\n",
       "      <th>max_depth_31</th>\n",
       "      <th>num_leaves_30</th>\n",
       "      <td>0.667438</td>\n",
       "      <td>0.001785</td>\n",
       "    </tr>\n",
       "    <tr>\n",
       "      <th>max_depth_28</th>\n",
       "      <th>num_leaves_30</th>\n",
       "      <td>0.667438</td>\n",
       "      <td>0.001785</td>\n",
       "    </tr>\n",
       "    <tr>\n",
       "      <th>max_depth_25</th>\n",
       "      <th>num_leaves_30</th>\n",
       "      <td>0.667438</td>\n",
       "      <td>0.001785</td>\n",
       "    </tr>\n",
       "    <tr>\n",
       "      <th>max_depth_34</th>\n",
       "      <th>num_leaves_30</th>\n",
       "      <td>0.667438</td>\n",
       "      <td>0.001785</td>\n",
       "    </tr>\n",
       "  </tbody>\n",
       "</table>\n",
       "</div>"
      ],
      "text/plain": [
       "                                mean       std\n",
       "max_depth    num_leaves                       \n",
       "max_depth_31 num_leaves_60  0.668887  0.001372\n",
       "max_depth_34 num_leaves_60  0.668887  0.001372\n",
       "max_depth_40 num_leaves_60  0.668887  0.001372\n",
       "max_depth_28 num_leaves_60  0.668887  0.001372\n",
       "max_depth_43 num_leaves_60  0.668887  0.001372\n",
       "max_depth_37 num_leaves_60  0.668887  0.001372\n",
       "max_depth_25 num_leaves_60  0.668843  0.001349\n",
       "max_depth_31 num_leaves_80  0.668782  0.001954\n",
       "max_depth_43 num_leaves_80  0.668781  0.001954\n",
       "max_depth_34 num_leaves_80  0.668781  0.001954\n",
       "max_depth_40 num_leaves_80  0.668781  0.001954\n",
       "max_depth_37 num_leaves_80  0.668781  0.001954\n",
       "max_depth_28 num_leaves_80  0.668646  0.002073\n",
       "max_depth_25 num_leaves_80  0.668545  0.001685\n",
       "             num_leaves_70  0.668515  0.001923\n",
       "max_depth_22 num_leaves_50  0.668379  0.001617\n",
       "             num_leaves_60  0.668360  0.001431\n",
       "             num_leaves_80  0.668354  0.001184\n",
       "max_depth_37 num_leaves_70  0.668301  0.001692\n",
       "max_depth_34 num_leaves_70  0.668301  0.001692\n",
       "max_depth_31 num_leaves_70  0.668301  0.001692\n",
       "max_depth_40 num_leaves_70  0.668301  0.001692\n",
       "max_depth_43 num_leaves_70  0.668301  0.001692\n",
       "max_depth_22 num_leaves_70  0.668297  0.001742\n",
       "max_depth_28 num_leaves_70  0.668217  0.001816\n",
       "max_depth_31 num_leaves_50  0.668177  0.001596\n",
       "max_depth_40 num_leaves_50  0.668177  0.001596\n",
       "max_depth_34 num_leaves_50  0.668177  0.001596\n",
       "max_depth_28 num_leaves_50  0.668177  0.001596\n",
       "max_depth_43 num_leaves_50  0.668177  0.001596\n",
       "max_depth_37 num_leaves_50  0.668177  0.001596\n",
       "max_depth_25 num_leaves_50  0.668177  0.001596\n",
       "             num_leaves_40  0.668055  0.001732\n",
       "max_depth_40 num_leaves_40  0.668055  0.001732\n",
       "max_depth_31 num_leaves_40  0.668055  0.001732\n",
       "max_depth_43 num_leaves_40  0.668055  0.001732\n",
       "max_depth_28 num_leaves_40  0.668055  0.001732\n",
       "max_depth_34 num_leaves_40  0.668055  0.001732\n",
       "max_depth_22 num_leaves_40  0.668055  0.001732\n",
       "max_depth_37 num_leaves_40  0.668055  0.001732\n",
       "max_depth_43 num_leaves_30  0.667438  0.001785\n",
       "max_depth_22 num_leaves_30  0.667438  0.001785\n",
       "max_depth_40 num_leaves_30  0.667438  0.001785\n",
       "max_depth_37 num_leaves_30  0.667438  0.001785\n",
       "max_depth_31 num_leaves_30  0.667438  0.001785\n",
       "max_depth_28 num_leaves_30  0.667438  0.001785\n",
       "max_depth_25 num_leaves_30  0.667438  0.001785\n",
       "max_depth_34 num_leaves_30  0.667438  0.001785"
      ]
     },
     "execution_count": 69,
     "metadata": {
      "tags": []
     },
     "output_type": "execute_result"
    }
   ],
   "source": [
    "validation_max_depth_num_leaves_df.sort_values(by=\"mean\",ascending=False)"
   ]
  },
  {
   "cell_type": "code",
   "execution_count": null,
   "metadata": {
    "colab": {
     "base_uri": "https://localhost:8080/",
     "height": 289
    },
    "colab_type": "code",
    "executionInfo": {
     "elapsed": 231077,
     "status": "ok",
     "timestamp": 1591198721220,
     "user": {
      "displayName": "gokul mahendran",
      "photoUrl": "",
      "userId": "08734118555192468609"
     },
     "user_tz": -330
    },
    "id": "7wm5MlDEiQ66",
    "outputId": "cf98f85d-661d-4c31-a01e-3b992e510e25"
   },
   "outputs": [
    {
     "name": "stdout",
     "output_type": "stream",
     "text": [
      "max_depth- 28 num_leaves- 58 0.6681011439093998\n",
      "[0.66809205 0.66949635 0.66688353 0.66908584 0.66694796]\n",
      "best_score- 0.6681011439093998 max_depth- 28 num_leaves 58\n",
      "max_depth- 28 num_leaves- 59 0.6684531122104378\n",
      "[0.66805056 0.66984589 0.66753564 0.66988751 0.66694596]\n",
      "best_score- 0.6684531122104378 max_depth- 28 num_leaves 59\n",
      "max_depth- 28 num_leaves- 60 0.6688872029270418\n",
      "[0.66897889 0.66982432 0.66780784 0.67056687 0.66725809]\n",
      "best_score- 0.6688872029270418 max_depth- 28 num_leaves 60\n",
      "max_depth- 28 num_leaves- 61 0.668924548785434\n",
      "[0.66846326 0.67031193 0.667316   0.67041047 0.66812107]\n",
      "best_score- 0.668924548785434 max_depth- 28 num_leaves 61\n",
      "max_depth- 28 num_leaves- 62 0.6685746487181248\n",
      "[0.66839515 0.6700879  0.66825027 0.66925022 0.6668897 ]\n",
      "max_depth- 28 num_leaves- 63 0.6682504244358809\n",
      "[0.6683523  0.66976014 0.66716877 0.6697377  0.66623321]\n"
     ]
    }
   ],
   "source": [
    "validation_cv([28],[58,59,60,61,62,63])"
   ]
  },
  {
   "cell_type": "code",
   "execution_count": null,
   "metadata": {
    "colab": {},
    "colab_type": "code",
    "id": "cjc5Hsxg0h2i"
   },
   "outputs": [],
   "source": [
    "#At max_depth=28 and num_leaves we have higher mean auc-.6689 and lesser std 0.0013764"
   ]
  },
  {
   "cell_type": "code",
   "execution_count": null,
   "metadata": {
    "colab": {},
    "colab_type": "code",
    "id": "SGIuMHOrQaw-"
   },
   "outputs": [],
   "source": [
    "def validation_cv(min_child_samples):\n",
    "  scores={}\n",
    "  best_score=0\n",
    "  #num_leaves_param_list=[]\n",
    "  #max_depth_param_list=[]\n",
    "  score_list=[]\n",
    "  #max_depth=np.arange(22,45,3)\n",
    "  #num_leaves=np.arange(30,81,10)\n",
    "  for i in min_child_samples:\n",
    "    #for j in colsample_bytree:\n",
    "        #max_depth_param=random.choice(max_depth)\n",
    "        #max_depth_param_list.append(max_depth_param)\n",
    "        #num_leaves_param=random.choice(num_leaves)\n",
    "        #num_leaves_param_list.append(num_leaves_param)\n",
    "        params[\"min_child_samples\"]=i \n",
    "        #params[\"colsample_bytree\"]=j\n",
    "        fold=KFold(n_splits=5,shuffle=True, random_state=1)\n",
    "        score=cross_val_score(lgb.LGBMClassifier(**params),X,y,scoring=\"roc_auc\",cv=fold)\n",
    "        score_list.append(score)\n",
    "        #score=lgb.cv(params,train_set=dtrain,metrics=\"auc\",nfold=5,num_boost_round=1000,early_stopping_rounds=100)\n",
    "        print(\"min_child_samples-\",i,score.mean())\n",
    "        print(score)\n",
    "        if score.mean()>best_score:\n",
    "            best_score=score.mean()\n",
    "            print(\"best_score-\",best_score,\"min_child_samples-\",i)\n",
    "  return score_list"
   ]
  },
  {
   "cell_type": "code",
   "execution_count": null,
   "metadata": {
    "colab": {
     "base_uri": "https://localhost:8080/",
     "height": 374
    },
    "colab_type": "code",
    "executionInfo": {
     "elapsed": 278699,
     "status": "ok",
     "timestamp": 1591206171447,
     "user": {
      "displayName": "gokul mahendran",
      "photoUrl": "",
      "userId": "08734118555192468609"
     },
     "user_tz": -330
    },
    "id": "cmBZhU-XQoUr",
    "outputId": "9cadbaf2-32d7-4de9-d36e-7e819b78684e"
   },
   "outputs": [
    {
     "name": "stdout",
     "output_type": "stream",
     "text": [
      "min_child_samples- 5 0.6689088413116903\n",
      "[0.66895559 0.67035323 0.66659363 0.67085747 0.66778429]\n",
      "best_score- 0.6689088413116903 min_child_samples- 5\n",
      "min_child_samples- 15 0.6687589188969136\n",
      "[0.66827926 0.66970014 0.66741856 0.67021791 0.66817872]\n",
      "min_child_samples- 25 0.6690655182709341\n",
      "[0.6701539  0.67020838 0.66714952 0.66963128 0.66818451]\n",
      "best_score- 0.6690655182709341 min_child_samples- 25\n",
      "min_child_samples- 35 0.6691838340325649\n",
      "[0.6690409  0.67090746 0.66724148 0.67130882 0.66742052]\n",
      "best_score- 0.6691838340325649 min_child_samples- 35\n",
      "min_child_samples- 45 0.6690745985885662\n",
      "[0.66973986 0.6695872  0.66670044 0.6712421  0.6681034 ]\n",
      "min_child_samples- 55 0.6692957939421266\n",
      "[0.67011504 0.66999447 0.66786339 0.67127714 0.66722893]\n",
      "best_score- 0.6692957939421266 min_child_samples- 55\n",
      "min_child_samples- 65 0.6691449854006614\n",
      "[0.66955215 0.66983871 0.6672043  0.67058677 0.66854299]\n",
      "min_child_samples- 75 0.6694284458220181\n",
      "[0.67022237 0.6706913  0.66729943 0.67139787 0.66753126]\n",
      "best_score- 0.6694284458220181 min_child_samples- 75\n"
     ]
    }
   ],
   "source": [
    "score_list=validation_cv(np.arange(5,76,10))"
   ]
  },
  {
   "cell_type": "code",
   "execution_count": null,
   "metadata": {
    "colab": {},
    "colab_type": "code",
    "id": "lr2-ZwYNS9oG"
   },
   "outputs": [],
   "source": [
    "ind=[]\n",
    "for i in np.arange(5,76,10):\n",
    "    ind.append((\"max_depth\"+str(28),\"min_child_samples\"+str(i)))"
   ]
  },
  {
   "cell_type": "code",
   "execution_count": null,
   "metadata": {
    "colab": {},
    "colab_type": "code",
    "id": "wMH9aHp0S9oL"
   },
   "outputs": [],
   "source": [
    "index_to_be_used=pd.MultiIndex.from_tuples(ind,names=(\"max_depth\",\"min_child_samples\"))"
   ]
  },
  {
   "cell_type": "code",
   "execution_count": null,
   "metadata": {
    "colab": {},
    "colab_type": "code",
    "id": "fDMKQZ_LS9oN"
   },
   "outputs": [],
   "source": [
    "validation_min_child_samples_df=pd.DataFrame(data=[i.mean() for i in score_list],index=index_to_be_used,columns=[\"mean\"])\n",
    "validation_min_child_samples_df[\"std\"]=[np.std(i,ddof=1) for i in score_list]"
   ]
  },
  {
   "cell_type": "code",
   "execution_count": null,
   "metadata": {
    "colab": {
     "base_uri": "https://localhost:8080/",
     "height": 328
    },
    "colab_type": "code",
    "executionInfo": {
     "elapsed": 1001,
     "status": "ok",
     "timestamp": 1591206561773,
     "user": {
      "displayName": "gokul mahendran",
      "photoUrl": "",
      "userId": "08734118555192468609"
     },
     "user_tz": -330
    },
    "id": "nprIQGIbS9oQ",
    "outputId": "1bed8b99-9161-4114-88e7-524aef525a3c"
   },
   "outputs": [
    {
     "data": {
      "text/html": [
       "<div>\n",
       "<style scoped>\n",
       "    .dataframe tbody tr th:only-of-type {\n",
       "        vertical-align: middle;\n",
       "    }\n",
       "\n",
       "    .dataframe tbody tr th {\n",
       "        vertical-align: top;\n",
       "    }\n",
       "\n",
       "    .dataframe thead th {\n",
       "        text-align: right;\n",
       "    }\n",
       "</style>\n",
       "<table border=\"1\" class=\"dataframe\">\n",
       "  <thead>\n",
       "    <tr style=\"text-align: right;\">\n",
       "      <th></th>\n",
       "      <th></th>\n",
       "      <th>mean</th>\n",
       "      <th>std</th>\n",
       "    </tr>\n",
       "    <tr>\n",
       "      <th>max_depth</th>\n",
       "      <th>min_child_samples</th>\n",
       "      <th></th>\n",
       "      <th></th>\n",
       "    </tr>\n",
       "  </thead>\n",
       "  <tbody>\n",
       "    <tr>\n",
       "      <th rowspan=\"8\" valign=\"top\">max_depth28</th>\n",
       "      <th>min_child_samples75</th>\n",
       "      <td>0.669428</td>\n",
       "      <td>0.001887</td>\n",
       "    </tr>\n",
       "    <tr>\n",
       "      <th>min_child_samples55</th>\n",
       "      <td>0.669296</td>\n",
       "      <td>0.001689</td>\n",
       "    </tr>\n",
       "    <tr>\n",
       "      <th>min_child_samples35</th>\n",
       "      <td>0.669184</td>\n",
       "      <td>0.001897</td>\n",
       "    </tr>\n",
       "    <tr>\n",
       "      <th>min_child_samples65</th>\n",
       "      <td>0.669145</td>\n",
       "      <td>0.001309</td>\n",
       "    </tr>\n",
       "    <tr>\n",
       "      <th>min_child_samples45</th>\n",
       "      <td>0.669075</td>\n",
       "      <td>0.001731</td>\n",
       "    </tr>\n",
       "    <tr>\n",
       "      <th>min_child_samples25</th>\n",
       "      <td>0.669066</td>\n",
       "      <td>0.001347</td>\n",
       "    </tr>\n",
       "    <tr>\n",
       "      <th>min_child_samples5</th>\n",
       "      <td>0.668909</td>\n",
       "      <td>0.001769</td>\n",
       "    </tr>\n",
       "    <tr>\n",
       "      <th>min_child_samples15</th>\n",
       "      <td>0.668759</td>\n",
       "      <td>0.001160</td>\n",
       "    </tr>\n",
       "  </tbody>\n",
       "</table>\n",
       "</div>"
      ],
      "text/plain": [
       "                                     mean       std\n",
       "max_depth   min_child_samples                      \n",
       "max_depth28 min_child_samples75  0.669428  0.001887\n",
       "            min_child_samples55  0.669296  0.001689\n",
       "            min_child_samples35  0.669184  0.001897\n",
       "            min_child_samples65  0.669145  0.001309\n",
       "            min_child_samples45  0.669075  0.001731\n",
       "            min_child_samples25  0.669066  0.001347\n",
       "            min_child_samples5   0.668909  0.001769\n",
       "            min_child_samples15  0.668759  0.001160"
      ]
     },
     "execution_count": 130,
     "metadata": {
      "tags": []
     },
     "output_type": "execute_result"
    }
   ],
   "source": [
    "validation_min_child_samples_df.sort_values(by=\"mean\",ascending=False)"
   ]
  },
  {
   "cell_type": "code",
   "execution_count": null,
   "metadata": {
    "colab": {},
    "colab_type": "code",
    "id": "zaAYdZUpT9bg"
   },
   "outputs": [],
   "source": [
    "#at 65-min child samples we have least std "
   ]
  },
  {
   "cell_type": "code",
   "execution_count": null,
   "metadata": {
    "colab": {},
    "colab_type": "code",
    "id": "AG_hfooz2BVg"
   },
   "outputs": [],
   "source": [
    "def validation_cv(subsample,colsample_bytree):\n",
    "  scores={}\n",
    "  best_score=0\n",
    "  #num_leaves_param_list=[]\n",
    "  #max_depth_param_list=[]\n",
    "  score_list=[]\n",
    "  #max_depth=np.arange(22,45,3)\n",
    "  #num_leaves=np.arange(30,81,10)\n",
    "  for i in subsample:\n",
    "      for j in colsample_bytree:\n",
    "          #max_depth_param=random.choice(max_depth)\n",
    "          #max_depth_param_list.append(max_depth_param)\n",
    "          #num_leaves_param=random.choice(num_leaves)\n",
    "          #num_leaves_param_list.append(num_leaves_param)\n",
    "          params[\"subsample\"]=i \n",
    "          params[\"colsample_bytree\"]=j\n",
    "          fold=KFold(n_splits=5,shuffle=True, random_state=1)\n",
    "          score=cross_val_score(lgb.LGBMClassifier(**params),X,y,scoring=\"roc_auc\",cv=fold)\n",
    "          score_list.append(score)\n",
    "          #score=lgb.cv(params,train_set=dtrain,metrics=\"auc\",nfold=5,num_boost_round=1000,early_stopping_rounds=100)\n",
    "          print(\"subsample-\",i,\"colsample_bytree-\",j,score.mean())\n",
    "          print(score)\n",
    "          if score.mean()>best_score:\n",
    "              best_score=score.mean()\n",
    "              print(\"best_score-\",best_score,\"subsample-\",i,\"colsample_bytree\",j)\n",
    "  return score_list"
   ]
  },
  {
   "cell_type": "code",
   "execution_count": null,
   "metadata": {
    "colab": {
     "base_uri": "https://localhost:8080/",
     "height": 1000
    },
    "colab_type": "code",
    "executionInfo": {
     "elapsed": 1251461,
     "status": "ok",
     "timestamp": 1591203732566,
     "user": {
      "displayName": "gokul mahendran",
      "photoUrl": "",
      "userId": "08734118555192468609"
     },
     "user_tz": -330
    },
    "id": "-w1TxO4z27cG",
    "outputId": "aa2a68cd-dcf6-4e06-fb37-90fc69ac01ae"
   },
   "outputs": [
    {
     "name": "stdout",
     "output_type": "stream",
     "text": [
      "subsample- 0.5 colsample_bytree- 0.5 0.6692402096084203\n",
      "[0.6691427  0.67091789 0.6680386  0.66987583 0.66822602]\n",
      "best_score- 0.6692402096084203 subsample- 0.5 colsample_bytree 0.5\n",
      "subsample- 0.5 colsample_bytree- 0.6 0.6692833871590087\n",
      "[0.66836141 0.6714075  0.66845503 0.67034258 0.6678504 ]\n",
      "best_score- 0.6692833871590087 subsample- 0.5 colsample_bytree 0.6\n",
      "subsample- 0.5 colsample_bytree- 0.7 0.6685729572916519\n",
      "[0.66829944 0.67102934 0.66686505 0.66945894 0.66721201]\n",
      "subsample- 0.5 colsample_bytree- 0.8 0.6687157611529745\n",
      "[0.66889778 0.67069092 0.66695108 0.66951812 0.66752091]\n",
      "subsample- 0.5 colsample_bytree- 0.9 0.6684539555885538\n",
      "[0.66810746 0.67059289 0.66724126 0.66952298 0.66680518]\n",
      "subsample- 0.5 colsample_bytree- 1 0.6685243665654713\n",
      "[0.66784077 0.67014036 0.66721537 0.67046489 0.66696045]\n",
      "subsample- 0.6 colsample_bytree- 0.5 0.6692402096084203\n",
      "[0.6691427  0.67091789 0.6680386  0.66987583 0.66822602]\n",
      "subsample- 0.6 colsample_bytree- 0.6 0.6692833871590087\n",
      "[0.66836141 0.6714075  0.66845503 0.67034258 0.6678504 ]\n",
      "subsample- 0.6 colsample_bytree- 0.7 0.6685729572916519\n",
      "[0.66829944 0.67102934 0.66686505 0.66945894 0.66721201]\n",
      "subsample- 0.6 colsample_bytree- 0.8 0.6687157611529745\n",
      "[0.66889778 0.67069092 0.66695108 0.66951812 0.66752091]\n",
      "subsample- 0.6 colsample_bytree- 0.9 0.6684539555885538\n",
      "[0.66810746 0.67059289 0.66724126 0.66952298 0.66680518]\n",
      "subsample- 0.6 colsample_bytree- 1 0.6685243665654713\n",
      "[0.66784077 0.67014036 0.66721537 0.67046489 0.66696045]\n",
      "subsample- 0.7 colsample_bytree- 0.5 0.6692402096084203\n",
      "[0.6691427  0.67091789 0.6680386  0.66987583 0.66822602]\n",
      "subsample- 0.7 colsample_bytree- 0.6 0.6692833871590087\n",
      "[0.66836141 0.6714075  0.66845503 0.67034258 0.6678504 ]\n",
      "subsample- 0.7 colsample_bytree- 0.7 0.6685729572916519\n",
      "[0.66829944 0.67102934 0.66686505 0.66945894 0.66721201]\n",
      "subsample- 0.7 colsample_bytree- 0.8 0.6687157611529745\n",
      "[0.66889778 0.67069092 0.66695108 0.66951812 0.66752091]\n",
      "subsample- 0.7 colsample_bytree- 0.9 0.6684539555885538\n",
      "[0.66810746 0.67059289 0.66724126 0.66952298 0.66680518]\n",
      "subsample- 0.7 colsample_bytree- 1 0.6685243665654713\n",
      "[0.66784077 0.67014036 0.66721537 0.67046489 0.66696045]\n",
      "subsample- 0.8 colsample_bytree- 0.5 0.6692402096084203\n",
      "[0.6691427  0.67091789 0.6680386  0.66987583 0.66822602]\n",
      "subsample- 0.8 colsample_bytree- 0.6 0.6692833871590087\n",
      "[0.66836141 0.6714075  0.66845503 0.67034258 0.6678504 ]\n",
      "subsample- 0.8 colsample_bytree- 0.7 0.6685729572916519\n",
      "[0.66829944 0.67102934 0.66686505 0.66945894 0.66721201]\n",
      "subsample- 0.8 colsample_bytree- 0.8 0.6687157611529745\n",
      "[0.66889778 0.67069092 0.66695108 0.66951812 0.66752091]\n",
      "subsample- 0.8 colsample_bytree- 0.9 0.6684539555885538\n",
      "[0.66810746 0.67059289 0.66724126 0.66952298 0.66680518]\n",
      "subsample- 0.8 colsample_bytree- 1 0.6685243665654713\n",
      "[0.66784077 0.67014036 0.66721537 0.67046489 0.66696045]\n",
      "subsample- 0.9 colsample_bytree- 0.5 0.6692402096084203\n",
      "[0.6691427  0.67091789 0.6680386  0.66987583 0.66822602]\n",
      "subsample- 0.9 colsample_bytree- 0.6 0.6692833871590087\n",
      "[0.66836141 0.6714075  0.66845503 0.67034258 0.6678504 ]\n",
      "subsample- 0.9 colsample_bytree- 0.7 0.6685729572916519\n",
      "[0.66829944 0.67102934 0.66686505 0.66945894 0.66721201]\n",
      "subsample- 0.9 colsample_bytree- 0.8 0.6687157611529745\n",
      "[0.66889778 0.67069092 0.66695108 0.66951812 0.66752091]\n",
      "subsample- 0.9 colsample_bytree- 0.9 0.6684539555885538\n",
      "[0.66810746 0.67059289 0.66724126 0.66952298 0.66680518]\n",
      "subsample- 0.9 colsample_bytree- 1 0.6685243665654713\n",
      "[0.66784077 0.67014036 0.66721537 0.67046489 0.66696045]\n",
      "subsample- 1 colsample_bytree- 0.5 0.6692402096084203\n",
      "[0.6691427  0.67091789 0.6680386  0.66987583 0.66822602]\n",
      "subsample- 1 colsample_bytree- 0.6 0.6692833871590087\n",
      "[0.66836141 0.6714075  0.66845503 0.67034258 0.6678504 ]\n",
      "subsample- 1 colsample_bytree- 0.7 0.6685729572916519\n",
      "[0.66829944 0.67102934 0.66686505 0.66945894 0.66721201]\n",
      "subsample- 1 colsample_bytree- 0.8 0.6687157611529745\n",
      "[0.66889778 0.67069092 0.66695108 0.66951812 0.66752091]\n",
      "subsample- 1 colsample_bytree- 0.9 0.6684539555885538\n",
      "[0.66810746 0.67059289 0.66724126 0.66952298 0.66680518]\n",
      "subsample- 1 colsample_bytree- 1 0.6685243665654713\n",
      "[0.66784077 0.67014036 0.66721537 0.67046489 0.66696045]\n"
     ]
    }
   ],
   "source": [
    "score_list=validation_cv([.5,.6,.7,.8,.9,1],[.5,.6,.7,.8,.9,1])"
   ]
  },
  {
   "cell_type": "code",
   "execution_count": null,
   "metadata": {
    "colab": {},
    "colab_type": "code",
    "id": "fpm2tMND6phm"
   },
   "outputs": [],
   "source": [
    "ind=[]\n",
    "for i in [.5,.6,.7,.8,.9,1]:\n",
    "  for j in [.5,.6,.7,.8,.9,1]:\n",
    "    ind.append((\"subsample_\"+str(i),\"colsample_bytree_\"+str(j)))"
   ]
  },
  {
   "cell_type": "code",
   "execution_count": null,
   "metadata": {
    "colab": {},
    "colab_type": "code",
    "id": "sFjtMffd6phq"
   },
   "outputs": [],
   "source": [
    "index_to_be_used=pd.MultiIndex.from_tuples(ind,names=(\"subsample\",\"colsample_bytree\"))"
   ]
  },
  {
   "cell_type": "code",
   "execution_count": null,
   "metadata": {
    "colab": {},
    "colab_type": "code",
    "id": "mmI2exRp6phu"
   },
   "outputs": [],
   "source": [
    "validation_subsample_colsample_bytree_df=pd.DataFrame(data=[i.mean() for i in score_list],index=index_to_be_used,columns=[\"mean\"])\n",
    "validation_subsample_colsample_bytree_df[\"std\"]=[np.std(i,ddof=1) for i in score_list]"
   ]
  },
  {
   "cell_type": "code",
   "execution_count": null,
   "metadata": {
    "colab": {
     "base_uri": "https://localhost:8080/",
     "height": 1000
    },
    "colab_type": "code",
    "executionInfo": {
     "elapsed": 1560,
     "status": "ok",
     "timestamp": 1591203802560,
     "user": {
      "displayName": "gokul mahendran",
      "photoUrl": "",
      "userId": "08734118555192468609"
     },
     "user_tz": -330
    },
    "id": "AZ1lt1zX8EHw",
    "outputId": "6bf09025-e554-4b8a-a59a-ee77dc61396f"
   },
   "outputs": [
    {
     "data": {
      "text/html": [
       "<div>\n",
       "<style scoped>\n",
       "    .dataframe tbody tr th:only-of-type {\n",
       "        vertical-align: middle;\n",
       "    }\n",
       "\n",
       "    .dataframe tbody tr th {\n",
       "        vertical-align: top;\n",
       "    }\n",
       "\n",
       "    .dataframe thead th {\n",
       "        text-align: right;\n",
       "    }\n",
       "</style>\n",
       "<table border=\"1\" class=\"dataframe\">\n",
       "  <thead>\n",
       "    <tr style=\"text-align: right;\">\n",
       "      <th></th>\n",
       "      <th></th>\n",
       "      <th>mean</th>\n",
       "      <th>std</th>\n",
       "    </tr>\n",
       "    <tr>\n",
       "      <th>subsample</th>\n",
       "      <th>colsample_bytree</th>\n",
       "      <th></th>\n",
       "      <th></th>\n",
       "    </tr>\n",
       "  </thead>\n",
       "  <tbody>\n",
       "    <tr>\n",
       "      <th>subsample_1</th>\n",
       "      <th>colsample_bytree_0.6</th>\n",
       "      <td>0.669283</td>\n",
       "      <td>0.001519</td>\n",
       "    </tr>\n",
       "    <tr>\n",
       "      <th>subsample_0.9</th>\n",
       "      <th>colsample_bytree_0.6</th>\n",
       "      <td>0.669283</td>\n",
       "      <td>0.001519</td>\n",
       "    </tr>\n",
       "    <tr>\n",
       "      <th>subsample_0.8</th>\n",
       "      <th>colsample_bytree_0.6</th>\n",
       "      <td>0.669283</td>\n",
       "      <td>0.001519</td>\n",
       "    </tr>\n",
       "    <tr>\n",
       "      <th>subsample_0.6</th>\n",
       "      <th>colsample_bytree_0.6</th>\n",
       "      <td>0.669283</td>\n",
       "      <td>0.001519</td>\n",
       "    </tr>\n",
       "    <tr>\n",
       "      <th>subsample_0.5</th>\n",
       "      <th>colsample_bytree_0.6</th>\n",
       "      <td>0.669283</td>\n",
       "      <td>0.001519</td>\n",
       "    </tr>\n",
       "    <tr>\n",
       "      <th>subsample_0.7</th>\n",
       "      <th>colsample_bytree_0.6</th>\n",
       "      <td>0.669283</td>\n",
       "      <td>0.001519</td>\n",
       "    </tr>\n",
       "    <tr>\n",
       "      <th>subsample_0.5</th>\n",
       "      <th>colsample_bytree_0.5</th>\n",
       "      <td>0.669240</td>\n",
       "      <td>0.001194</td>\n",
       "    </tr>\n",
       "    <tr>\n",
       "      <th>subsample_0.7</th>\n",
       "      <th>colsample_bytree_0.5</th>\n",
       "      <td>0.669240</td>\n",
       "      <td>0.001194</td>\n",
       "    </tr>\n",
       "    <tr>\n",
       "      <th>subsample_1</th>\n",
       "      <th>colsample_bytree_0.5</th>\n",
       "      <td>0.669240</td>\n",
       "      <td>0.001194</td>\n",
       "    </tr>\n",
       "    <tr>\n",
       "      <th>subsample_0.9</th>\n",
       "      <th>colsample_bytree_0.5</th>\n",
       "      <td>0.669240</td>\n",
       "      <td>0.001194</td>\n",
       "    </tr>\n",
       "    <tr>\n",
       "      <th>subsample_0.8</th>\n",
       "      <th>colsample_bytree_0.5</th>\n",
       "      <td>0.669240</td>\n",
       "      <td>0.001194</td>\n",
       "    </tr>\n",
       "    <tr>\n",
       "      <th rowspan=\"2\" valign=\"top\">subsample_0.6</th>\n",
       "      <th>colsample_bytree_0.5</th>\n",
       "      <td>0.669240</td>\n",
       "      <td>0.001194</td>\n",
       "    </tr>\n",
       "    <tr>\n",
       "      <th>colsample_bytree_0.8</th>\n",
       "      <td>0.668716</td>\n",
       "      <td>0.001510</td>\n",
       "    </tr>\n",
       "    <tr>\n",
       "      <th>subsample_0.7</th>\n",
       "      <th>colsample_bytree_0.8</th>\n",
       "      <td>0.668716</td>\n",
       "      <td>0.001510</td>\n",
       "    </tr>\n",
       "    <tr>\n",
       "      <th>subsample_1</th>\n",
       "      <th>colsample_bytree_0.8</th>\n",
       "      <td>0.668716</td>\n",
       "      <td>0.001510</td>\n",
       "    </tr>\n",
       "    <tr>\n",
       "      <th>subsample_0.8</th>\n",
       "      <th>colsample_bytree_0.8</th>\n",
       "      <td>0.668716</td>\n",
       "      <td>0.001510</td>\n",
       "    </tr>\n",
       "    <tr>\n",
       "      <th>subsample_0.5</th>\n",
       "      <th>colsample_bytree_0.8</th>\n",
       "      <td>0.668716</td>\n",
       "      <td>0.001510</td>\n",
       "    </tr>\n",
       "    <tr>\n",
       "      <th rowspan=\"2\" valign=\"top\">subsample_0.9</th>\n",
       "      <th>colsample_bytree_0.8</th>\n",
       "      <td>0.668716</td>\n",
       "      <td>0.001510</td>\n",
       "    </tr>\n",
       "    <tr>\n",
       "      <th>colsample_bytree_0.7</th>\n",
       "      <td>0.668573</td>\n",
       "      <td>0.001708</td>\n",
       "    </tr>\n",
       "    <tr>\n",
       "      <th>subsample_0.7</th>\n",
       "      <th>colsample_bytree_0.7</th>\n",
       "      <td>0.668573</td>\n",
       "      <td>0.001708</td>\n",
       "    </tr>\n",
       "    <tr>\n",
       "      <th>subsample_1</th>\n",
       "      <th>colsample_bytree_0.7</th>\n",
       "      <td>0.668573</td>\n",
       "      <td>0.001708</td>\n",
       "    </tr>\n",
       "    <tr>\n",
       "      <th>subsample_0.6</th>\n",
       "      <th>colsample_bytree_0.7</th>\n",
       "      <td>0.668573</td>\n",
       "      <td>0.001708</td>\n",
       "    </tr>\n",
       "    <tr>\n",
       "      <th>subsample_0.8</th>\n",
       "      <th>colsample_bytree_0.7</th>\n",
       "      <td>0.668573</td>\n",
       "      <td>0.001708</td>\n",
       "    </tr>\n",
       "    <tr>\n",
       "      <th>subsample_0.5</th>\n",
       "      <th>colsample_bytree_0.7</th>\n",
       "      <td>0.668573</td>\n",
       "      <td>0.001708</td>\n",
       "    </tr>\n",
       "    <tr>\n",
       "      <th>subsample_0.6</th>\n",
       "      <th>colsample_bytree_1</th>\n",
       "      <td>0.668524</td>\n",
       "      <td>0.001659</td>\n",
       "    </tr>\n",
       "    <tr>\n",
       "      <th>subsample_0.9</th>\n",
       "      <th>colsample_bytree_1</th>\n",
       "      <td>0.668524</td>\n",
       "      <td>0.001659</td>\n",
       "    </tr>\n",
       "    <tr>\n",
       "      <th>subsample_0.8</th>\n",
       "      <th>colsample_bytree_1</th>\n",
       "      <td>0.668524</td>\n",
       "      <td>0.001659</td>\n",
       "    </tr>\n",
       "    <tr>\n",
       "      <th>subsample_0.5</th>\n",
       "      <th>colsample_bytree_1</th>\n",
       "      <td>0.668524</td>\n",
       "      <td>0.001659</td>\n",
       "    </tr>\n",
       "    <tr>\n",
       "      <th>subsample_0.7</th>\n",
       "      <th>colsample_bytree_1</th>\n",
       "      <td>0.668524</td>\n",
       "      <td>0.001659</td>\n",
       "    </tr>\n",
       "    <tr>\n",
       "      <th>subsample_1</th>\n",
       "      <th>colsample_bytree_1</th>\n",
       "      <td>0.668524</td>\n",
       "      <td>0.001659</td>\n",
       "    </tr>\n",
       "    <tr>\n",
       "      <th>subsample_0.5</th>\n",
       "      <th>colsample_bytree_0.9</th>\n",
       "      <td>0.668454</td>\n",
       "      <td>0.001583</td>\n",
       "    </tr>\n",
       "    <tr>\n",
       "      <th>subsample_0.9</th>\n",
       "      <th>colsample_bytree_0.9</th>\n",
       "      <td>0.668454</td>\n",
       "      <td>0.001583</td>\n",
       "    </tr>\n",
       "    <tr>\n",
       "      <th>subsample_0.6</th>\n",
       "      <th>colsample_bytree_0.9</th>\n",
       "      <td>0.668454</td>\n",
       "      <td>0.001583</td>\n",
       "    </tr>\n",
       "    <tr>\n",
       "      <th>subsample_0.8</th>\n",
       "      <th>colsample_bytree_0.9</th>\n",
       "      <td>0.668454</td>\n",
       "      <td>0.001583</td>\n",
       "    </tr>\n",
       "    <tr>\n",
       "      <th>subsample_0.7</th>\n",
       "      <th>colsample_bytree_0.9</th>\n",
       "      <td>0.668454</td>\n",
       "      <td>0.001583</td>\n",
       "    </tr>\n",
       "    <tr>\n",
       "      <th>subsample_1</th>\n",
       "      <th>colsample_bytree_0.9</th>\n",
       "      <td>0.668454</td>\n",
       "      <td>0.001583</td>\n",
       "    </tr>\n",
       "  </tbody>\n",
       "</table>\n",
       "</div>"
      ],
      "text/plain": [
       "                                        mean       std\n",
       "subsample     colsample_bytree                        \n",
       "subsample_1   colsample_bytree_0.6  0.669283  0.001519\n",
       "subsample_0.9 colsample_bytree_0.6  0.669283  0.001519\n",
       "subsample_0.8 colsample_bytree_0.6  0.669283  0.001519\n",
       "subsample_0.6 colsample_bytree_0.6  0.669283  0.001519\n",
       "subsample_0.5 colsample_bytree_0.6  0.669283  0.001519\n",
       "subsample_0.7 colsample_bytree_0.6  0.669283  0.001519\n",
       "subsample_0.5 colsample_bytree_0.5  0.669240  0.001194\n",
       "subsample_0.7 colsample_bytree_0.5  0.669240  0.001194\n",
       "subsample_1   colsample_bytree_0.5  0.669240  0.001194\n",
       "subsample_0.9 colsample_bytree_0.5  0.669240  0.001194\n",
       "subsample_0.8 colsample_bytree_0.5  0.669240  0.001194\n",
       "subsample_0.6 colsample_bytree_0.5  0.669240  0.001194\n",
       "              colsample_bytree_0.8  0.668716  0.001510\n",
       "subsample_0.7 colsample_bytree_0.8  0.668716  0.001510\n",
       "subsample_1   colsample_bytree_0.8  0.668716  0.001510\n",
       "subsample_0.8 colsample_bytree_0.8  0.668716  0.001510\n",
       "subsample_0.5 colsample_bytree_0.8  0.668716  0.001510\n",
       "subsample_0.9 colsample_bytree_0.8  0.668716  0.001510\n",
       "              colsample_bytree_0.7  0.668573  0.001708\n",
       "subsample_0.7 colsample_bytree_0.7  0.668573  0.001708\n",
       "subsample_1   colsample_bytree_0.7  0.668573  0.001708\n",
       "subsample_0.6 colsample_bytree_0.7  0.668573  0.001708\n",
       "subsample_0.8 colsample_bytree_0.7  0.668573  0.001708\n",
       "subsample_0.5 colsample_bytree_0.7  0.668573  0.001708\n",
       "subsample_0.6 colsample_bytree_1    0.668524  0.001659\n",
       "subsample_0.9 colsample_bytree_1    0.668524  0.001659\n",
       "subsample_0.8 colsample_bytree_1    0.668524  0.001659\n",
       "subsample_0.5 colsample_bytree_1    0.668524  0.001659\n",
       "subsample_0.7 colsample_bytree_1    0.668524  0.001659\n",
       "subsample_1   colsample_bytree_1    0.668524  0.001659\n",
       "subsample_0.5 colsample_bytree_0.9  0.668454  0.001583\n",
       "subsample_0.9 colsample_bytree_0.9  0.668454  0.001583\n",
       "subsample_0.6 colsample_bytree_0.9  0.668454  0.001583\n",
       "subsample_0.8 colsample_bytree_0.9  0.668454  0.001583\n",
       "subsample_0.7 colsample_bytree_0.9  0.668454  0.001583\n",
       "subsample_1   colsample_bytree_0.9  0.668454  0.001583"
      ]
     },
     "execution_count": 102,
     "metadata": {
      "tags": []
     },
     "output_type": "execute_result"
    }
   ],
   "source": [
    "validation_subsample_colsample_bytree_df.sort_values(by=\"mean\",ascending=False)"
   ]
  },
  {
   "cell_type": "code",
   "execution_count": null,
   "metadata": {
    "colab": {},
    "colab_type": "code",
    "id": "U0peYcX0Isko"
   },
   "outputs": [],
   "source": [
    "#At subsample=1 and col_bysample=.6 we have best auc mean -0.669283\tand better std 0.001519"
   ]
  },
  {
   "cell_type": "code",
   "execution_count": null,
   "metadata": {
    "colab": {},
    "colab_type": "code",
    "id": "7FZ6bYRyJaeJ"
   },
   "outputs": [],
   "source": [
    "def validation_cv(reg_lambda):\n",
    "  scores={}\n",
    "  best_score=0\n",
    "  #num_leaves_param_list=[]\n",
    "  #max_depth_param_list=[]\n",
    "  score_list=[]\n",
    "  #max_depth=np.arange(22,45,3)\n",
    "  #num_leaves=np.arange(30,81,10)\n",
    "  for i in reg_lambda:\n",
    "    #for j in colsample_bytree:\n",
    "        #max_depth_param=random.choice(max_depth)\n",
    "        #max_depth_param_list.append(max_depth_param)\n",
    "        #num_leaves_param=random.choice(num_leaves)\n",
    "        #num_leaves_param_list.append(num_leaves_param)\n",
    "        params[\"reg_lambda\"]=i \n",
    "        #params[\"colsample_bytree\"]=j\n",
    "        fold=KFold(n_splits=5,shuffle=True, random_state=1)\n",
    "        score=cross_val_score(lgb.LGBMClassifier(**params),X,y,scoring=\"roc_auc\",cv=fold)\n",
    "        score_list.append(score)\n",
    "        #score=lgb.cv(params,train_set=dtrain,metrics=\"auc\",nfold=5,num_boost_round=1000,early_stopping_rounds=100)\n",
    "        print(\"reg_lambda-\",i,score.mean())\n",
    "        print(score)\n",
    "        if score.mean()>best_score:\n",
    "            best_score=score.mean()\n",
    "            print(\"best_score-\",best_score,\"reg_lambda-\",i)\n",
    "  return score_list"
   ]
  },
  {
   "cell_type": "code",
   "execution_count": null,
   "metadata": {
    "colab": {
     "base_uri": "https://localhost:8080/",
     "height": 425
    },
    "colab_type": "code",
    "executionInfo": {
     "elapsed": 8604,
     "status": "error",
     "timestamp": 1591206438570,
     "user": {
      "displayName": "gokul mahendran",
      "photoUrl": "",
      "userId": "08734118555192468609"
     },
     "user_tz": -330
    },
    "id": "O-hyhmttJ1mC",
    "outputId": "7a33550d-713a-41e6-815c-372f8cac5c8d"
   },
   "outputs": [
    {
     "ename": "KeyboardInterrupt",
     "evalue": "ignored",
     "output_type": "error",
     "traceback": [
      "\u001b[0;31m---------------------------------------------------------------------------\u001b[0m",
      "\u001b[0;31mAttributeError\u001b[0m                            Traceback (most recent call last)",
      "\u001b[0;32m/usr/local/lib/python3.6/dist-packages/sklearn/metrics/_scorer.py\u001b[0m in \u001b[0;36m_score\u001b[0;34m(self, method_caller, clf, X, y, sample_weight)\u001b[0m\n\u001b[1;32m    305\u001b[0m             \u001b[0;32mtry\u001b[0m\u001b[0;34m:\u001b[0m\u001b[0;34m\u001b[0m\u001b[0;34m\u001b[0m\u001b[0m\n\u001b[0;32m--> 306\u001b[0;31m                 \u001b[0my_pred\u001b[0m \u001b[0;34m=\u001b[0m \u001b[0mmethod_caller\u001b[0m\u001b[0;34m(\u001b[0m\u001b[0mclf\u001b[0m\u001b[0;34m,\u001b[0m \u001b[0;34m\"decision_function\"\u001b[0m\u001b[0;34m,\u001b[0m \u001b[0mX\u001b[0m\u001b[0;34m)\u001b[0m\u001b[0;34m\u001b[0m\u001b[0;34m\u001b[0m\u001b[0m\n\u001b[0m\u001b[1;32m    307\u001b[0m \u001b[0;34m\u001b[0m\u001b[0m\n",
      "\u001b[0;32m/usr/local/lib/python3.6/dist-packages/sklearn/metrics/_scorer.py\u001b[0m in \u001b[0;36m_cached_call\u001b[0;34m(cache, estimator, method, *args, **kwargs)\u001b[0m\n\u001b[1;32m     51\u001b[0m     \u001b[0;32mif\u001b[0m \u001b[0mcache\u001b[0m \u001b[0;32mis\u001b[0m \u001b[0;32mNone\u001b[0m\u001b[0;34m:\u001b[0m\u001b[0;34m\u001b[0m\u001b[0;34m\u001b[0m\u001b[0m\n\u001b[0;32m---> 52\u001b[0;31m         \u001b[0;32mreturn\u001b[0m \u001b[0mgetattr\u001b[0m\u001b[0;34m(\u001b[0m\u001b[0mestimator\u001b[0m\u001b[0;34m,\u001b[0m \u001b[0mmethod\u001b[0m\u001b[0;34m)\u001b[0m\u001b[0;34m(\u001b[0m\u001b[0;34m*\u001b[0m\u001b[0margs\u001b[0m\u001b[0;34m,\u001b[0m \u001b[0;34m**\u001b[0m\u001b[0mkwargs\u001b[0m\u001b[0;34m)\u001b[0m\u001b[0;34m\u001b[0m\u001b[0;34m\u001b[0m\u001b[0m\n\u001b[0m\u001b[1;32m     53\u001b[0m \u001b[0;34m\u001b[0m\u001b[0m\n",
      "\u001b[0;31mAttributeError\u001b[0m: 'LGBMClassifier' object has no attribute 'decision_function'",
      "\nDuring handling of the above exception, another exception occurred:\n",
      "\u001b[0;31mKeyboardInterrupt\u001b[0m                         Traceback (most recent call last)",
      "\u001b[0;32m<ipython-input-121-1a4d209cbf57>\u001b[0m in \u001b[0;36m<module>\u001b[0;34m()\u001b[0m\n\u001b[0;32m----> 1\u001b[0;31m \u001b[0mscore_list\u001b[0m\u001b[0;34m=\u001b[0m\u001b[0mvalidation_cv\u001b[0m\u001b[0;34m(\u001b[0m\u001b[0;34m[\u001b[0m\u001b[0;36m0\u001b[0m\u001b[0;34m,\u001b[0m\u001b[0;36m.2\u001b[0m\u001b[0;34m,\u001b[0m\u001b[0;36m.4\u001b[0m\u001b[0;34m,\u001b[0m\u001b[0;36m.6\u001b[0m\u001b[0;34m,\u001b[0m\u001b[0;36m.8\u001b[0m\u001b[0;34m,\u001b[0m\u001b[0;36m1\u001b[0m\u001b[0;34m]\u001b[0m\u001b[0;34m)\u001b[0m\u001b[0;34m\u001b[0m\u001b[0;34m\u001b[0m\u001b[0m\n\u001b[0m",
      "\u001b[0;32m<ipython-input-119-103f37e3e0d3>\u001b[0m in \u001b[0;36mvalidation_cv\u001b[0;34m(min_child_samples)\u001b[0m\n\u001b[1;32m     16\u001b[0m         \u001b[0;31m#params[\"colsample_bytree\"]=j\u001b[0m\u001b[0;34m\u001b[0m\u001b[0;34m\u001b[0m\u001b[0;34m\u001b[0m\u001b[0m\n\u001b[1;32m     17\u001b[0m         \u001b[0mfold\u001b[0m\u001b[0;34m=\u001b[0m\u001b[0mKFold\u001b[0m\u001b[0;34m(\u001b[0m\u001b[0mn_splits\u001b[0m\u001b[0;34m=\u001b[0m\u001b[0;36m5\u001b[0m\u001b[0;34m,\u001b[0m\u001b[0mshuffle\u001b[0m\u001b[0;34m=\u001b[0m\u001b[0;32mTrue\u001b[0m\u001b[0;34m,\u001b[0m \u001b[0mrandom_state\u001b[0m\u001b[0;34m=\u001b[0m\u001b[0;36m1\u001b[0m\u001b[0;34m)\u001b[0m\u001b[0;34m\u001b[0m\u001b[0;34m\u001b[0m\u001b[0m\n\u001b[0;32m---> 18\u001b[0;31m         \u001b[0mscore\u001b[0m\u001b[0;34m=\u001b[0m\u001b[0mcross_val_score\u001b[0m\u001b[0;34m(\u001b[0m\u001b[0mlgb\u001b[0m\u001b[0;34m.\u001b[0m\u001b[0mLGBMClassifier\u001b[0m\u001b[0;34m(\u001b[0m\u001b[0;34m**\u001b[0m\u001b[0mparams\u001b[0m\u001b[0;34m)\u001b[0m\u001b[0;34m,\u001b[0m\u001b[0mX\u001b[0m\u001b[0;34m,\u001b[0m\u001b[0my\u001b[0m\u001b[0;34m,\u001b[0m\u001b[0mscoring\u001b[0m\u001b[0;34m=\u001b[0m\u001b[0;34m\"roc_auc\"\u001b[0m\u001b[0;34m,\u001b[0m\u001b[0mcv\u001b[0m\u001b[0;34m=\u001b[0m\u001b[0mfold\u001b[0m\u001b[0;34m)\u001b[0m\u001b[0;34m\u001b[0m\u001b[0;34m\u001b[0m\u001b[0m\n\u001b[0m\u001b[1;32m     19\u001b[0m         \u001b[0mscore_list\u001b[0m\u001b[0;34m.\u001b[0m\u001b[0mappend\u001b[0m\u001b[0;34m(\u001b[0m\u001b[0mscore\u001b[0m\u001b[0;34m)\u001b[0m\u001b[0;34m\u001b[0m\u001b[0;34m\u001b[0m\u001b[0m\n\u001b[1;32m     20\u001b[0m         \u001b[0;31m#score=lgb.cv(params,train_set=dtrain,metrics=\"auc\",nfold=5,num_boost_round=1000,early_stopping_rounds=100)\u001b[0m\u001b[0;34m\u001b[0m\u001b[0;34m\u001b[0m\u001b[0;34m\u001b[0m\u001b[0m\n",
      "\u001b[0;32m/usr/local/lib/python3.6/dist-packages/sklearn/model_selection/_validation.py\u001b[0m in \u001b[0;36mcross_val_score\u001b[0;34m(estimator, X, y, groups, scoring, cv, n_jobs, verbose, fit_params, pre_dispatch, error_score)\u001b[0m\n\u001b[1;32m    388\u001b[0m                                 \u001b[0mfit_params\u001b[0m\u001b[0;34m=\u001b[0m\u001b[0mfit_params\u001b[0m\u001b[0;34m,\u001b[0m\u001b[0;34m\u001b[0m\u001b[0;34m\u001b[0m\u001b[0m\n\u001b[1;32m    389\u001b[0m                                 \u001b[0mpre_dispatch\u001b[0m\u001b[0;34m=\u001b[0m\u001b[0mpre_dispatch\u001b[0m\u001b[0;34m,\u001b[0m\u001b[0;34m\u001b[0m\u001b[0;34m\u001b[0m\u001b[0m\n\u001b[0;32m--> 390\u001b[0;31m                                 error_score=error_score)\n\u001b[0m\u001b[1;32m    391\u001b[0m     \u001b[0;32mreturn\u001b[0m \u001b[0mcv_results\u001b[0m\u001b[0;34m[\u001b[0m\u001b[0;34m'test_score'\u001b[0m\u001b[0;34m]\u001b[0m\u001b[0;34m\u001b[0m\u001b[0;34m\u001b[0m\u001b[0m\n\u001b[1;32m    392\u001b[0m \u001b[0;34m\u001b[0m\u001b[0m\n",
      "\u001b[0;32m/usr/local/lib/python3.6/dist-packages/sklearn/model_selection/_validation.py\u001b[0m in \u001b[0;36mcross_validate\u001b[0;34m(estimator, X, y, groups, scoring, cv, n_jobs, verbose, fit_params, pre_dispatch, return_train_score, return_estimator, error_score)\u001b[0m\n\u001b[1;32m    234\u001b[0m             \u001b[0mreturn_times\u001b[0m\u001b[0;34m=\u001b[0m\u001b[0;32mTrue\u001b[0m\u001b[0;34m,\u001b[0m \u001b[0mreturn_estimator\u001b[0m\u001b[0;34m=\u001b[0m\u001b[0mreturn_estimator\u001b[0m\u001b[0;34m,\u001b[0m\u001b[0;34m\u001b[0m\u001b[0;34m\u001b[0m\u001b[0m\n\u001b[1;32m    235\u001b[0m             error_score=error_score)\n\u001b[0;32m--> 236\u001b[0;31m         for train, test in cv.split(X, y, groups))\n\u001b[0m\u001b[1;32m    237\u001b[0m \u001b[0;34m\u001b[0m\u001b[0m\n\u001b[1;32m    238\u001b[0m     \u001b[0mzipped_scores\u001b[0m \u001b[0;34m=\u001b[0m \u001b[0mlist\u001b[0m\u001b[0;34m(\u001b[0m\u001b[0mzip\u001b[0m\u001b[0;34m(\u001b[0m\u001b[0;34m*\u001b[0m\u001b[0mscores\u001b[0m\u001b[0;34m)\u001b[0m\u001b[0;34m)\u001b[0m\u001b[0;34m\u001b[0m\u001b[0;34m\u001b[0m\u001b[0m\n",
      "\u001b[0;32m/usr/local/lib/python3.6/dist-packages/joblib/parallel.py\u001b[0m in \u001b[0;36m__call__\u001b[0;34m(self, iterable)\u001b[0m\n\u001b[1;32m   1027\u001b[0m             \u001b[0;31m# remaining jobs.\u001b[0m\u001b[0;34m\u001b[0m\u001b[0;34m\u001b[0m\u001b[0;34m\u001b[0m\u001b[0m\n\u001b[1;32m   1028\u001b[0m             \u001b[0mself\u001b[0m\u001b[0;34m.\u001b[0m\u001b[0m_iterating\u001b[0m \u001b[0;34m=\u001b[0m \u001b[0;32mFalse\u001b[0m\u001b[0;34m\u001b[0m\u001b[0;34m\u001b[0m\u001b[0m\n\u001b[0;32m-> 1029\u001b[0;31m             \u001b[0;32mif\u001b[0m \u001b[0mself\u001b[0m\u001b[0;34m.\u001b[0m\u001b[0mdispatch_one_batch\u001b[0m\u001b[0;34m(\u001b[0m\u001b[0miterator\u001b[0m\u001b[0;34m)\u001b[0m\u001b[0;34m:\u001b[0m\u001b[0;34m\u001b[0m\u001b[0;34m\u001b[0m\u001b[0m\n\u001b[0m\u001b[1;32m   1030\u001b[0m                 \u001b[0mself\u001b[0m\u001b[0;34m.\u001b[0m\u001b[0m_iterating\u001b[0m \u001b[0;34m=\u001b[0m \u001b[0mself\u001b[0m\u001b[0;34m.\u001b[0m\u001b[0m_original_iterator\u001b[0m \u001b[0;32mis\u001b[0m \u001b[0;32mnot\u001b[0m \u001b[0;32mNone\u001b[0m\u001b[0;34m\u001b[0m\u001b[0;34m\u001b[0m\u001b[0m\n\u001b[1;32m   1031\u001b[0m \u001b[0;34m\u001b[0m\u001b[0m\n",
      "\u001b[0;32m/usr/local/lib/python3.6/dist-packages/joblib/parallel.py\u001b[0m in \u001b[0;36mdispatch_one_batch\u001b[0;34m(self, iterator)\u001b[0m\n\u001b[1;32m    845\u001b[0m                 \u001b[0;32mreturn\u001b[0m \u001b[0;32mFalse\u001b[0m\u001b[0;34m\u001b[0m\u001b[0;34m\u001b[0m\u001b[0m\n\u001b[1;32m    846\u001b[0m             \u001b[0;32melse\u001b[0m\u001b[0;34m:\u001b[0m\u001b[0;34m\u001b[0m\u001b[0;34m\u001b[0m\u001b[0m\n\u001b[0;32m--> 847\u001b[0;31m                 \u001b[0mself\u001b[0m\u001b[0;34m.\u001b[0m\u001b[0m_dispatch\u001b[0m\u001b[0;34m(\u001b[0m\u001b[0mtasks\u001b[0m\u001b[0;34m)\u001b[0m\u001b[0;34m\u001b[0m\u001b[0;34m\u001b[0m\u001b[0m\n\u001b[0m\u001b[1;32m    848\u001b[0m                 \u001b[0;32mreturn\u001b[0m \u001b[0;32mTrue\u001b[0m\u001b[0;34m\u001b[0m\u001b[0;34m\u001b[0m\u001b[0m\n\u001b[1;32m    849\u001b[0m \u001b[0;34m\u001b[0m\u001b[0m\n",
      "\u001b[0;32m/usr/local/lib/python3.6/dist-packages/joblib/parallel.py\u001b[0m in \u001b[0;36m_dispatch\u001b[0;34m(self, batch)\u001b[0m\n\u001b[1;32m    763\u001b[0m         \u001b[0;32mwith\u001b[0m \u001b[0mself\u001b[0m\u001b[0;34m.\u001b[0m\u001b[0m_lock\u001b[0m\u001b[0;34m:\u001b[0m\u001b[0;34m\u001b[0m\u001b[0;34m\u001b[0m\u001b[0m\n\u001b[1;32m    764\u001b[0m             \u001b[0mjob_idx\u001b[0m \u001b[0;34m=\u001b[0m \u001b[0mlen\u001b[0m\u001b[0;34m(\u001b[0m\u001b[0mself\u001b[0m\u001b[0;34m.\u001b[0m\u001b[0m_jobs\u001b[0m\u001b[0;34m)\u001b[0m\u001b[0;34m\u001b[0m\u001b[0;34m\u001b[0m\u001b[0m\n\u001b[0;32m--> 765\u001b[0;31m             \u001b[0mjob\u001b[0m \u001b[0;34m=\u001b[0m \u001b[0mself\u001b[0m\u001b[0;34m.\u001b[0m\u001b[0m_backend\u001b[0m\u001b[0;34m.\u001b[0m\u001b[0mapply_async\u001b[0m\u001b[0;34m(\u001b[0m\u001b[0mbatch\u001b[0m\u001b[0;34m,\u001b[0m \u001b[0mcallback\u001b[0m\u001b[0;34m=\u001b[0m\u001b[0mcb\u001b[0m\u001b[0;34m)\u001b[0m\u001b[0;34m\u001b[0m\u001b[0;34m\u001b[0m\u001b[0m\n\u001b[0m\u001b[1;32m    766\u001b[0m             \u001b[0;31m# A job can complete so quickly than its callback is\u001b[0m\u001b[0;34m\u001b[0m\u001b[0;34m\u001b[0m\u001b[0;34m\u001b[0m\u001b[0m\n\u001b[1;32m    767\u001b[0m             \u001b[0;31m# called before we get here, causing self._jobs to\u001b[0m\u001b[0;34m\u001b[0m\u001b[0;34m\u001b[0m\u001b[0;34m\u001b[0m\u001b[0m\n",
      "\u001b[0;32m/usr/local/lib/python3.6/dist-packages/joblib/_parallel_backends.py\u001b[0m in \u001b[0;36mapply_async\u001b[0;34m(self, func, callback)\u001b[0m\n\u001b[1;32m    204\u001b[0m     \u001b[0;32mdef\u001b[0m \u001b[0mapply_async\u001b[0m\u001b[0;34m(\u001b[0m\u001b[0mself\u001b[0m\u001b[0;34m,\u001b[0m \u001b[0mfunc\u001b[0m\u001b[0;34m,\u001b[0m \u001b[0mcallback\u001b[0m\u001b[0;34m=\u001b[0m\u001b[0;32mNone\u001b[0m\u001b[0;34m)\u001b[0m\u001b[0;34m:\u001b[0m\u001b[0;34m\u001b[0m\u001b[0;34m\u001b[0m\u001b[0m\n\u001b[1;32m    205\u001b[0m         \u001b[0;34m\"\"\"Schedule a func to be run\"\"\"\u001b[0m\u001b[0;34m\u001b[0m\u001b[0;34m\u001b[0m\u001b[0m\n\u001b[0;32m--> 206\u001b[0;31m         \u001b[0mresult\u001b[0m \u001b[0;34m=\u001b[0m \u001b[0mImmediateResult\u001b[0m\u001b[0;34m(\u001b[0m\u001b[0mfunc\u001b[0m\u001b[0;34m)\u001b[0m\u001b[0;34m\u001b[0m\u001b[0;34m\u001b[0m\u001b[0m\n\u001b[0m\u001b[1;32m    207\u001b[0m         \u001b[0;32mif\u001b[0m \u001b[0mcallback\u001b[0m\u001b[0;34m:\u001b[0m\u001b[0;34m\u001b[0m\u001b[0;34m\u001b[0m\u001b[0m\n\u001b[1;32m    208\u001b[0m             \u001b[0mcallback\u001b[0m\u001b[0;34m(\u001b[0m\u001b[0mresult\u001b[0m\u001b[0;34m)\u001b[0m\u001b[0;34m\u001b[0m\u001b[0;34m\u001b[0m\u001b[0m\n",
      "\u001b[0;32m/usr/local/lib/python3.6/dist-packages/joblib/_parallel_backends.py\u001b[0m in \u001b[0;36m__init__\u001b[0;34m(self, batch)\u001b[0m\n\u001b[1;32m    568\u001b[0m         \u001b[0;31m# Don't delay the application, to avoid keeping the input\u001b[0m\u001b[0;34m\u001b[0m\u001b[0;34m\u001b[0m\u001b[0;34m\u001b[0m\u001b[0m\n\u001b[1;32m    569\u001b[0m         \u001b[0;31m# arguments in memory\u001b[0m\u001b[0;34m\u001b[0m\u001b[0;34m\u001b[0m\u001b[0;34m\u001b[0m\u001b[0m\n\u001b[0;32m--> 570\u001b[0;31m         \u001b[0mself\u001b[0m\u001b[0;34m.\u001b[0m\u001b[0mresults\u001b[0m \u001b[0;34m=\u001b[0m \u001b[0mbatch\u001b[0m\u001b[0;34m(\u001b[0m\u001b[0;34m)\u001b[0m\u001b[0;34m\u001b[0m\u001b[0;34m\u001b[0m\u001b[0m\n\u001b[0m\u001b[1;32m    571\u001b[0m \u001b[0;34m\u001b[0m\u001b[0m\n\u001b[1;32m    572\u001b[0m     \u001b[0;32mdef\u001b[0m \u001b[0mget\u001b[0m\u001b[0;34m(\u001b[0m\u001b[0mself\u001b[0m\u001b[0;34m)\u001b[0m\u001b[0;34m:\u001b[0m\u001b[0;34m\u001b[0m\u001b[0;34m\u001b[0m\u001b[0m\n",
      "\u001b[0;32m/usr/local/lib/python3.6/dist-packages/joblib/parallel.py\u001b[0m in \u001b[0;36m__call__\u001b[0;34m(self)\u001b[0m\n\u001b[1;32m    251\u001b[0m         \u001b[0;32mwith\u001b[0m \u001b[0mparallel_backend\u001b[0m\u001b[0;34m(\u001b[0m\u001b[0mself\u001b[0m\u001b[0;34m.\u001b[0m\u001b[0m_backend\u001b[0m\u001b[0;34m,\u001b[0m \u001b[0mn_jobs\u001b[0m\u001b[0;34m=\u001b[0m\u001b[0mself\u001b[0m\u001b[0;34m.\u001b[0m\u001b[0m_n_jobs\u001b[0m\u001b[0;34m)\u001b[0m\u001b[0;34m:\u001b[0m\u001b[0;34m\u001b[0m\u001b[0;34m\u001b[0m\u001b[0m\n\u001b[1;32m    252\u001b[0m             return [func(*args, **kwargs)\n\u001b[0;32m--> 253\u001b[0;31m                     for func, args, kwargs in self.items]\n\u001b[0m\u001b[1;32m    254\u001b[0m \u001b[0;34m\u001b[0m\u001b[0m\n\u001b[1;32m    255\u001b[0m     \u001b[0;32mdef\u001b[0m \u001b[0m__reduce__\u001b[0m\u001b[0;34m(\u001b[0m\u001b[0mself\u001b[0m\u001b[0;34m)\u001b[0m\u001b[0;34m:\u001b[0m\u001b[0;34m\u001b[0m\u001b[0;34m\u001b[0m\u001b[0m\n",
      "\u001b[0;32m/usr/local/lib/python3.6/dist-packages/joblib/parallel.py\u001b[0m in \u001b[0;36m<listcomp>\u001b[0;34m(.0)\u001b[0m\n\u001b[1;32m    251\u001b[0m         \u001b[0;32mwith\u001b[0m \u001b[0mparallel_backend\u001b[0m\u001b[0;34m(\u001b[0m\u001b[0mself\u001b[0m\u001b[0;34m.\u001b[0m\u001b[0m_backend\u001b[0m\u001b[0;34m,\u001b[0m \u001b[0mn_jobs\u001b[0m\u001b[0;34m=\u001b[0m\u001b[0mself\u001b[0m\u001b[0;34m.\u001b[0m\u001b[0m_n_jobs\u001b[0m\u001b[0;34m)\u001b[0m\u001b[0;34m:\u001b[0m\u001b[0;34m\u001b[0m\u001b[0;34m\u001b[0m\u001b[0m\n\u001b[1;32m    252\u001b[0m             return [func(*args, **kwargs)\n\u001b[0;32m--> 253\u001b[0;31m                     for func, args, kwargs in self.items]\n\u001b[0m\u001b[1;32m    254\u001b[0m \u001b[0;34m\u001b[0m\u001b[0m\n\u001b[1;32m    255\u001b[0m     \u001b[0;32mdef\u001b[0m \u001b[0m__reduce__\u001b[0m\u001b[0;34m(\u001b[0m\u001b[0mself\u001b[0m\u001b[0;34m)\u001b[0m\u001b[0;34m:\u001b[0m\u001b[0;34m\u001b[0m\u001b[0;34m\u001b[0m\u001b[0m\n",
      "\u001b[0;32m/usr/local/lib/python3.6/dist-packages/sklearn/model_selection/_validation.py\u001b[0m in \u001b[0;36m_fit_and_score\u001b[0;34m(estimator, X, y, scorer, train, test, verbose, parameters, fit_params, return_train_score, return_parameters, return_n_test_samples, return_times, return_estimator, error_score)\u001b[0m\n\u001b[1;32m    542\u001b[0m     \u001b[0;32melse\u001b[0m\u001b[0;34m:\u001b[0m\u001b[0;34m\u001b[0m\u001b[0;34m\u001b[0m\u001b[0m\n\u001b[1;32m    543\u001b[0m         \u001b[0mfit_time\u001b[0m \u001b[0;34m=\u001b[0m \u001b[0mtime\u001b[0m\u001b[0;34m.\u001b[0m\u001b[0mtime\u001b[0m\u001b[0;34m(\u001b[0m\u001b[0;34m)\u001b[0m \u001b[0;34m-\u001b[0m \u001b[0mstart_time\u001b[0m\u001b[0;34m\u001b[0m\u001b[0;34m\u001b[0m\u001b[0m\n\u001b[0;32m--> 544\u001b[0;31m         \u001b[0mtest_scores\u001b[0m \u001b[0;34m=\u001b[0m \u001b[0m_score\u001b[0m\u001b[0;34m(\u001b[0m\u001b[0mestimator\u001b[0m\u001b[0;34m,\u001b[0m \u001b[0mX_test\u001b[0m\u001b[0;34m,\u001b[0m \u001b[0my_test\u001b[0m\u001b[0;34m,\u001b[0m \u001b[0mscorer\u001b[0m\u001b[0;34m)\u001b[0m\u001b[0;34m\u001b[0m\u001b[0;34m\u001b[0m\u001b[0m\n\u001b[0m\u001b[1;32m    545\u001b[0m         \u001b[0mscore_time\u001b[0m \u001b[0;34m=\u001b[0m \u001b[0mtime\u001b[0m\u001b[0;34m.\u001b[0m\u001b[0mtime\u001b[0m\u001b[0;34m(\u001b[0m\u001b[0;34m)\u001b[0m \u001b[0;34m-\u001b[0m \u001b[0mstart_time\u001b[0m \u001b[0;34m-\u001b[0m \u001b[0mfit_time\u001b[0m\u001b[0;34m\u001b[0m\u001b[0;34m\u001b[0m\u001b[0m\n\u001b[1;32m    546\u001b[0m         \u001b[0;32mif\u001b[0m \u001b[0mreturn_train_score\u001b[0m\u001b[0;34m:\u001b[0m\u001b[0;34m\u001b[0m\u001b[0;34m\u001b[0m\u001b[0m\n",
      "\u001b[0;32m/usr/local/lib/python3.6/dist-packages/sklearn/model_selection/_validation.py\u001b[0m in \u001b[0;36m_score\u001b[0;34m(estimator, X_test, y_test, scorer)\u001b[0m\n\u001b[1;32m    589\u001b[0m         \u001b[0mscores\u001b[0m \u001b[0;34m=\u001b[0m \u001b[0mscorer\u001b[0m\u001b[0;34m(\u001b[0m\u001b[0mestimator\u001b[0m\u001b[0;34m,\u001b[0m \u001b[0mX_test\u001b[0m\u001b[0;34m)\u001b[0m\u001b[0;34m\u001b[0m\u001b[0;34m\u001b[0m\u001b[0m\n\u001b[1;32m    590\u001b[0m     \u001b[0;32melse\u001b[0m\u001b[0;34m:\u001b[0m\u001b[0;34m\u001b[0m\u001b[0;34m\u001b[0m\u001b[0m\n\u001b[0;32m--> 591\u001b[0;31m         \u001b[0mscores\u001b[0m \u001b[0;34m=\u001b[0m \u001b[0mscorer\u001b[0m\u001b[0;34m(\u001b[0m\u001b[0mestimator\u001b[0m\u001b[0;34m,\u001b[0m \u001b[0mX_test\u001b[0m\u001b[0;34m,\u001b[0m \u001b[0my_test\u001b[0m\u001b[0;34m)\u001b[0m\u001b[0;34m\u001b[0m\u001b[0;34m\u001b[0m\u001b[0m\n\u001b[0m\u001b[1;32m    592\u001b[0m \u001b[0;34m\u001b[0m\u001b[0m\n\u001b[1;32m    593\u001b[0m     error_msg = (\"scoring must return a number, got %s (%s) \"\n",
      "\u001b[0;32m/usr/local/lib/python3.6/dist-packages/sklearn/metrics/_scorer.py\u001b[0m in \u001b[0;36m__call__\u001b[0;34m(self, estimator, *args, **kwargs)\u001b[0m\n\u001b[1;32m     85\u001b[0m             \u001b[0;32mif\u001b[0m \u001b[0misinstance\u001b[0m\u001b[0;34m(\u001b[0m\u001b[0mscorer\u001b[0m\u001b[0;34m,\u001b[0m \u001b[0m_BaseScorer\u001b[0m\u001b[0;34m)\u001b[0m\u001b[0;34m:\u001b[0m\u001b[0;34m\u001b[0m\u001b[0;34m\u001b[0m\u001b[0m\n\u001b[1;32m     86\u001b[0m                 score = scorer._score(cached_call, estimator,\n\u001b[0;32m---> 87\u001b[0;31m                                       *args, **kwargs)\n\u001b[0m\u001b[1;32m     88\u001b[0m             \u001b[0;32melse\u001b[0m\u001b[0;34m:\u001b[0m\u001b[0;34m\u001b[0m\u001b[0;34m\u001b[0m\u001b[0m\n\u001b[1;32m     89\u001b[0m                 \u001b[0mscore\u001b[0m \u001b[0;34m=\u001b[0m \u001b[0mscorer\u001b[0m\u001b[0;34m(\u001b[0m\u001b[0mestimator\u001b[0m\u001b[0;34m,\u001b[0m \u001b[0;34m*\u001b[0m\u001b[0margs\u001b[0m\u001b[0;34m,\u001b[0m \u001b[0;34m**\u001b[0m\u001b[0mkwargs\u001b[0m\u001b[0;34m)\u001b[0m\u001b[0;34m\u001b[0m\u001b[0;34m\u001b[0m\u001b[0m\n",
      "\u001b[0;32m/usr/local/lib/python3.6/dist-packages/sklearn/metrics/_scorer.py\u001b[0m in \u001b[0;36m_score\u001b[0;34m(self, method_caller, clf, X, y, sample_weight)\u001b[0m\n\u001b[1;32m    311\u001b[0m \u001b[0;34m\u001b[0m\u001b[0m\n\u001b[1;32m    312\u001b[0m             \u001b[0;32mexcept\u001b[0m \u001b[0;34m(\u001b[0m\u001b[0mNotImplementedError\u001b[0m\u001b[0;34m,\u001b[0m \u001b[0mAttributeError\u001b[0m\u001b[0;34m)\u001b[0m\u001b[0;34m:\u001b[0m\u001b[0;34m\u001b[0m\u001b[0;34m\u001b[0m\u001b[0m\n\u001b[0;32m--> 313\u001b[0;31m                 \u001b[0my_pred\u001b[0m \u001b[0;34m=\u001b[0m \u001b[0mmethod_caller\u001b[0m\u001b[0;34m(\u001b[0m\u001b[0mclf\u001b[0m\u001b[0;34m,\u001b[0m \u001b[0;34m\"predict_proba\"\u001b[0m\u001b[0;34m,\u001b[0m \u001b[0mX\u001b[0m\u001b[0;34m)\u001b[0m\u001b[0;34m\u001b[0m\u001b[0;34m\u001b[0m\u001b[0m\n\u001b[0m\u001b[1;32m    314\u001b[0m \u001b[0;34m\u001b[0m\u001b[0m\n\u001b[1;32m    315\u001b[0m                 \u001b[0;32mif\u001b[0m \u001b[0my_type\u001b[0m \u001b[0;34m==\u001b[0m \u001b[0;34m\"binary\"\u001b[0m\u001b[0;34m:\u001b[0m\u001b[0;34m\u001b[0m\u001b[0;34m\u001b[0m\u001b[0m\n",
      "\u001b[0;32m/usr/local/lib/python3.6/dist-packages/sklearn/metrics/_scorer.py\u001b[0m in \u001b[0;36m_cached_call\u001b[0;34m(cache, estimator, method, *args, **kwargs)\u001b[0m\n\u001b[1;32m     50\u001b[0m     \u001b[0;34m\"\"\"Call estimator with method and args and kwargs.\"\"\"\u001b[0m\u001b[0;34m\u001b[0m\u001b[0;34m\u001b[0m\u001b[0m\n\u001b[1;32m     51\u001b[0m     \u001b[0;32mif\u001b[0m \u001b[0mcache\u001b[0m \u001b[0;32mis\u001b[0m \u001b[0;32mNone\u001b[0m\u001b[0;34m:\u001b[0m\u001b[0;34m\u001b[0m\u001b[0;34m\u001b[0m\u001b[0m\n\u001b[0;32m---> 52\u001b[0;31m         \u001b[0;32mreturn\u001b[0m \u001b[0mgetattr\u001b[0m\u001b[0;34m(\u001b[0m\u001b[0mestimator\u001b[0m\u001b[0;34m,\u001b[0m \u001b[0mmethod\u001b[0m\u001b[0;34m)\u001b[0m\u001b[0;34m(\u001b[0m\u001b[0;34m*\u001b[0m\u001b[0margs\u001b[0m\u001b[0;34m,\u001b[0m \u001b[0;34m**\u001b[0m\u001b[0mkwargs\u001b[0m\u001b[0;34m)\u001b[0m\u001b[0;34m\u001b[0m\u001b[0;34m\u001b[0m\u001b[0m\n\u001b[0m\u001b[1;32m     53\u001b[0m \u001b[0;34m\u001b[0m\u001b[0m\n\u001b[1;32m     54\u001b[0m     \u001b[0;32mtry\u001b[0m\u001b[0;34m:\u001b[0m\u001b[0;34m\u001b[0m\u001b[0;34m\u001b[0m\u001b[0m\n",
      "\u001b[0;32m/usr/local/lib/python3.6/dist-packages/lightgbm/sklearn.py\u001b[0m in \u001b[0;36mpredict_proba\u001b[0;34m(self, X, raw_score, num_iteration, pred_leaf, pred_contrib, **kwargs)\u001b[0m\n\u001b[1;32m    798\u001b[0m         \"\"\"\n\u001b[1;32m    799\u001b[0m         result = super(LGBMClassifier, self).predict(X, raw_score, num_iteration,\n\u001b[0;32m--> 800\u001b[0;31m                                                      pred_leaf, pred_contrib, **kwargs)\n\u001b[0m\u001b[1;32m    801\u001b[0m         \u001b[0;32mif\u001b[0m \u001b[0mself\u001b[0m\u001b[0;34m.\u001b[0m\u001b[0m_n_classes\u001b[0m \u001b[0;34m>\u001b[0m \u001b[0;36m2\u001b[0m \u001b[0;32mor\u001b[0m \u001b[0mraw_score\u001b[0m \u001b[0;32mor\u001b[0m \u001b[0mpred_leaf\u001b[0m \u001b[0;32mor\u001b[0m \u001b[0mpred_contrib\u001b[0m\u001b[0;34m:\u001b[0m\u001b[0;34m\u001b[0m\u001b[0;34m\u001b[0m\u001b[0m\n\u001b[1;32m    802\u001b[0m             \u001b[0;32mreturn\u001b[0m \u001b[0mresult\u001b[0m\u001b[0;34m\u001b[0m\u001b[0;34m\u001b[0m\u001b[0m\n",
      "\u001b[0;32m/usr/local/lib/python3.6/dist-packages/lightgbm/sklearn.py\u001b[0m in \u001b[0;36mpredict\u001b[0;34m(self, X, raw_score, num_iteration, pred_leaf, pred_contrib, **kwargs)\u001b[0m\n\u001b[1;32m    605\u001b[0m                              % (self._n_features, n_features))\n\u001b[1;32m    606\u001b[0m         return self.booster_.predict(X, raw_score=raw_score, num_iteration=num_iteration,\n\u001b[0;32m--> 607\u001b[0;31m                                      pred_leaf=pred_leaf, pred_contrib=pred_contrib, **kwargs)\n\u001b[0m\u001b[1;32m    608\u001b[0m \u001b[0;34m\u001b[0m\u001b[0m\n\u001b[1;32m    609\u001b[0m     \u001b[0;34m@\u001b[0m\u001b[0mproperty\u001b[0m\u001b[0;34m\u001b[0m\u001b[0;34m\u001b[0m\u001b[0m\n",
      "\u001b[0;32m/usr/local/lib/python3.6/dist-packages/lightgbm/basic.py\u001b[0m in \u001b[0;36mpredict\u001b[0;34m(self, data, num_iteration, raw_score, pred_leaf, pred_contrib, data_has_header, is_reshape, **kwargs)\u001b[0m\n\u001b[1;32m   2201\u001b[0m         return predictor.predict(data, num_iteration,\n\u001b[1;32m   2202\u001b[0m                                  \u001b[0mraw_score\u001b[0m\u001b[0;34m,\u001b[0m \u001b[0mpred_leaf\u001b[0m\u001b[0;34m,\u001b[0m \u001b[0mpred_contrib\u001b[0m\u001b[0;34m,\u001b[0m\u001b[0;34m\u001b[0m\u001b[0;34m\u001b[0m\u001b[0m\n\u001b[0;32m-> 2203\u001b[0;31m                                  data_has_header, is_reshape)\n\u001b[0m\u001b[1;32m   2204\u001b[0m \u001b[0;34m\u001b[0m\u001b[0m\n\u001b[1;32m   2205\u001b[0m     \u001b[0;32mdef\u001b[0m \u001b[0mrefit\u001b[0m\u001b[0;34m(\u001b[0m\u001b[0mself\u001b[0m\u001b[0;34m,\u001b[0m \u001b[0mdata\u001b[0m\u001b[0;34m,\u001b[0m \u001b[0mlabel\u001b[0m\u001b[0;34m,\u001b[0m \u001b[0mdecay_rate\u001b[0m\u001b[0;34m=\u001b[0m\u001b[0;36m0.9\u001b[0m\u001b[0;34m,\u001b[0m \u001b[0;34m**\u001b[0m\u001b[0mkwargs\u001b[0m\u001b[0;34m)\u001b[0m\u001b[0;34m:\u001b[0m\u001b[0;34m\u001b[0m\u001b[0;34m\u001b[0m\u001b[0m\n",
      "\u001b[0;32m/usr/local/lib/python3.6/dist-packages/lightgbm/basic.py\u001b[0m in \u001b[0;36mpredict\u001b[0;34m(self, data, num_iteration, raw_score, pred_leaf, pred_contrib, data_has_header, is_reshape)\u001b[0m\n\u001b[1;32m    465\u001b[0m             \u001b[0mpreds\u001b[0m\u001b[0;34m,\u001b[0m \u001b[0mnrow\u001b[0m \u001b[0;34m=\u001b[0m \u001b[0mself\u001b[0m\u001b[0;34m.\u001b[0m\u001b[0m__pred_for_csc\u001b[0m\u001b[0;34m(\u001b[0m\u001b[0mdata\u001b[0m\u001b[0;34m,\u001b[0m \u001b[0mnum_iteration\u001b[0m\u001b[0;34m,\u001b[0m \u001b[0mpredict_type\u001b[0m\u001b[0;34m)\u001b[0m\u001b[0;34m\u001b[0m\u001b[0;34m\u001b[0m\u001b[0m\n\u001b[1;32m    466\u001b[0m         \u001b[0;32melif\u001b[0m \u001b[0misinstance\u001b[0m\u001b[0;34m(\u001b[0m\u001b[0mdata\u001b[0m\u001b[0;34m,\u001b[0m \u001b[0mnp\u001b[0m\u001b[0;34m.\u001b[0m\u001b[0mndarray\u001b[0m\u001b[0;34m)\u001b[0m\u001b[0;34m:\u001b[0m\u001b[0;34m\u001b[0m\u001b[0;34m\u001b[0m\u001b[0m\n\u001b[0;32m--> 467\u001b[0;31m             \u001b[0mpreds\u001b[0m\u001b[0;34m,\u001b[0m \u001b[0mnrow\u001b[0m \u001b[0;34m=\u001b[0m \u001b[0mself\u001b[0m\u001b[0;34m.\u001b[0m\u001b[0m__pred_for_np2d\u001b[0m\u001b[0;34m(\u001b[0m\u001b[0mdata\u001b[0m\u001b[0;34m,\u001b[0m \u001b[0mnum_iteration\u001b[0m\u001b[0;34m,\u001b[0m \u001b[0mpredict_type\u001b[0m\u001b[0;34m)\u001b[0m\u001b[0;34m\u001b[0m\u001b[0;34m\u001b[0m\u001b[0m\n\u001b[0m\u001b[1;32m    468\u001b[0m         \u001b[0;32melif\u001b[0m \u001b[0misinstance\u001b[0m\u001b[0;34m(\u001b[0m\u001b[0mdata\u001b[0m\u001b[0;34m,\u001b[0m \u001b[0mlist\u001b[0m\u001b[0;34m)\u001b[0m\u001b[0;34m:\u001b[0m\u001b[0;34m\u001b[0m\u001b[0;34m\u001b[0m\u001b[0m\n\u001b[1;32m    469\u001b[0m             \u001b[0;32mtry\u001b[0m\u001b[0;34m:\u001b[0m\u001b[0;34m\u001b[0m\u001b[0;34m\u001b[0m\u001b[0m\n",
      "\u001b[0;32m/usr/local/lib/python3.6/dist-packages/lightgbm/basic.py\u001b[0m in \u001b[0;36m__pred_for_np2d\u001b[0;34m(self, mat, num_iteration, predict_type)\u001b[0m\n\u001b[1;32m    554\u001b[0m             \u001b[0;32mreturn\u001b[0m \u001b[0mpreds\u001b[0m\u001b[0;34m,\u001b[0m \u001b[0mnrow\u001b[0m\u001b[0;34m\u001b[0m\u001b[0;34m\u001b[0m\u001b[0m\n\u001b[1;32m    555\u001b[0m         \u001b[0;32melse\u001b[0m\u001b[0;34m:\u001b[0m\u001b[0;34m\u001b[0m\u001b[0;34m\u001b[0m\u001b[0m\n\u001b[0;32m--> 556\u001b[0;31m             \u001b[0;32mreturn\u001b[0m \u001b[0minner_predict\u001b[0m\u001b[0;34m(\u001b[0m\u001b[0mmat\u001b[0m\u001b[0;34m,\u001b[0m \u001b[0mnum_iteration\u001b[0m\u001b[0;34m,\u001b[0m \u001b[0mpredict_type\u001b[0m\u001b[0;34m)\u001b[0m\u001b[0;34m\u001b[0m\u001b[0;34m\u001b[0m\u001b[0m\n\u001b[0m\u001b[1;32m    557\u001b[0m \u001b[0;34m\u001b[0m\u001b[0m\n\u001b[1;32m    558\u001b[0m     \u001b[0;32mdef\u001b[0m \u001b[0m__pred_for_csr\u001b[0m\u001b[0;34m(\u001b[0m\u001b[0mself\u001b[0m\u001b[0;34m,\u001b[0m \u001b[0mcsr\u001b[0m\u001b[0;34m,\u001b[0m \u001b[0mnum_iteration\u001b[0m\u001b[0;34m,\u001b[0m \u001b[0mpredict_type\u001b[0m\u001b[0;34m)\u001b[0m\u001b[0;34m:\u001b[0m\u001b[0;34m\u001b[0m\u001b[0;34m\u001b[0m\u001b[0m\n",
      "\u001b[0;32m/usr/local/lib/python3.6/dist-packages/lightgbm/basic.py\u001b[0m in \u001b[0;36minner_predict\u001b[0;34m(mat, num_iteration, predict_type, preds)\u001b[0m\n\u001b[1;32m    536\u001b[0m                 \u001b[0mc_str\u001b[0m\u001b[0;34m(\u001b[0m\u001b[0mself\u001b[0m\u001b[0;34m.\u001b[0m\u001b[0mpred_parameter\u001b[0m\u001b[0;34m)\u001b[0m\u001b[0;34m,\u001b[0m\u001b[0;34m\u001b[0m\u001b[0;34m\u001b[0m\u001b[0m\n\u001b[1;32m    537\u001b[0m                 \u001b[0mctypes\u001b[0m\u001b[0;34m.\u001b[0m\u001b[0mbyref\u001b[0m\u001b[0;34m(\u001b[0m\u001b[0mout_num_preds\u001b[0m\u001b[0;34m)\u001b[0m\u001b[0;34m,\u001b[0m\u001b[0;34m\u001b[0m\u001b[0;34m\u001b[0m\u001b[0m\n\u001b[0;32m--> 538\u001b[0;31m                 preds.ctypes.data_as(ctypes.POINTER(ctypes.c_double))))\n\u001b[0m\u001b[1;32m    539\u001b[0m             \u001b[0;32mif\u001b[0m \u001b[0mn_preds\u001b[0m \u001b[0;34m!=\u001b[0m \u001b[0mout_num_preds\u001b[0m\u001b[0;34m.\u001b[0m\u001b[0mvalue\u001b[0m\u001b[0;34m:\u001b[0m\u001b[0;34m\u001b[0m\u001b[0;34m\u001b[0m\u001b[0m\n\u001b[1;32m    540\u001b[0m                 \u001b[0;32mraise\u001b[0m \u001b[0mValueError\u001b[0m\u001b[0;34m(\u001b[0m\u001b[0;34m\"Wrong length for predict results\"\u001b[0m\u001b[0;34m)\u001b[0m\u001b[0;34m\u001b[0m\u001b[0;34m\u001b[0m\u001b[0m\n",
      "\u001b[0;31mKeyboardInterrupt\u001b[0m: "
     ]
    }
   ],
   "source": [
    "score_list=validation_cv([0,.2,.4,.6,.8,1])"
   ]
  },
  {
   "cell_type": "code",
   "execution_count": null,
   "metadata": {
    "colab": {},
    "colab_type": "code",
    "id": "NYbYG3dALatX"
   },
   "outputs": [],
   "source": []
  },
  {
   "cell_type": "code",
   "execution_count": null,
   "metadata": {
    "colab": {},
    "colab_type": "code",
    "id": "Dr7NWQ_sMZQc"
   },
   "outputs": [],
   "source": [
    "ind=[]\n",
    "for i in [0,.2,.4,.6,.8,1]:\n",
    "    ind.append((\"max_depth\"+str(28),\"reg_lambda\"+str(i)))"
   ]
  },
  {
   "cell_type": "code",
   "execution_count": null,
   "metadata": {
    "colab": {},
    "colab_type": "code",
    "id": "d915hNssMZQf"
   },
   "outputs": [],
   "source": [
    "index_to_be_used=pd.MultiIndex.from_tuples(ind,names=(\"subsample\",\"colsample_bytree\"))"
   ]
  },
  {
   "cell_type": "code",
   "execution_count": null,
   "metadata": {
    "colab": {},
    "colab_type": "code",
    "id": "8ngJQeWNMZQi"
   },
   "outputs": [],
   "source": [
    "validation_reg_lambda_df=pd.DataFrame(data=[i.mean() for i in score_list],index=index_to_be_used,columns=[\"mean\"])\n",
    "validation_reg_lambda_df[\"std\"]=[np.std(i,ddof=1) for i in score_list]"
   ]
  },
  {
   "cell_type": "code",
   "execution_count": null,
   "metadata": {
    "colab": {
     "base_uri": "https://localhost:8080/",
     "height": 266
    },
    "colab_type": "code",
    "executionInfo": {
     "elapsed": 1500,
     "status": "ok",
     "timestamp": 1591204839790,
     "user": {
      "displayName": "gokul mahendran",
      "photoUrl": "",
      "userId": "08734118555192468609"
     },
     "user_tz": -330
    },
    "id": "UBbvEIA7MZQk",
    "outputId": "249ec429-aab4-47ef-fc9d-d04338f47df2"
   },
   "outputs": [
    {
     "data": {
      "text/html": [
       "<div>\n",
       "<style scoped>\n",
       "    .dataframe tbody tr th:only-of-type {\n",
       "        vertical-align: middle;\n",
       "    }\n",
       "\n",
       "    .dataframe tbody tr th {\n",
       "        vertical-align: top;\n",
       "    }\n",
       "\n",
       "    .dataframe thead th {\n",
       "        text-align: right;\n",
       "    }\n",
       "</style>\n",
       "<table border=\"1\" class=\"dataframe\">\n",
       "  <thead>\n",
       "    <tr style=\"text-align: right;\">\n",
       "      <th></th>\n",
       "      <th></th>\n",
       "      <th>mean</th>\n",
       "      <th>std</th>\n",
       "    </tr>\n",
       "    <tr>\n",
       "      <th>subsample</th>\n",
       "      <th>colsample_bytree</th>\n",
       "      <th></th>\n",
       "      <th></th>\n",
       "    </tr>\n",
       "  </thead>\n",
       "  <tbody>\n",
       "    <tr>\n",
       "      <th rowspan=\"6\" valign=\"top\">max_depth28</th>\n",
       "      <th>reg_lambda0.8</th>\n",
       "      <td>0.669625</td>\n",
       "      <td>0.001511</td>\n",
       "    </tr>\n",
       "    <tr>\n",
       "      <th>reg_lambda0.4</th>\n",
       "      <td>0.669217</td>\n",
       "      <td>0.001584</td>\n",
       "    </tr>\n",
       "    <tr>\n",
       "      <th>reg_lambda1</th>\n",
       "      <td>0.669155</td>\n",
       "      <td>0.001422</td>\n",
       "    </tr>\n",
       "    <tr>\n",
       "      <th>reg_lambda0.2</th>\n",
       "      <td>0.669018</td>\n",
       "      <td>0.001773</td>\n",
       "    </tr>\n",
       "    <tr>\n",
       "      <th>reg_lambda0</th>\n",
       "      <td>0.668929</td>\n",
       "      <td>0.001536</td>\n",
       "    </tr>\n",
       "    <tr>\n",
       "      <th>reg_lambda0.6</th>\n",
       "      <td>0.668874</td>\n",
       "      <td>0.001653</td>\n",
       "    </tr>\n",
       "  </tbody>\n",
       "</table>\n",
       "</div>"
      ],
      "text/plain": [
       "                                  mean       std\n",
       "subsample   colsample_bytree                    \n",
       "max_depth28 reg_lambda0.8     0.669625  0.001511\n",
       "            reg_lambda0.4     0.669217  0.001584\n",
       "            reg_lambda1       0.669155  0.001422\n",
       "            reg_lambda0.2     0.669018  0.001773\n",
       "            reg_lambda0       0.668929  0.001536\n",
       "            reg_lambda0.6     0.668874  0.001653"
      ]
     },
     "execution_count": 110,
     "metadata": {
      "tags": []
     },
     "output_type": "execute_result"
    }
   ],
   "source": [
    "validation_reg_lambda_df.sort_values(by=\"mean\",ascending=False)"
   ]
  },
  {
   "cell_type": "code",
   "execution_count": null,
   "metadata": {
    "colab": {},
    "colab_type": "code",
    "id": "rzdWT2CrMvsZ"
   },
   "outputs": [],
   "source": [
    "#At reg_lambda=.8 we have best auc"
   ]
  }
 ],
 "metadata": {
  "colab": {
   "collapsed_sections": [],
   "name": "capstone_lgb_tuning.ipynb",
   "provenance": []
  },
  "kernelspec": {
   "display_name": "Python 3",
   "language": "python",
   "name": "python3"
  },
  "language_info": {
   "codemirror_mode": {
    "name": "ipython",
    "version": 3
   },
   "file_extension": ".py",
   "mimetype": "text/x-python",
   "name": "python",
   "nbconvert_exporter": "python",
   "pygments_lexer": "ipython3",
   "version": "3.7.4"
  }
 },
 "nbformat": 4,
 "nbformat_minor": 1
}
